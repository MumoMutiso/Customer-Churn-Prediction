{
 "cells": [
  {
   "cell_type": "markdown",
   "id": "d18cf1f2-cf37-49c0-ae3a-1127267c16d8",
   "metadata": {},
   "source": [
<<<<<<< HEAD
    "<center><h1 style=\"text-decoration: underline;\">A Customer Churn Prediction</h1></center>\n",
    "\n",
    "### Project Scenario\n",
    "Every company wants to increase its profit or revenue margin and customer retention is one key area industry players focus their resources. In today's world of machine learning, most companies build classification models to perform churn analysis on their customers. \n",
    "\n",
    "Classification in machine learning and statistics entails a supervised learning approach where the computer program learns from provided data to make new observations or classifications. The primary objective is to determine the class or category into which new data points will fall. In this project scenario, an elaborate analysis will be conducted to train at least four models for predicting customer churn in a telecom company. This analysis will adhere to the **CRISP-DM framework**, ensuring a structured and systematic approach to model development and evaluation.\n",
    "\n",
    "##### <h1 style=\"text-decoration: underline;\">Hypothesis Testing</h1>\n",
    "### Hypothesis1\n",
    "***Null Hypothesis(Ho)***: Customers with longer tenure (number of months stayed with the company) are more likely to churn compared to new customers.\n",
    "\n",
    "***Alternative Hypothesis(Ha)***:  Customers with longer tenure (number of months stayed with the company) are less likely to churn compared to new customers.\n",
    "\n",
    "\n",
    "### Hypothesis2\n",
    "***Null Hypothesis(Ho)***: Customers with higher monthly charges (MonthlyCharges) are more likely to churn due to cost considerations.\n",
    "\n",
    "***Alternative Hypothesis(Ha)***: Customers with higher monthly charges (MonthlyCharges) are less likely to churn due to cost considerations.\n",
    "\n",
    "##### <h1 style=\"text-decoration: underline;\">Business Questions</h1>\n",
    "\n",
=======
    "# A Customer Churn Prediction\n",
    "### Project Scenario\n",
    "Every company wants to increase its profit or revenue margin and customer retention is one key area industry players focus their resources. In today's world of machine learning, most companies build classification models to perform churn analysis on their customers. \n",
    "\n",
    "Classification in machine learning and statistics entails a supervised learning approach where the computer program learns from provided data to make new observations or classifications. The primary objective is to determine the class or category into which new data points will fall. In this project scenario, an elaborate analysis will be conducted to train at least four models for predicting customer churn in a telecom company. This analysis will adhere to the **CRISP-DM framework**, ensuring a structured and systematic approach to model development and evaluation."
   ]
  },
  {
   "cell_type": "markdown",
   "id": "66896bd6",
   "metadata": {},
   "source": [
    "##### In this project I will be using the CRISP-DM Frame work for analysis\n",
    "##### <h1 style=\"text-decoration: underline;\">Business Understanding</h1>\n",
    "\n",
    "***Objective:***\n",
    "\n",
    "The primary objective of this project is to develop a classification model for churn analysis to aid in customer retention efforts. Churn analysis focuses on predicting whether customers are likely to leave or continue their relationship with the company. By identifying customers at risk of churning, the company can take proactive measures to retain them, thus increasing revenue and profit margins.\n",
    "\n",
    "***Background:***\n",
    "\n",
    "In today's competitive b**usiness landscape, customer retention is paramount for sustaining profitability and growth. Retaining existing customers is often more cost-effective than acquiring new ones. Churn analysis leverages machine learning and statistical techniques to predict customer behavior and identify potential churners before they defect to competitors.\n",
    "\n",
    "***Data Description:***\n",
    "\n",
    "The project will utilize historical data encompassing various customer attributes, transactional details, and behavioral patterns. These may include demographic information, purchase history, engagement metrics, customer service interactions, and any other relevant data points. The dataset will be sufficiently large and diverse to capture the complexities of customer behavior across different segments.\n",
    "\n",
    "***Methodology:***\n",
    "\n",
    "The project will employ a supervised learning approach, specifically classification algorithms, to train predictive models. These models will learn from past instances of churn and non-churn events to classify new customers accordingly. Various classification algorithms such as logistic regression, decision trees, random forests, and gradient boosting will be explored to identify the most effective model for the given dataset.\n",
    "\n",
    "***Key Deliverables:***\n",
    "\n",
    "1. Churn Prediction Model: A robust machine learning model capable of accurately predicting customer churn based on input features.\n",
    "2. Feature Importance Analysis: Identification of the most influential factors driving churn, providing actionable insights for targeted retention strategies.\n",
    "3. Model Evaluation: Rigorous evaluation of model performance using appropriate metrics such as accuracy, precision, recall, and F1-score. The model will be validated using techniques like cross-validation and holdout validation to ensure generalizability.\n",
    "4. Deployment Strategy: Recommendations for integrating the churn prediction model into the company's existing systems or workflows for real-time monitoring and intervention.\n",
    "\n",
    "***Expected Outcomes:***\n",
    "\n",
    "By leveraging the insights gained from the churn analysis model, the company expects to:\n",
    "\n",
    "- Proactively identify customers at risk of churn.\n",
    "- Tailor retention strategies and incentives to address specific customer needs and pain points.\n",
    "- Optimize resource allocation by focusing retention efforts on high-value customers with the highest churn propensity.\n",
    "- Ultimately, improve overall customer retention rates, thereby enhancing long-term profitability and competitiveness in the market.\n",
    "\n",
    "***Conclusion:***\n",
    "\n",
    "Churn analysis represents a strategic initiative aimed at leveraging data-driven insights to mitigate customer attrition and foster long-term loyalty. By harnessing the power of classification models, the company endeavors to enhance customer retention efforts, drive sustainable revenue growth, and maintain a competitive edge in the dynamic marketplace.\n",
    "\n",
    "### Hypothesis\n",
    "Hypothesis 1\n",
    "Null Hypothesis (Ho): Customers with longer tenure (number of months stayed with the company) are more likely to churn compared to new customers.\n",
    "\n",
    "\n",
    "Alternative Hypothesis (Ha): Customers with longer tenure (number of months stayed with the company) are less likely to churn compared to new customers.\n",
    "\n",
    "Hypothesis 2\n",
    "Null Hypothesis (Ho): Customers with higher monthly charges (MonthlyCharges) are more likely to churn due to cost considerations.\n",
    "\n",
    "Alternative Hypothesis (Ha): Customers with higher monthly charges (MonthlyCharges) are less likely to churn due to cost considerations.\n",
    "\n",
    "### Business Questions\n",
>>>>>>> 3f3b77ef44614fdfaf8118faf47d0d0d9d6f8c5e
    "1. What is the average tenure of customers who churned compared to those who stayed?\n",
    "2. Do customers with partners or dependents have a lower churn rate?\n",
    "3. How does the presence of multiple lines affect customer churn?\n",
    "4. Is there a correlation between the contract term (Contract) and customer churn?\n",
    "5. What are the common payment methods (Payment Method) among customers who churned?\n",
    "6. How does the availability of tech-related services (e.g., OnlineSecurity, TechSupport) impact churn rates?\n",
    "7. What percentage of customers who churned had streaming services (StreamingTV, StreamingMovies)?\n",
    "8. Is there a difference in churn rates between senior citizens and non-senior citizens?\n",
    "9. How does the total amount charged to customers (TotalCharges) correlate with churn behavior?\n",
    "10. How does the contract affect churn rates?"
<<<<<<< HEAD
   ]
  },
  {
   "cell_type": "markdown",
   "metadata": {},
   "source": [
    "## ***Import necessary libraries***"
=======
>>>>>>> 3f3b77ef44614fdfaf8118faf47d0d0d9d6f8c5e
   ]
  },
  {
   "cell_type": "code",
<<<<<<< HEAD
   "execution_count": 75,
=======
   "execution_count": 1,
   "id": "03371a7e",
>>>>>>> 3f3b77ef44614fdfaf8118faf47d0d0d9d6f8c5e
   "metadata": {},
   "outputs": [
    {
     "name": "stdout",
     "output_type": "stream",
     "text": [
      "🛬 Imported all packages. Warnings hidden. 👻\n"
     ]
    }
   ],
   "source": [
    "from dotenv import dotenv_values \n",
    "import pyodbc \n",
    "import numpy as np\n",
<<<<<<< HEAD
    "import seaborn as sns\n",
    "import matplotlib.pyplot as plt\n",
    "import warnings \n",
=======
    "import pandas as pd                          \n",
    "import seaborn as sns\n",
    "import matplotlib.pyplot as plt\n",
    "from sklearn.preprocessing import LabelEncoder\n",
    "from sklearn.preprocessing import OneHotEncoder\n",
    "import plotly.express as px\n",
    "import warnings\n",
    "warnings.filterwarnings('ignore')\n",
>>>>>>> 3f3b77ef44614fdfaf8118faf47d0d0d9d6f8c5e
    "\n",
    "print(\"🛬 Imported all packages.\", \"Warnings hidden. 👻\")"
   ]
  },
  {
   "cell_type": "markdown",
   "id": "f64fae70",
   "metadata": {},
   "source": [
    "## Step 2 - Data Understanding\n",
    "The data for this project is in differnt files and will be loaded into the notebook. The following describes the columns present in the data.\n",
    "\n",
    "Gender -- Whether the customer is a male or a female\n",
    "\n",
    "SeniorCitizen -- Whether a customer is a senior citizen or not\n",
    "\n",
    "Partner -- Whether the customer has a partner or not (Yes, No)\n",
    "\n",
    "Dependents -- Whether the customer has dependents or not (Yes, No)\n",
    "\n",
    "Tenure -- Number of months the customer has stayed with the company\n",
    "\n",
    "Phone Service -- Whether the customer has a phone service or not (Yes, No)\n",
    "\n",
    "MultipleLines -- Whether the customer has multiple lines or not\n",
    "\n",
    "InternetService -- Customer's internet service provider (DSL, Fiber Optic, No)\n",
    "\n",
    "OnlineSecurity -- Whether the customer has online security or not (Yes, No, No Internet)\n",
    "\n",
    "OnlineBackup -- Whether the customer has online backup or not (Yes, No, No Internet)\n",
    "\n",
    "DeviceProtection -- Whether the customer has device protection or not (Yes, No, No internet service)\n",
    "\n",
    "TechSupport -- Whether the customer has tech support or not (Yes, No, No internet)\n",
    "\n",
    "StreamingTV -- Whether the customer has streaming TV or not (Yes, No, No internet service)\n",
    "\n",
    "StreamingMovies -- Whether the customer has streaming movies or not (Yes, No, No Internet service)\n",
    "\n",
    "Contract -- The contract term of the customer (Month-to-Month, One year, Two year)\n",
    "\n",
    "PaperlessBilling -- Whether the customer has paperless billing or not (Yes, No)\n",
    "\n",
    "Payment Method -- The customer's payment method (Electronic check, mailed check, Bank transfer(automatic), Credit card(automatic))\n",
    "\n",
    "MonthlyCharges -- The amount charged to the customer monthly\n",
    "\n",
    "TotalCharges -- The total amount charged to the customer\n",
    "\n",
    "Churn -- Whether the customer churned or not (Yes or No)"
   ]
  },
  {
   "cell_type": "markdown",
   "id": "7a39d5c1",
   "metadata": {},
   "source": [
    "#### First Dataset\n",
    "I'm using Python's dotenv with a .env file to safely fetch the first dataset from a SQL database into my notebook. This keeps my database credentials private while allowing easy access to the data for analysis."
   ]
  },
  {
   "cell_type": "code",
<<<<<<< HEAD
   "execution_count": 76,
=======
   "execution_count": 2,
   "id": "22785d86",
>>>>>>> 3f3b77ef44614fdfaf8118faf47d0d0d9d6f8c5e
   "metadata": {},
   "outputs": [],
   "source": [
    "# Load environment variables from .env file into a dictionary\n",
    "environment_variables = dotenv_values('.env')\n",
    "\n",
    "# Get the values for the credentials you set in the '.env' file\n",
    "server = environment_variables.get(\"SERVER\")\n",
    "database = environment_variables.get(\"DATABASE\")\n",
    "username = environment_variables.get(\"USERNAME\")\n",
    "password = environment_variables.get(\"PASSWORD\")"
   ]
  },
  {
   "cell_type": "code",
<<<<<<< HEAD
   "execution_count": 77,
=======
   "execution_count": 3,
   "id": "b40a7fb2",
>>>>>>> 3f3b77ef44614fdfaf8118faf47d0d0d9d6f8c5e
   "metadata": {},
   "outputs": [],
   "source": [
    "# Create a connection string\n",
    "connection_string = f\"DRIVER={{SQL Server}};SERVER={server};DATABASE={database};UID={username};PWD={password};MARS_Connection=yes;MinProtocolVersion=TLSv1.2;\""
   ]
  },
  {
   "cell_type": "code",
<<<<<<< HEAD
   "execution_count": 78,
=======
   "execution_count": 4,
   "id": "546d467d",
>>>>>>> 3f3b77ef44614fdfaf8118faf47d0d0d9d6f8c5e
   "metadata": {},
   "outputs": [],
   "source": [
    "# Use the connect method of the pyodbc library and pass in the connection string.\n",
    "\n",
    "connection = pyodbc.connect(connection_string)"
   ]
  },
  {
   "cell_type": "code",
<<<<<<< HEAD
   "execution_count": 79,
=======
   "execution_count": 5,
   "id": "8fa39f87",
   "metadata": {},
   "outputs": [],
   "source": [
    "# Sql query to get the 2020 data\n",
    "query = \"Select * FROM LP2_Telco_churn_first_3000\"\n",
    "First_Dataset = pd.read_sql(query, connection)"
   ]
  },
  {
   "cell_type": "code",
   "execution_count": 6,
   "id": "75982cda",
>>>>>>> 3f3b77ef44614fdfaf8118faf47d0d0d9d6f8c5e
   "metadata": {},
   "outputs": [
    {
     "data": {
      "text/html": [
       "<div>\n",
       "<style scoped>\n",
       "    .dataframe tbody tr th:only-of-type {\n",
       "        vertical-align: middle;\n",
       "    }\n",
       "\n",
       "    .dataframe tbody tr th {\n",
       "        vertical-align: top;\n",
       "    }\n",
       "\n",
       "    .dataframe thead th {\n",
       "        text-align: right;\n",
       "    }\n",
       "</style>\n",
       "<table border=\"1\" class=\"dataframe\">\n",
       "  <thead>\n",
       "    <tr style=\"text-align: right;\">\n",
       "      <th></th>\n",
       "      <th>customerID</th>\n",
       "      <th>gender</th>\n",
       "      <th>SeniorCitizen</th>\n",
       "      <th>Partner</th>\n",
       "      <th>Dependents</th>\n",
       "      <th>tenure</th>\n",
       "      <th>PhoneService</th>\n",
       "      <th>MultipleLines</th>\n",
       "      <th>InternetService</th>\n",
       "      <th>OnlineSecurity</th>\n",
       "      <th>...</th>\n",
       "      <th>DeviceProtection</th>\n",
       "      <th>TechSupport</th>\n",
       "      <th>StreamingTV</th>\n",
       "      <th>StreamingMovies</th>\n",
       "      <th>Contract</th>\n",
       "      <th>PaperlessBilling</th>\n",
       "      <th>PaymentMethod</th>\n",
       "      <th>MonthlyCharges</th>\n",
       "      <th>TotalCharges</th>\n",
       "      <th>Churn</th>\n",
       "    </tr>\n",
       "  </thead>\n",
       "  <tbody>\n",
       "    <tr>\n",
       "      <th>0</th>\n",
       "      <td>7590-VHVEG</td>\n",
       "      <td>Female</td>\n",
       "      <td>False</td>\n",
       "      <td>True</td>\n",
       "      <td>False</td>\n",
       "      <td>1</td>\n",
       "      <td>False</td>\n",
       "      <td>None</td>\n",
       "      <td>DSL</td>\n",
       "      <td>False</td>\n",
       "      <td>...</td>\n",
       "      <td>False</td>\n",
       "      <td>False</td>\n",
       "      <td>False</td>\n",
       "      <td>False</td>\n",
       "      <td>Month-to-month</td>\n",
       "      <td>True</td>\n",
       "      <td>Electronic check</td>\n",
       "      <td>29.850000</td>\n",
       "      <td>29.85</td>\n",
       "      <td>False</td>\n",
       "    </tr>\n",
       "    <tr>\n",
       "      <th>1</th>\n",
       "      <td>5575-GNVDE</td>\n",
       "      <td>Male</td>\n",
       "      <td>False</td>\n",
       "      <td>False</td>\n",
       "      <td>False</td>\n",
       "      <td>34</td>\n",
       "      <td>True</td>\n",
       "      <td>False</td>\n",
       "      <td>DSL</td>\n",
       "      <td>True</td>\n",
       "      <td>...</td>\n",
       "      <td>True</td>\n",
       "      <td>False</td>\n",
       "      <td>False</td>\n",
       "      <td>False</td>\n",
       "      <td>One year</td>\n",
       "      <td>False</td>\n",
       "      <td>Mailed check</td>\n",
       "      <td>56.950001</td>\n",
       "      <td>1889.50</td>\n",
       "      <td>False</td>\n",
       "    </tr>\n",
       "  </tbody>\n",
       "</table>\n",
       "<p>2 rows × 21 columns</p>\n",
       "</div>"
      ],
      "text/plain": [
       "   customerID  gender  SeniorCitizen  Partner  Dependents  tenure  \\\n",
       "0  7590-VHVEG  Female          False     True       False       1   \n",
       "1  5575-GNVDE    Male          False    False       False      34   \n",
       "\n",
       "   PhoneService MultipleLines InternetService OnlineSecurity  ...  \\\n",
       "0         False          None             DSL          False  ...   \n",
       "1          True         False             DSL           True  ...   \n",
       "\n",
       "  DeviceProtection TechSupport StreamingTV StreamingMovies        Contract  \\\n",
       "0            False       False       False           False  Month-to-month   \n",
       "1             True       False       False           False        One year   \n",
       "\n",
       "  PaperlessBilling     PaymentMethod MonthlyCharges  TotalCharges  Churn  \n",
       "0             True  Electronic check      29.850000         29.85  False  \n",
       "1            False      Mailed check      56.950001       1889.50  False  \n",
       "\n",
       "[2 rows x 21 columns]"
      ]
     },
<<<<<<< HEAD
     "execution_count": 79,
=======
     "execution_count": 6,
>>>>>>> 3f3b77ef44614fdfaf8118faf47d0d0d9d6f8c5e
     "metadata": {},
     "output_type": "execute_result"
    }
   ],
   "source": [
    "# Preview of the first Data set \n",
    "First_Dataset.head(2)"
   ]
  },
  {
   "cell_type": "code",
<<<<<<< HEAD
   "execution_count": 80,
   "metadata": {},
   "outputs": [
    {
     "data": {
      "text/html": [
       "<div>\n",
       "<style scoped>\n",
       "    .dataframe tbody tr th:only-of-type {\n",
       "        vertical-align: middle;\n",
       "    }\n",
       "\n",
       "    .dataframe tbody tr th {\n",
       "        vertical-align: top;\n",
       "    }\n",
       "\n",
       "    .dataframe thead th {\n",
       "        text-align: right;\n",
       "    }\n",
       "</style>\n",
       "<table border=\"1\" class=\"dataframe\">\n",
       "  <thead>\n",
       "    <tr style=\"text-align: right;\">\n",
       "      <th></th>\n",
       "      <th>customerID</th>\n",
       "      <th>gender</th>\n",
       "      <th>SeniorCitizen</th>\n",
       "      <th>Partner</th>\n",
       "      <th>Dependents</th>\n",
       "      <th>tenure</th>\n",
       "      <th>PhoneService</th>\n",
       "      <th>MultipleLines</th>\n",
       "      <th>InternetService</th>\n",
       "      <th>OnlineSecurity</th>\n",
       "      <th>...</th>\n",
       "      <th>DeviceProtection</th>\n",
       "      <th>TechSupport</th>\n",
       "      <th>StreamingTV</th>\n",
       "      <th>StreamingMovies</th>\n",
       "      <th>Contract</th>\n",
       "      <th>PaperlessBilling</th>\n",
       "      <th>PaymentMethod</th>\n",
       "      <th>MonthlyCharges</th>\n",
       "      <th>TotalCharges</th>\n",
       "      <th>Churn</th>\n",
       "    </tr>\n",
       "  </thead>\n",
       "  <tbody>\n",
       "    <tr>\n",
       "      <th>0</th>\n",
       "      <td>7590-VHVEG</td>\n",
       "      <td>Female</td>\n",
       "      <td>False</td>\n",
       "      <td>True</td>\n",
       "      <td>False</td>\n",
       "      <td>1</td>\n",
       "      <td>False</td>\n",
       "      <td>None</td>\n",
       "      <td>DSL</td>\n",
       "      <td>False</td>\n",
       "      <td>...</td>\n",
       "      <td>False</td>\n",
       "      <td>False</td>\n",
       "      <td>False</td>\n",
       "      <td>False</td>\n",
       "      <td>Month-to-month</td>\n",
       "      <td>True</td>\n",
       "      <td>Electronic check</td>\n",
       "      <td>29.850000</td>\n",
       "      <td>29.850000</td>\n",
       "      <td>False</td>\n",
       "    </tr>\n",
       "    <tr>\n",
       "      <th>1</th>\n",
       "      <td>5575-GNVDE</td>\n",
       "      <td>Male</td>\n",
       "      <td>False</td>\n",
       "      <td>False</td>\n",
       "      <td>False</td>\n",
       "      <td>34</td>\n",
       "      <td>True</td>\n",
       "      <td>False</td>\n",
       "      <td>DSL</td>\n",
       "      <td>True</td>\n",
       "      <td>...</td>\n",
       "      <td>True</td>\n",
       "      <td>False</td>\n",
       "      <td>False</td>\n",
       "      <td>False</td>\n",
       "      <td>One year</td>\n",
       "      <td>False</td>\n",
       "      <td>Mailed check</td>\n",
       "      <td>56.950001</td>\n",
       "      <td>1889.500000</td>\n",
       "      <td>False</td>\n",
       "    </tr>\n",
       "    <tr>\n",
       "      <th>2</th>\n",
       "      <td>3668-QPYBK</td>\n",
       "      <td>Male</td>\n",
       "      <td>False</td>\n",
       "      <td>False</td>\n",
       "      <td>False</td>\n",
       "      <td>2</td>\n",
       "      <td>True</td>\n",
       "      <td>False</td>\n",
       "      <td>DSL</td>\n",
       "      <td>True</td>\n",
       "      <td>...</td>\n",
       "      <td>False</td>\n",
       "      <td>False</td>\n",
       "      <td>False</td>\n",
       "      <td>False</td>\n",
       "      <td>Month-to-month</td>\n",
       "      <td>True</td>\n",
       "      <td>Mailed check</td>\n",
       "      <td>53.849998</td>\n",
       "      <td>108.150002</td>\n",
       "      <td>True</td>\n",
       "    </tr>\n",
       "    <tr>\n",
       "      <th>3</th>\n",
       "      <td>7795-CFOCW</td>\n",
       "      <td>Male</td>\n",
       "      <td>False</td>\n",
       "      <td>False</td>\n",
       "      <td>False</td>\n",
       "      <td>45</td>\n",
       "      <td>False</td>\n",
       "      <td>None</td>\n",
       "      <td>DSL</td>\n",
       "      <td>True</td>\n",
       "      <td>...</td>\n",
       "      <td>True</td>\n",
       "      <td>True</td>\n",
       "      <td>False</td>\n",
       "      <td>False</td>\n",
       "      <td>One year</td>\n",
       "      <td>False</td>\n",
       "      <td>Bank transfer (automatic)</td>\n",
       "      <td>42.299999</td>\n",
       "      <td>1840.750000</td>\n",
       "      <td>False</td>\n",
       "    </tr>\n",
       "    <tr>\n",
       "      <th>4</th>\n",
       "      <td>9237-HQITU</td>\n",
       "      <td>Female</td>\n",
       "      <td>False</td>\n",
       "      <td>False</td>\n",
       "      <td>False</td>\n",
       "      <td>2</td>\n",
       "      <td>True</td>\n",
       "      <td>False</td>\n",
       "      <td>Fiber optic</td>\n",
       "      <td>False</td>\n",
       "      <td>...</td>\n",
       "      <td>False</td>\n",
       "      <td>False</td>\n",
       "      <td>False</td>\n",
       "      <td>False</td>\n",
       "      <td>Month-to-month</td>\n",
       "      <td>True</td>\n",
       "      <td>Electronic check</td>\n",
       "      <td>70.699997</td>\n",
       "      <td>151.649994</td>\n",
       "      <td>True</td>\n",
       "    </tr>\n",
       "  </tbody>\n",
       "</table>\n",
       "<p>5 rows × 21 columns</p>\n",
       "</div>"
      ],
      "text/plain": [
       "   customerID  gender  SeniorCitizen  Partner  Dependents  tenure  \\\n",
       "0  7590-VHVEG  Female          False     True       False       1   \n",
       "1  5575-GNVDE    Male          False    False       False      34   \n",
       "2  3668-QPYBK    Male          False    False       False       2   \n",
       "3  7795-CFOCW    Male          False    False       False      45   \n",
       "4  9237-HQITU  Female          False    False       False       2   \n",
       "\n",
       "   PhoneService MultipleLines InternetService OnlineSecurity  ...  \\\n",
       "0         False          None             DSL          False  ...   \n",
       "1          True         False             DSL           True  ...   \n",
       "2          True         False             DSL           True  ...   \n",
       "3         False          None             DSL           True  ...   \n",
       "4          True         False     Fiber optic          False  ...   \n",
       "\n",
       "  DeviceProtection TechSupport StreamingTV StreamingMovies        Contract  \\\n",
       "0            False       False       False           False  Month-to-month   \n",
       "1             True       False       False           False        One year   \n",
       "2            False       False       False           False  Month-to-month   \n",
       "3             True        True       False           False        One year   \n",
       "4            False       False       False           False  Month-to-month   \n",
       "\n",
       "  PaperlessBilling              PaymentMethod MonthlyCharges  TotalCharges  \\\n",
       "0             True           Electronic check      29.850000     29.850000   \n",
       "1            False               Mailed check      56.950001   1889.500000   \n",
       "2             True               Mailed check      53.849998    108.150002   \n",
       "3            False  Bank transfer (automatic)      42.299999   1840.750000   \n",
       "4             True           Electronic check      70.699997    151.649994   \n",
       "\n",
       "   Churn  \n",
       "0  False  \n",
       "1  False  \n",
       "2   True  \n",
       "3  False  \n",
       "4   True  \n",
       "\n",
       "[5 rows x 21 columns]"
      ]
     },
     "execution_count": 80,
     "metadata": {},
     "output_type": "execute_result"
=======
   "execution_count": 7,
   "id": "43f5a68f",
   "metadata": {},
   "outputs": [
    {
     "name": "stdout",
     "output_type": "stream",
     "text": [
      "<class 'pandas.core.frame.DataFrame'>\n",
      "RangeIndex: 3000 entries, 0 to 2999\n",
      "Data columns (total 21 columns):\n",
      " #   Column            Non-Null Count  Dtype  \n",
      "---  ------            --------------  -----  \n",
      " 0   customerID        3000 non-null   object \n",
      " 1   gender            3000 non-null   object \n",
      " 2   SeniorCitizen     3000 non-null   bool   \n",
      " 3   Partner           3000 non-null   bool   \n",
      " 4   Dependents        3000 non-null   bool   \n",
      " 5   tenure            3000 non-null   int64  \n",
      " 6   PhoneService      3000 non-null   bool   \n",
      " 7   MultipleLines     2731 non-null   object \n",
      " 8   InternetService   3000 non-null   object \n",
      " 9   OnlineSecurity    2349 non-null   object \n",
      " 10  OnlineBackup      2349 non-null   object \n",
      " 11  DeviceProtection  2349 non-null   object \n",
      " 12  TechSupport       2349 non-null   object \n",
      " 13  StreamingTV       2349 non-null   object \n",
      " 14  StreamingMovies   2349 non-null   object \n",
      " 15  Contract          3000 non-null   object \n",
      " 16  PaperlessBilling  3000 non-null   bool   \n",
      " 17  PaymentMethod     3000 non-null   object \n",
      " 18  MonthlyCharges    3000 non-null   float64\n",
      " 19  TotalCharges      2995 non-null   float64\n",
      " 20  Churn             2999 non-null   object \n",
      "dtypes: bool(5), float64(2), int64(1), object(13)\n",
      "memory usage: 389.8+ KB\n"
     ]
>>>>>>> 3f3b77ef44614fdfaf8118faf47d0d0d9d6f8c5e
    }
   ],
   "source": [
    "First_Dataset.info()"
   ]
  },
  {
   "cell_type": "markdown",
   "id": "d945ba02",
   "metadata": {},
   "source": [
    "#### Second Dataset\n",
    "I obtained the second dataset from a GitHub repository, and I'll use Pandas to import the CSV file into my notebook for analysis."
   ]
  },
  {
   "cell_type": "code",
<<<<<<< HEAD
   "execution_count": 81,
=======
   "execution_count": 8,
   "id": "91159fef",
   "metadata": {},
   "outputs": [],
   "source": [
    "# Loading the second dataset into the notebook\n",
    "Second_Dataset = pd.read_csv(r\"Data/LP2_Telco-churn-second-2000.csv\")"
   ]
  },
  {
   "cell_type": "code",
   "execution_count": 9,
   "id": "958f2406",
>>>>>>> 3f3b77ef44614fdfaf8118faf47d0d0d9d6f8c5e
   "metadata": {},
   "outputs": [
    {
     "data": {
      "text/html": [
       "<div>\n",
       "<style scoped>\n",
       "    .dataframe tbody tr th:only-of-type {\n",
       "        vertical-align: middle;\n",
       "    }\n",
       "\n",
       "    .dataframe tbody tr th {\n",
       "        vertical-align: top;\n",
       "    }\n",
       "\n",
       "    .dataframe thead th {\n",
       "        text-align: right;\n",
       "    }\n",
       "</style>\n",
       "<table border=\"1\" class=\"dataframe\">\n",
       "  <thead>\n",
       "    <tr style=\"text-align: right;\">\n",
       "      <th></th>\n",
       "      <th>customerID</th>\n",
       "      <th>gender</th>\n",
       "      <th>SeniorCitizen</th>\n",
       "      <th>Partner</th>\n",
       "      <th>Dependents</th>\n",
       "      <th>tenure</th>\n",
       "      <th>PhoneService</th>\n",
       "      <th>MultipleLines</th>\n",
       "      <th>InternetService</th>\n",
       "      <th>OnlineSecurity</th>\n",
       "      <th>...</th>\n",
       "      <th>DeviceProtection</th>\n",
       "      <th>TechSupport</th>\n",
       "      <th>StreamingTV</th>\n",
       "      <th>StreamingMovies</th>\n",
       "      <th>Contract</th>\n",
       "      <th>PaperlessBilling</th>\n",
       "      <th>PaymentMethod</th>\n",
       "      <th>MonthlyCharges</th>\n",
       "      <th>TotalCharges</th>\n",
       "      <th>Churn</th>\n",
       "    </tr>\n",
       "  </thead>\n",
       "  <tbody>\n",
       "    <tr>\n",
       "      <th>0</th>\n",
       "      <td>5600-PDUJF</td>\n",
       "      <td>Male</td>\n",
       "      <td>0</td>\n",
       "      <td>No</td>\n",
       "      <td>No</td>\n",
       "      <td>6</td>\n",
       "      <td>Yes</td>\n",
       "      <td>No</td>\n",
       "      <td>DSL</td>\n",
       "      <td>No</td>\n",
       "      <td>...</td>\n",
       "      <td>No</td>\n",
       "      <td>Yes</td>\n",
       "      <td>No</td>\n",
       "      <td>No</td>\n",
       "      <td>Month-to-month</td>\n",
       "      <td>Yes</td>\n",
       "      <td>Credit card (automatic)</td>\n",
       "      <td>49.5</td>\n",
       "      <td>312.7</td>\n",
       "      <td>No</td>\n",
       "    </tr>\n",
       "    <tr>\n",
       "      <th>1</th>\n",
       "      <td>8292-TYSPY</td>\n",
       "      <td>Male</td>\n",
       "      <td>0</td>\n",
       "      <td>No</td>\n",
       "      <td>No</td>\n",
       "      <td>19</td>\n",
       "      <td>Yes</td>\n",
       "      <td>No</td>\n",
       "      <td>DSL</td>\n",
       "      <td>No</td>\n",
       "      <td>...</td>\n",
       "      <td>Yes</td>\n",
       "      <td>Yes</td>\n",
       "      <td>No</td>\n",
       "      <td>No</td>\n",
       "      <td>Month-to-month</td>\n",
       "      <td>Yes</td>\n",
       "      <td>Credit card (automatic)</td>\n",
       "      <td>55.0</td>\n",
       "      <td>1046.5</td>\n",
       "      <td>Yes</td>\n",
       "    </tr>\n",
       "  </tbody>\n",
       "</table>\n",
       "<p>2 rows × 21 columns</p>\n",
       "</div>"
      ],
      "text/plain": [
       "   customerID gender  SeniorCitizen Partner Dependents  tenure PhoneService  \\\n",
       "0  5600-PDUJF   Male              0      No         No       6          Yes   \n",
       "1  8292-TYSPY   Male              0      No         No      19          Yes   \n",
       "\n",
       "  MultipleLines InternetService OnlineSecurity  ... DeviceProtection  \\\n",
       "0            No             DSL             No  ...               No   \n",
       "1            No             DSL             No  ...              Yes   \n",
       "\n",
       "  TechSupport StreamingTV StreamingMovies        Contract PaperlessBilling  \\\n",
       "0         Yes          No              No  Month-to-month              Yes   \n",
       "1         Yes          No              No  Month-to-month              Yes   \n",
       "\n",
       "             PaymentMethod MonthlyCharges  TotalCharges Churn  \n",
       "0  Credit card (automatic)           49.5         312.7    No  \n",
       "1  Credit card (automatic)           55.0        1046.5   Yes  \n",
       "\n",
       "[2 rows x 21 columns]"
      ]
     },
<<<<<<< HEAD
     "execution_count": 81,
=======
     "execution_count": 9,
>>>>>>> 3f3b77ef44614fdfaf8118faf47d0d0d9d6f8c5e
     "metadata": {},
     "output_type": "execute_result"
    }
   ],
   "source": [
    "Second_Dataset.head(2)"
   ]
  },
  {
   "cell_type": "code",
<<<<<<< HEAD
   "execution_count": 82,
=======
   "execution_count": 10,
   "id": "12e5d138",
   "metadata": {},
   "outputs": [
    {
     "name": "stdout",
     "output_type": "stream",
     "text": [
      "<class 'pandas.core.frame.DataFrame'>\n",
      "RangeIndex: 2043 entries, 0 to 2042\n",
      "Data columns (total 21 columns):\n",
      " #   Column            Non-Null Count  Dtype  \n",
      "---  ------            --------------  -----  \n",
      " 0   customerID        2043 non-null   object \n",
      " 1   gender            2043 non-null   object \n",
      " 2   SeniorCitizen     2043 non-null   int64  \n",
      " 3   Partner           2043 non-null   object \n",
      " 4   Dependents        2043 non-null   object \n",
      " 5   tenure            2043 non-null   int64  \n",
      " 6   PhoneService      2043 non-null   object \n",
      " 7   MultipleLines     2043 non-null   object \n",
      " 8   InternetService   2043 non-null   object \n",
      " 9   OnlineSecurity    2043 non-null   object \n",
      " 10  OnlineBackup      2043 non-null   object \n",
      " 11  DeviceProtection  2043 non-null   object \n",
      " 12  TechSupport       2043 non-null   object \n",
      " 13  StreamingTV       2043 non-null   object \n",
      " 14  StreamingMovies   2043 non-null   object \n",
      " 15  Contract          2043 non-null   object \n",
      " 16  PaperlessBilling  2043 non-null   object \n",
      " 17  PaymentMethod     2043 non-null   object \n",
      " 18  MonthlyCharges    2043 non-null   float64\n",
      " 19  TotalCharges      2043 non-null   object \n",
      " 20  Churn             2043 non-null   object \n",
      "dtypes: float64(1), int64(2), object(18)\n",
      "memory usage: 335.3+ KB\n"
     ]
    }
   ],
   "source": [
    "Second_Dataset.info()"
   ]
  },
  {
   "cell_type": "markdown",
   "id": "71e32232",
   "metadata": {},
   "source": [
    "#### Third Dataset\n",
    "I obtained the third dataset from a OneDrive file, and I will use Pandas to import the Excel file into the notebook for analysis."
   ]
  },
  {
   "cell_type": "code",
   "execution_count": 11,
   "id": "eb2bd80b",
   "metadata": {},
   "outputs": [],
   "source": [
    "# Loading the second dataset into the notebook\n",
    "Third_Dataset = pd.read_excel(r\"Data/Telco-churn-last-2000.xlsx\")\n"
   ]
  },
  {
   "cell_type": "code",
   "execution_count": 12,
   "id": "d179b287",
>>>>>>> 3f3b77ef44614fdfaf8118faf47d0d0d9d6f8c5e
   "metadata": {},
   "outputs": [
    {
     "data": {
      "text/html": [
       "<div>\n",
       "<style scoped>\n",
       "    .dataframe tbody tr th:only-of-type {\n",
       "        vertical-align: middle;\n",
       "    }\n",
       "\n",
       "    .dataframe tbody tr th {\n",
       "        vertical-align: top;\n",
       "    }\n",
       "\n",
       "    .dataframe thead th {\n",
       "        text-align: right;\n",
       "    }\n",
       "</style>\n",
       "<table border=\"1\" class=\"dataframe\">\n",
       "  <thead>\n",
       "    <tr style=\"text-align: right;\">\n",
       "      <th></th>\n",
       "      <th>customerID</th>\n",
       "      <th>gender</th>\n",
       "      <th>SeniorCitizen</th>\n",
       "      <th>Partner</th>\n",
       "      <th>Dependents</th>\n",
       "      <th>tenure</th>\n",
       "      <th>PhoneService</th>\n",
       "      <th>MultipleLines</th>\n",
       "      <th>InternetService</th>\n",
       "      <th>OnlineSecurity</th>\n",
       "      <th>OnlineBackup</th>\n",
       "      <th>DeviceProtection</th>\n",
       "      <th>TechSupport</th>\n",
       "      <th>StreamingTV</th>\n",
       "      <th>StreamingMovies</th>\n",
       "      <th>Contract</th>\n",
       "      <th>PaperlessBilling</th>\n",
       "      <th>PaymentMethod</th>\n",
       "      <th>MonthlyCharges</th>\n",
       "      <th>TotalCharges</th>\n",
       "    </tr>\n",
       "  </thead>\n",
       "  <tbody>\n",
       "    <tr>\n",
       "      <th>0</th>\n",
       "      <td>7613-LLQFO</td>\n",
       "      <td>Male</td>\n",
       "      <td>0</td>\n",
       "      <td>No</td>\n",
       "      <td>No</td>\n",
       "      <td>12</td>\n",
       "      <td>Yes</td>\n",
       "      <td>Yes</td>\n",
       "      <td>Fiber optic</td>\n",
       "      <td>No</td>\n",
       "      <td>No</td>\n",
       "      <td>No</td>\n",
       "      <td>No</td>\n",
       "      <td>Yes</td>\n",
       "      <td>No</td>\n",
       "      <td>Month-to-month</td>\n",
       "      <td>Yes</td>\n",
       "      <td>Electronic check</td>\n",
       "      <td>84.45</td>\n",
       "      <td>1059.55</td>\n",
       "    </tr>\n",
       "    <tr>\n",
       "      <th>1</th>\n",
       "      <td>4568-TTZRT</td>\n",
       "      <td>Male</td>\n",
       "      <td>0</td>\n",
       "      <td>No</td>\n",
       "      <td>No</td>\n",
       "      <td>9</td>\n",
       "      <td>Yes</td>\n",
       "      <td>No</td>\n",
       "      <td>No</td>\n",
       "      <td>No internet service</td>\n",
       "      <td>No internet service</td>\n",
       "      <td>No internet service</td>\n",
       "      <td>No internet service</td>\n",
       "      <td>No internet service</td>\n",
       "      <td>No internet service</td>\n",
       "      <td>Month-to-month</td>\n",
       "      <td>No</td>\n",
       "      <td>Mailed check</td>\n",
       "      <td>20.40</td>\n",
       "      <td>181.8</td>\n",
       "    </tr>\n",
       "  </tbody>\n",
       "</table>\n",
       "</div>"
      ],
      "text/plain": [
       "   customerID gender  SeniorCitizen Partner Dependents  tenure PhoneService  \\\n",
       "0  7613-LLQFO   Male              0      No         No      12          Yes   \n",
       "1  4568-TTZRT   Male              0      No         No       9          Yes   \n",
       "\n",
       "  MultipleLines InternetService       OnlineSecurity         OnlineBackup  \\\n",
       "0           Yes     Fiber optic                   No                   No   \n",
       "1            No              No  No internet service  No internet service   \n",
       "\n",
       "      DeviceProtection          TechSupport          StreamingTV  \\\n",
       "0                   No                   No                  Yes   \n",
       "1  No internet service  No internet service  No internet service   \n",
       "\n",
       "       StreamingMovies        Contract PaperlessBilling     PaymentMethod  \\\n",
       "0                   No  Month-to-month              Yes  Electronic check   \n",
       "1  No internet service  Month-to-month               No      Mailed check   \n",
       "\n",
       "   MonthlyCharges TotalCharges  \n",
       "0           84.45      1059.55  \n",
       "1           20.40        181.8  "
      ]
     },
<<<<<<< HEAD
     "execution_count": 82,
=======
     "execution_count": 12,
>>>>>>> 3f3b77ef44614fdfaf8118faf47d0d0d9d6f8c5e
     "metadata": {},
     "output_type": "execute_result"
    }
   ],
   "source": [
<<<<<<< HEAD
    "test_data = pd.read_excel(\"Data/Telco-churn-last-2000.xlsx\")\n",
    "test_data.head()\n"
   ]
  },
  {
   "cell_type": "markdown",
   "metadata": {},
   "source": [
    "#### <center><h1 style=\"text-decoration: underline;\">**EXLORATORY DATA ANALYSIS(*EDA*)**</h1></center>\n"
   ]
  },
  {
   "cell_type": "markdown",
   "metadata": {},
   "source": [
    "### **CLEANING DATA**"
   ]
  },
  {
   "cell_type": "markdown",
   "metadata": {},
   "source": [
    "#### 1. Clean the validation data (Data1 & Data2)\n",
    "- Concatenate  all the columns of Data1 and Data2 into one dataframe called \"valid_data\" by stacking them vertically.\n",
    "- Standardize the column entries.\n",
    "- Drop duplcates if any.\n",
    "- Drop unneeded columns-customerID\n",
    "- Fill nulls\n"
=======
    "Third_Dataset.head(2)"
>>>>>>> 3f3b77ef44614fdfaf8118faf47d0d0d9d6f8c5e
   ]
  },
  {
   "cell_type": "code",
<<<<<<< HEAD
   "execution_count": 83,
=======
   "execution_count": 13,
   "id": "b706ee4d",
   "metadata": {},
   "outputs": [
    {
     "name": "stdout",
     "output_type": "stream",
     "text": [
      "<class 'pandas.core.frame.DataFrame'>\n",
      "RangeIndex: 2000 entries, 0 to 1999\n",
      "Data columns (total 20 columns):\n",
      " #   Column            Non-Null Count  Dtype  \n",
      "---  ------            --------------  -----  \n",
      " 0   customerID        2000 non-null   object \n",
      " 1   gender            2000 non-null   object \n",
      " 2   SeniorCitizen     2000 non-null   int64  \n",
      " 3   Partner           2000 non-null   object \n",
      " 4   Dependents        2000 non-null   object \n",
      " 5   tenure            2000 non-null   int64  \n",
      " 6   PhoneService      2000 non-null   object \n",
      " 7   MultipleLines     2000 non-null   object \n",
      " 8   InternetService   2000 non-null   object \n",
      " 9   OnlineSecurity    2000 non-null   object \n",
      " 10  OnlineBackup      2000 non-null   object \n",
      " 11  DeviceProtection  2000 non-null   object \n",
      " 12  TechSupport       2000 non-null   object \n",
      " 13  StreamingTV       2000 non-null   object \n",
      " 14  StreamingMovies   2000 non-null   object \n",
      " 15  Contract          2000 non-null   object \n",
      " 16  PaperlessBilling  2000 non-null   object \n",
      " 17  PaymentMethod     2000 non-null   object \n",
      " 18  MonthlyCharges    2000 non-null   float64\n",
      " 19  TotalCharges      2000 non-null   object \n",
      "dtypes: float64(1), int64(2), object(17)\n",
      "memory usage: 312.6+ KB\n"
     ]
    }
   ],
   "source": [
    "Third_Dataset.info()"
   ]
  },
  {
   "cell_type": "code",
   "execution_count": 14,
   "id": "b0d4e245",
   "metadata": {},
   "outputs": [
    {
     "name": "stdout",
     "output_type": "stream",
     "text": [
      "All DataFrames have the same column names.\n"
     ]
    }
   ],
   "source": [
    "# Checking if the first and second Dataset have the same column names for easy concatenation\n",
    "# Get the column names from each DataFrame\n",
    "columns_First_Dataset = set(First_Dataset.columns)\n",
    "columns_Second_Dataset = set(Second_Dataset.columns)\n",
    "\n",
    "# Check if all DataFrames have the same column names\n",
    "if columns_First_Dataset == columns_Second_Dataset:\n",
    "    print(\"All DataFrames have the same column names.\")\n",
    "else:\n",
    "    print(\"Not all DataFrames have the same column names.\")"
   ]
  },
  {
   "cell_type": "markdown",
   "id": "390681cf",
   "metadata": {},
   "source": [
    "Concatenating the first and second Dataset to prepare them for analysis and training"
   ]
  },
  {
   "cell_type": "code",
   "execution_count": 15,
   "id": "c572a2ed",
   "metadata": {},
   "outputs": [],
   "source": [
    "train_df = pd.concat([First_Dataset, Second_Dataset], ignore_index=True)"
   ]
  },
  {
   "cell_type": "code",
   "execution_count": 16,
   "id": "0e313071",
>>>>>>> 3f3b77ef44614fdfaf8118faf47d0d0d9d6f8c5e
   "metadata": {},
   "outputs": [
    {
     "data": {
      "text/html": [
       "<div>\n",
       "<style scoped>\n",
       "    .dataframe tbody tr th:only-of-type {\n",
       "        vertical-align: middle;\n",
       "    }\n",
       "\n",
       "    .dataframe tbody tr th {\n",
       "        vertical-align: top;\n",
       "    }\n",
       "\n",
       "    .dataframe thead th {\n",
       "        text-align: right;\n",
       "    }\n",
       "</style>\n",
       "<table border=\"1\" class=\"dataframe\">\n",
       "  <thead>\n",
       "    <tr style=\"text-align: right;\">\n",
       "      <th></th>\n",
       "      <th>customerID</th>\n",
       "      <th>gender</th>\n",
       "      <th>SeniorCitizen</th>\n",
       "      <th>Partner</th>\n",
       "      <th>Dependents</th>\n",
       "      <th>tenure</th>\n",
       "      <th>PhoneService</th>\n",
       "      <th>MultipleLines</th>\n",
       "      <th>InternetService</th>\n",
       "      <th>OnlineSecurity</th>\n",
       "      <th>...</th>\n",
       "      <th>DeviceProtection</th>\n",
       "      <th>TechSupport</th>\n",
       "      <th>StreamingTV</th>\n",
       "      <th>StreamingMovies</th>\n",
       "      <th>Contract</th>\n",
       "      <th>PaperlessBilling</th>\n",
       "      <th>PaymentMethod</th>\n",
       "      <th>MonthlyCharges</th>\n",
       "      <th>TotalCharges</th>\n",
       "      <th>Churn</th>\n",
       "    </tr>\n",
       "  </thead>\n",
       "  <tbody>\n",
       "    <tr>\n",
       "      <th>0</th>\n",
       "      <td>7590-VHVEG</td>\n",
       "      <td>Female</td>\n",
       "      <td>0</td>\n",
       "      <td>True</td>\n",
       "      <td>False</td>\n",
       "      <td>1</td>\n",
       "      <td>False</td>\n",
       "      <td>None</td>\n",
       "      <td>DSL</td>\n",
       "      <td>False</td>\n",
       "      <td>...</td>\n",
       "      <td>False</td>\n",
       "      <td>False</td>\n",
       "      <td>False</td>\n",
       "      <td>False</td>\n",
       "      <td>Month-to-month</td>\n",
       "      <td>True</td>\n",
       "      <td>Electronic check</td>\n",
       "      <td>29.850000</td>\n",
       "      <td>29.85</td>\n",
       "      <td>False</td>\n",
       "    </tr>\n",
       "    <tr>\n",
       "      <th>1</th>\n",
       "      <td>5575-GNVDE</td>\n",
       "      <td>Male</td>\n",
       "      <td>0</td>\n",
       "      <td>False</td>\n",
       "      <td>False</td>\n",
       "      <td>34</td>\n",
       "      <td>True</td>\n",
       "      <td>False</td>\n",
       "      <td>DSL</td>\n",
       "      <td>True</td>\n",
       "      <td>...</td>\n",
       "      <td>True</td>\n",
       "      <td>False</td>\n",
       "      <td>False</td>\n",
       "      <td>False</td>\n",
       "      <td>One year</td>\n",
       "      <td>False</td>\n",
       "      <td>Mailed check</td>\n",
       "      <td>56.950001</td>\n",
       "      <td>1889.5</td>\n",
       "      <td>False</td>\n",
       "    </tr>\n",
       "  </tbody>\n",
       "</table>\n",
       "<p>2 rows × 21 columns</p>\n",
       "</div>"
      ],
      "text/plain": [
       "   customerID  gender  SeniorCitizen Partner Dependents  tenure PhoneService  \\\n",
       "0  7590-VHVEG  Female              0    True      False       1        False   \n",
       "1  5575-GNVDE    Male              0   False      False      34         True   \n",
       "\n",
       "  MultipleLines InternetService OnlineSecurity  ... DeviceProtection  \\\n",
       "0          None             DSL          False  ...            False   \n",
       "1         False             DSL           True  ...             True   \n",
       "\n",
       "  TechSupport StreamingTV StreamingMovies        Contract PaperlessBilling  \\\n",
       "0       False       False           False  Month-to-month             True   \n",
       "1       False       False           False        One year            False   \n",
       "\n",
       "      PaymentMethod MonthlyCharges  TotalCharges  Churn  \n",
       "0  Electronic check      29.850000         29.85  False  \n",
       "1      Mailed check      56.950001        1889.5  False  \n",
       "\n",
       "[2 rows x 21 columns]"
      ]
     },
<<<<<<< HEAD
     "execution_count": 83,
=======
     "execution_count": 16,
>>>>>>> 3f3b77ef44614fdfaf8118faf47d0d0d9d6f8c5e
     "metadata": {},
     "output_type": "execute_result"
    }
   ],
   "source": [
    "train_df.head(2)"
   ]
  },
  {
   "cell_type": "code",
<<<<<<< HEAD
   "execution_count": 84,
=======
   "execution_count": 17,
   "id": "651cb961",
   "metadata": {},
   "outputs": [],
   "source": [
    "# Change all column names to lowercase\n",
    "train_df.columns = train_df.columns.str.lower()"
   ]
  },
  {
   "cell_type": "code",
   "execution_count": 18,
   "id": "d4f4574c",
>>>>>>> 3f3b77ef44614fdfaf8118faf47d0d0d9d6f8c5e
   "metadata": {},
   "outputs": [
    {
     "name": "stdout",
     "output_type": "stream",
     "text": [
      "<class 'pandas.core.frame.DataFrame'>\n",
      "RangeIndex: 5043 entries, 0 to 5042\n",
      "Data columns (total 21 columns):\n",
      " #   Column            Non-Null Count  Dtype  \n",
      "---  ------            --------------  -----  \n",
<<<<<<< HEAD
      " 0   customerID        5043 non-null   object \n",
      " 1   gender            5043 non-null   object \n",
      " 2   SeniorCitizen     5043 non-null   int64  \n",
      " 3   Partner           5043 non-null   object \n",
      " 4   Dependents        5043 non-null   object \n",
      " 5   tenure            5043 non-null   int64  \n",
      " 6   PhoneService      5043 non-null   object \n",
      " 7   MultipleLines     4774 non-null   object \n",
      " 8   InternetService   5043 non-null   object \n",
      " 9   OnlineSecurity    4392 non-null   object \n",
      " 10  OnlineBackup      4392 non-null   object \n",
      " 11  DeviceProtection  4392 non-null   object \n",
      " 12  TechSupport       4392 non-null   object \n",
      " 13  StreamingTV       4392 non-null   object \n",
      " 14  StreamingMovies   4392 non-null   object \n",
      " 15  Contract          5043 non-null   object \n",
      " 16  PaperlessBilling  5043 non-null   object \n",
      " 17  PaymentMethod     5043 non-null   object \n",
      " 18  MonthlyCharges    5043 non-null   float64\n",
      " 19  TotalCharges      5038 non-null   object \n",
      " 20  Churn             5042 non-null   object \n",
=======
      " 0   customerid        5043 non-null   object \n",
      " 1   gender            5043 non-null   object \n",
      " 2   seniorcitizen     5043 non-null   int64  \n",
      " 3   partner           5043 non-null   object \n",
      " 4   dependents        5043 non-null   object \n",
      " 5   tenure            5043 non-null   int64  \n",
      " 6   phoneservice      5043 non-null   object \n",
      " 7   multiplelines     4774 non-null   object \n",
      " 8   internetservice   5043 non-null   object \n",
      " 9   onlinesecurity    4392 non-null   object \n",
      " 10  onlinebackup      4392 non-null   object \n",
      " 11  deviceprotection  4392 non-null   object \n",
      " 12  techsupport       4392 non-null   object \n",
      " 13  streamingtv       4392 non-null   object \n",
      " 14  streamingmovies   4392 non-null   object \n",
      " 15  contract          5043 non-null   object \n",
      " 16  paperlessbilling  5043 non-null   object \n",
      " 17  paymentmethod     5043 non-null   object \n",
      " 18  monthlycharges    5043 non-null   float64\n",
      " 19  totalcharges      5038 non-null   object \n",
      " 20  churn             5042 non-null   object \n",
>>>>>>> 3f3b77ef44614fdfaf8118faf47d0d0d9d6f8c5e
      "dtypes: float64(1), int64(2), object(18)\n",
      "memory usage: 827.5+ KB\n"
     ]
    }
   ],
   "source": [
<<<<<<< HEAD
    "valid_data.info()"
=======
    "train_df.info()"
>>>>>>> 3f3b77ef44614fdfaf8118faf47d0d0d9d6f8c5e
   ]
  },
  {
   "cell_type": "code",
<<<<<<< HEAD
   "execution_count": 85,
=======
   "execution_count": 19,
   "id": "9bceb7b2",
>>>>>>> 3f3b77ef44614fdfaf8118faf47d0d0d9d6f8c5e
   "metadata": {},
   "outputs": [
    {
     "data": {
      "text/plain": [
       "customerid            0\n",
       "gender                0\n",
       "seniorcitizen         0\n",
       "partner               0\n",
       "dependents            0\n",
       "tenure                0\n",
       "phoneservice          0\n",
       "multiplelines       269\n",
       "internetservice       0\n",
       "onlinesecurity      651\n",
       "onlinebackup        651\n",
       "deviceprotection    651\n",
       "techsupport         651\n",
       "streamingtv         651\n",
       "streamingmovies     651\n",
       "contract              0\n",
       "paperlessbilling      0\n",
       "paymentmethod         0\n",
       "monthlycharges        0\n",
       "totalcharges          5\n",
       "churn                 1\n",
       "dtype: int64"
      ]
     },
<<<<<<< HEAD
     "execution_count": 85,
=======
     "execution_count": 19,
>>>>>>> 3f3b77ef44614fdfaf8118faf47d0d0d9d6f8c5e
     "metadata": {},
     "output_type": "execute_result"
    }
   ],
   "source": [
    "train_df.isnull().sum()"
   ]
  },
  {
   "cell_type": "markdown",
   "metadata": {},
   "source": [
    "#### Drop CustomerID column from the dataset"
   ]
  },
  {
   "cell_type": "code",
<<<<<<< HEAD
   "execution_count": 86,
   "metadata": {},
   "outputs": [],
   "source": [
    "valid_data.drop('customerID', axis=1,inplace =True)"
   ]
  },
  {
   "cell_type": "code",
   "execution_count": 87,
=======
   "execution_count": 20,
   "id": "5248ad1f",
>>>>>>> 3f3b77ef44614fdfaf8118faf47d0d0d9d6f8c5e
   "metadata": {},
   "outputs": [
    {
     "data": {
      "text/html": [
       "<div>\n",
       "<style scoped>\n",
       "    .dataframe tbody tr th:only-of-type {\n",
       "        vertical-align: middle;\n",
       "    }\n",
       "\n",
       "    .dataframe tbody tr th {\n",
       "        vertical-align: top;\n",
       "    }\n",
       "\n",
       "    .dataframe thead th {\n",
       "        text-align: right;\n",
       "    }\n",
       "</style>\n",
       "<table border=\"1\" class=\"dataframe\">\n",
       "  <thead>\n",
       "    <tr style=\"text-align: right;\">\n",
       "      <th></th>\n",
       "      <th>Column</th>\n",
       "      <th>Unique_Values</th>\n",
       "      <th>Num_Unique_Values</th>\n",
       "    </tr>\n",
       "  </thead>\n",
       "  <tbody>\n",
       "    <tr>\n",
       "      <th>0</th>\n",
<<<<<<< HEAD
=======
       "      <td>customerid</td>\n",
       "      <td>[7590-VHVEG, 5575-GNVDE, 3668-QPYBK, 7795-CFOC...</td>\n",
       "      <td>5043</td>\n",
       "    </tr>\n",
       "    <tr>\n",
       "      <th>1</th>\n",
>>>>>>> 3f3b77ef44614fdfaf8118faf47d0d0d9d6f8c5e
       "      <td>gender</td>\n",
       "      <td>[Female, Male]</td>\n",
       "      <td>2</td>\n",
       "    </tr>\n",
       "    <tr>\n",
<<<<<<< HEAD
       "      <th>1</th>\n",
       "      <td>SeniorCitizen</td>\n",
=======
       "      <th>2</th>\n",
       "      <td>seniorcitizen</td>\n",
>>>>>>> 3f3b77ef44614fdfaf8118faf47d0d0d9d6f8c5e
       "      <td>[0, 1]</td>\n",
       "      <td>2</td>\n",
       "    </tr>\n",
       "    <tr>\n",
<<<<<<< HEAD
       "      <th>2</th>\n",
       "      <td>Partner</td>\n",
=======
       "      <th>3</th>\n",
       "      <td>partner</td>\n",
>>>>>>> 3f3b77ef44614fdfaf8118faf47d0d0d9d6f8c5e
       "      <td>[True, False, No, Yes]</td>\n",
       "      <td>4</td>\n",
       "    </tr>\n",
       "    <tr>\n",
<<<<<<< HEAD
       "      <th>3</th>\n",
       "      <td>Dependents</td>\n",
=======
       "      <th>4</th>\n",
       "      <td>dependents</td>\n",
>>>>>>> 3f3b77ef44614fdfaf8118faf47d0d0d9d6f8c5e
       "      <td>[False, True, No, Yes]</td>\n",
       "      <td>4</td>\n",
       "    </tr>\n",
       "    <tr>\n",
       "      <th>4</th>\n",
       "      <td>tenure</td>\n",
       "      <td>[1, 34, 2, 45, 8, 22, 10, 28, 62, 13, 16, 58, ...</td>\n",
       "      <td>73</td>\n",
       "    </tr>\n",
       "    <tr>\n",
<<<<<<< HEAD
       "      <th>5</th>\n",
       "      <td>PhoneService</td>\n",
=======
       "      <th>6</th>\n",
       "      <td>phoneservice</td>\n",
>>>>>>> 3f3b77ef44614fdfaf8118faf47d0d0d9d6f8c5e
       "      <td>[False, True, Yes, No]</td>\n",
       "      <td>4</td>\n",
       "    </tr>\n",
       "    <tr>\n",
<<<<<<< HEAD
       "      <th>6</th>\n",
       "      <td>MultipleLines</td>\n",
=======
       "      <th>7</th>\n",
       "      <td>multiplelines</td>\n",
>>>>>>> 3f3b77ef44614fdfaf8118faf47d0d0d9d6f8c5e
       "      <td>[None, False, True, No, No phone service, Yes]</td>\n",
       "      <td>5</td>\n",
       "    </tr>\n",
       "    <tr>\n",
<<<<<<< HEAD
       "      <th>7</th>\n",
       "      <td>InternetService</td>\n",
=======
       "      <th>8</th>\n",
       "      <td>internetservice</td>\n",
>>>>>>> 3f3b77ef44614fdfaf8118faf47d0d0d9d6f8c5e
       "      <td>[DSL, Fiber optic, No]</td>\n",
       "      <td>3</td>\n",
       "    </tr>\n",
       "    <tr>\n",
<<<<<<< HEAD
       "      <th>8</th>\n",
       "      <td>OnlineSecurity</td>\n",
=======
       "      <th>9</th>\n",
       "      <td>onlinesecurity</td>\n",
>>>>>>> 3f3b77ef44614fdfaf8118faf47d0d0d9d6f8c5e
       "      <td>[False, True, None, No, Yes, No internet service]</td>\n",
       "      <td>5</td>\n",
       "    </tr>\n",
       "    <tr>\n",
<<<<<<< HEAD
       "      <th>9</th>\n",
       "      <td>OnlineBackup</td>\n",
=======
       "      <th>10</th>\n",
       "      <td>onlinebackup</td>\n",
>>>>>>> 3f3b77ef44614fdfaf8118faf47d0d0d9d6f8c5e
       "      <td>[True, False, None, No, Yes, No internet service]</td>\n",
       "      <td>5</td>\n",
       "    </tr>\n",
       "    <tr>\n",
<<<<<<< HEAD
       "      <th>10</th>\n",
       "      <td>DeviceProtection</td>\n",
=======
       "      <th>11</th>\n",
       "      <td>deviceprotection</td>\n",
>>>>>>> 3f3b77ef44614fdfaf8118faf47d0d0d9d6f8c5e
       "      <td>[False, True, None, No, Yes, No internet service]</td>\n",
       "      <td>5</td>\n",
       "    </tr>\n",
       "    <tr>\n",
<<<<<<< HEAD
       "      <th>11</th>\n",
       "      <td>TechSupport</td>\n",
=======
       "      <th>12</th>\n",
       "      <td>techsupport</td>\n",
>>>>>>> 3f3b77ef44614fdfaf8118faf47d0d0d9d6f8c5e
       "      <td>[False, True, None, Yes, No, No internet service]</td>\n",
       "      <td>5</td>\n",
       "    </tr>\n",
       "    <tr>\n",
<<<<<<< HEAD
       "      <th>12</th>\n",
       "      <td>StreamingTV</td>\n",
=======
       "      <th>13</th>\n",
       "      <td>streamingtv</td>\n",
>>>>>>> 3f3b77ef44614fdfaf8118faf47d0d0d9d6f8c5e
       "      <td>[False, True, None, No, Yes, No internet service]</td>\n",
       "      <td>5</td>\n",
       "    </tr>\n",
       "    <tr>\n",
<<<<<<< HEAD
       "      <th>13</th>\n",
       "      <td>StreamingMovies</td>\n",
=======
       "      <th>14</th>\n",
       "      <td>streamingmovies</td>\n",
>>>>>>> 3f3b77ef44614fdfaf8118faf47d0d0d9d6f8c5e
       "      <td>[False, True, None, No, Yes, No internet service]</td>\n",
       "      <td>5</td>\n",
       "    </tr>\n",
       "    <tr>\n",
<<<<<<< HEAD
       "      <th>14</th>\n",
       "      <td>Contract</td>\n",
=======
       "      <th>15</th>\n",
       "      <td>contract</td>\n",
>>>>>>> 3f3b77ef44614fdfaf8118faf47d0d0d9d6f8c5e
       "      <td>[Month-to-month, One year, Two year]</td>\n",
       "      <td>3</td>\n",
       "    </tr>\n",
       "    <tr>\n",
<<<<<<< HEAD
       "      <th>15</th>\n",
       "      <td>PaperlessBilling</td>\n",
=======
       "      <th>16</th>\n",
       "      <td>paperlessbilling</td>\n",
>>>>>>> 3f3b77ef44614fdfaf8118faf47d0d0d9d6f8c5e
       "      <td>[True, False, Yes, No]</td>\n",
       "      <td>4</td>\n",
       "    </tr>\n",
       "    <tr>\n",
<<<<<<< HEAD
       "      <th>16</th>\n",
       "      <td>PaymentMethod</td>\n",
=======
       "      <th>17</th>\n",
       "      <td>paymentmethod</td>\n",
>>>>>>> 3f3b77ef44614fdfaf8118faf47d0d0d9d6f8c5e
       "      <td>[Electronic check, Mailed check, Bank transfer...</td>\n",
       "      <td>4</td>\n",
       "    </tr>\n",
       "    <tr>\n",
<<<<<<< HEAD
       "      <th>17</th>\n",
       "      <td>MonthlyCharges</td>\n",
=======
       "      <th>18</th>\n",
       "      <td>monthlycharges</td>\n",
>>>>>>> 3f3b77ef44614fdfaf8118faf47d0d0d9d6f8c5e
       "      <td>[29.850000381469727, 56.95000076293945, 53.849...</td>\n",
       "      <td>2069</td>\n",
       "    </tr>\n",
       "    <tr>\n",
<<<<<<< HEAD
       "      <th>18</th>\n",
       "      <td>TotalCharges</td>\n",
=======
       "      <th>19</th>\n",
       "      <td>totalcharges</td>\n",
>>>>>>> 3f3b77ef44614fdfaf8118faf47d0d0d9d6f8c5e
       "      <td>[29.850000381469727, 1889.5, 108.1500015258789...</td>\n",
       "      <td>4884</td>\n",
       "    </tr>\n",
       "    <tr>\n",
<<<<<<< HEAD
       "      <th>19</th>\n",
       "      <td>Churn</td>\n",
=======
       "      <th>20</th>\n",
       "      <td>churn</td>\n",
>>>>>>> 3f3b77ef44614fdfaf8118faf47d0d0d9d6f8c5e
       "      <td>[False, True, None, No, Yes]</td>\n",
       "      <td>4</td>\n",
       "    </tr>\n",
       "  </tbody>\n",
       "</table>\n",
       "</div>"
      ],
      "text/plain": [
       "              Column                                      Unique_Values  \\\n",
<<<<<<< HEAD
       "0             gender                                     [Female, Male]   \n",
       "1      SeniorCitizen                                             [0, 1]   \n",
       "2            Partner                             [True, False, No, Yes]   \n",
       "3         Dependents                             [False, True, No, Yes]   \n",
       "4             tenure  [1, 34, 2, 45, 8, 22, 10, 28, 62, 13, 16, 58, ...   \n",
       "5       PhoneService                             [False, True, Yes, No]   \n",
       "6      MultipleLines     [None, False, True, No, No phone service, Yes]   \n",
       "7    InternetService                             [DSL, Fiber optic, No]   \n",
       "8     OnlineSecurity  [False, True, None, No, Yes, No internet service]   \n",
       "9       OnlineBackup  [True, False, None, No, Yes, No internet service]   \n",
       "10  DeviceProtection  [False, True, None, No, Yes, No internet service]   \n",
       "11       TechSupport  [False, True, None, Yes, No, No internet service]   \n",
       "12       StreamingTV  [False, True, None, No, Yes, No internet service]   \n",
       "13   StreamingMovies  [False, True, None, No, Yes, No internet service]   \n",
       "14          Contract               [Month-to-month, One year, Two year]   \n",
       "15  PaperlessBilling                             [True, False, Yes, No]   \n",
       "16     PaymentMethod  [Electronic check, Mailed check, Bank transfer...   \n",
       "17    MonthlyCharges  [29.850000381469727, 56.95000076293945, 53.849...   \n",
       "18      TotalCharges  [29.850000381469727, 1889.5, 108.1500015258789...   \n",
       "19             Churn                       [False, True, None, No, Yes]   \n",
=======
       "0         customerid  [7590-VHVEG, 5575-GNVDE, 3668-QPYBK, 7795-CFOC...   \n",
       "1             gender                                     [Female, Male]   \n",
       "2      seniorcitizen                                             [0, 1]   \n",
       "3            partner                             [True, False, No, Yes]   \n",
       "4         dependents                             [False, True, No, Yes]   \n",
       "5             tenure  [1, 34, 2, 45, 8, 22, 10, 28, 62, 13, 16, 58, ...   \n",
       "6       phoneservice                             [False, True, Yes, No]   \n",
       "7      multiplelines     [None, False, True, No, No phone service, Yes]   \n",
       "8    internetservice                             [DSL, Fiber optic, No]   \n",
       "9     onlinesecurity  [False, True, None, No, Yes, No internet service]   \n",
       "10      onlinebackup  [True, False, None, No, Yes, No internet service]   \n",
       "11  deviceprotection  [False, True, None, No, Yes, No internet service]   \n",
       "12       techsupport  [False, True, None, Yes, No, No internet service]   \n",
       "13       streamingtv  [False, True, None, No, Yes, No internet service]   \n",
       "14   streamingmovies  [False, True, None, No, Yes, No internet service]   \n",
       "15          contract               [Month-to-month, One year, Two year]   \n",
       "16  paperlessbilling                             [True, False, Yes, No]   \n",
       "17     paymentmethod  [Electronic check, Mailed check, Bank transfer...   \n",
       "18    monthlycharges  [29.850000381469727, 56.95000076293945, 53.849...   \n",
       "19      totalcharges  [29.850000381469727, 1889.5, 108.1500015258789...   \n",
       "20             churn                       [False, True, None, No, Yes]   \n",
>>>>>>> 3f3b77ef44614fdfaf8118faf47d0d0d9d6f8c5e
       "\n",
       "    Num_Unique_Values  \n",
       "0                   2  \n",
       "1                   2  \n",
       "2                   4  \n",
       "3                   4  \n",
       "4                  73  \n",
       "5                   4  \n",
       "6                   5  \n",
       "7                   3  \n",
       "8                   5  \n",
       "9                   5  \n",
       "10                  5  \n",
       "11                  5  \n",
       "12                  5  \n",
       "13                  5  \n",
       "14                  3  \n",
       "15                  4  \n",
       "16                  4  \n",
       "17               2069  \n",
       "18               4884  \n",
       "19                  4  "
      ]
     },
<<<<<<< HEAD
     "execution_count": 87,
=======
     "execution_count": 20,
>>>>>>> 3f3b77ef44614fdfaf8118faf47d0d0d9d6f8c5e
     "metadata": {},
     "output_type": "execute_result"
    }
   ],
   "source": [
<<<<<<< HEAD
    "#Check for uniques\n",
    "cols= ['gender', 'SeniorCitizen', 'Partner', 'Dependents','tenure', 'PhoneService', 'MultipleLines', \n",
    "        'InternetService', 'OnlineSecurity', 'OnlineBackup', 'DeviceProtection', 'TechSupport','StreamingTV', \n",
    "        'StreamingMovies', 'Contract', 'PaperlessBilling','PaymentMethod', 'MonthlyCharges', 'TotalCharges', 'Churn']\n",
=======
    "#Checking  for unique values in all the columns\n",
    "cols= [ 'customerid', 'gender', 'seniorcitizen', 'partner', 'dependents',\n",
    "       'tenure', 'phoneservice', 'multiplelines', 'internetservice',\n",
    "       'onlinesecurity', 'onlinebackup', 'deviceprotection', 'techsupport',\n",
    "       'streamingtv', 'streamingmovies', 'contract', 'paperlessbilling',\n",
    "       'paymentmethod', 'monthlycharges', 'totalcharges', 'churn']\n",
>>>>>>> 3f3b77ef44614fdfaf8118faf47d0d0d9d6f8c5e
    "\n",
    "\n",
    "results = []\n",
    "\n",
    "for i in cols:\n",
    "    \n",
    "    unique_values = train_df[i].unique()\n",
    "    num_unique_values = train_df[i].nunique()\n",
    "    \n",
    "    \n",
    "    results.append([i, unique_values, num_unique_values])\n",
    "\n",
    "\n",
    "results_df = pd.DataFrame(results, columns=['Column', 'Unique_Values', 'Num_Unique_Values'])\n",
    "\n",
    "\n",
    "results_df"
   ]
  },
  {
   "cell_type": "markdown",
   "metadata": {},
   "source": [
    "Standardize categorical columns.\n",
    " - Yes : True\n",
    " - No : False\n",
    " - None : NaN"
   ]
  },
  {
   "cell_type": "code",
<<<<<<< HEAD
   "execution_count": 88,
   "metadata": {},
   "outputs": [],
   "source": [
    "#Entry standardization of categorical columns\n",
    "cols = [ 'gender', 'SeniorCitizen', 'Partner', 'Dependents',\n",
    "       'tenure', 'PhoneService', 'MultipleLines',\n",
    "       'OnlineSecurity', 'OnlineBackup', 'DeviceProtection', 'TechSupport',\n",
    "       'StreamingTV', 'StreamingMovies', 'Contract', 'PaperlessBilling', 'Churn']\n",
=======
   "execution_count": 21,
   "id": "c6047a99",
   "metadata": {},
   "outputs": [],
   "source": [
    "# Function replace None with Pandas NaN\n",
    "def replace_none(value):\n",
    "    like_nan = {'none', ''}\n",
    "    if pd.isnull(value) or (isinstance(value, str) and (value.lower().strip() in like_nan)):\n",
    "        value = pd.NA\n",
    "    \n",
    "    return value\n",
>>>>>>> 3f3b77ef44614fdfaf8118faf47d0d0d9d6f8c5e
    "\n",
    "# Apply the function to all columns\n",
    "train_df = train_df.applymap(replace_none) # element-wise"
   ]
  },
  {
   "cell_type": "markdown",
   "id": "1891e932",
   "metadata": {},
   "source": [
    "To ensure consistent and uniform data entry, I am standardizing certain columns by replacing all occurrences of False with No and all occurrences of True with Yes. This process helps maintain clarity and consistency in the data, making it easier to interpret and analyze."
   ]
  },
  {
   "cell_type": "code",
<<<<<<< HEAD
   "execution_count": 89,
=======
   "execution_count": 22,
   "id": "28731c61",
   "metadata": {},
   "outputs": [],
   "source": [
    "# Define the mapping for standardization\n",
    "standardize_mapping = {\n",
    "    'No phone service': 'No',\n",
    "    'No internet service': 'No',\n",
    "    True: 'Yes',\n",
    "    False: 'No',\n",
    "}\n",
    "\n",
    "# Columns to perform standardization\n",
    "cols_to_standardize = ['onlinesecurity', 'onlinebackup', 'deviceprotection', 'techsupport',\n",
    "                       'streamingtv', 'streamingmovies', 'paperlessbilling', 'churn',\n",
    "                       'phoneservice', 'multiplelines', 'partner', 'dependents']\n",
    "\n",
    "# Loop through columns for standardization\n",
    "for col in cols_to_standardize:\n",
    "    if train_df[col].dtype == 'object':\n",
    "        train_df[col] = train_df[col].replace(standardize_mapping)\n"
   ]
  },
  {
   "cell_type": "markdown",
   "id": "7ed71c6b",
   "metadata": {},
   "source": [
    "Handling Missing Values: To address missing values in specific columns, I checked for null values and filled them by randomly selecting a value from each column with missing data."
   ]
  },
  {
   "cell_type": "code",
   "execution_count": 23,
   "id": "6b1f8140",
>>>>>>> 3f3b77ef44614fdfaf8118faf47d0d0d9d6f8c5e
   "metadata": {},
   "outputs": [
    {
     "data": {
<<<<<<< HEAD
      "text/html": [
       "<div>\n",
       "<style scoped>\n",
       "    .dataframe tbody tr th:only-of-type {\n",
       "        vertical-align: middle;\n",
       "    }\n",
       "\n",
       "    .dataframe tbody tr th {\n",
       "        vertical-align: top;\n",
       "    }\n",
       "\n",
       "    .dataframe thead th {\n",
       "        text-align: right;\n",
       "    }\n",
       "</style>\n",
       "<table border=\"1\" class=\"dataframe\">\n",
       "  <thead>\n",
       "    <tr style=\"text-align: right;\">\n",
       "      <th></th>\n",
       "      <th>Column</th>\n",
       "      <th>Unique_Values</th>\n",
       "      <th>Num_Unique_Values</th>\n",
       "    </tr>\n",
       "  </thead>\n",
       "  <tbody>\n",
       "    <tr>\n",
       "      <th>0</th>\n",
       "      <td>gender</td>\n",
       "      <td>[Female, Male]</td>\n",
       "      <td>2</td>\n",
       "    </tr>\n",
       "    <tr>\n",
       "      <th>1</th>\n",
       "      <td>SeniorCitizen</td>\n",
       "      <td>[0, 1]</td>\n",
       "      <td>2</td>\n",
       "    </tr>\n",
       "    <tr>\n",
       "      <th>2</th>\n",
       "      <td>Partner</td>\n",
       "      <td>[True, False]</td>\n",
       "      <td>2</td>\n",
       "    </tr>\n",
       "    <tr>\n",
       "      <th>3</th>\n",
       "      <td>Dependents</td>\n",
       "      <td>[False, True]</td>\n",
       "      <td>2</td>\n",
       "    </tr>\n",
       "    <tr>\n",
       "      <th>4</th>\n",
       "      <td>tenure</td>\n",
       "      <td>[1, 34, 2, 45, 8, 22, 10, 28, 62, 13, 16, 58, ...</td>\n",
       "      <td>73</td>\n",
       "    </tr>\n",
       "    <tr>\n",
       "      <th>5</th>\n",
       "      <td>PhoneService</td>\n",
       "      <td>[False, True]</td>\n",
       "      <td>2</td>\n",
       "    </tr>\n",
       "    <tr>\n",
       "      <th>6</th>\n",
       "      <td>MultipleLines</td>\n",
       "      <td>[None, False, True]</td>\n",
       "      <td>2</td>\n",
       "    </tr>\n",
       "    <tr>\n",
       "      <th>7</th>\n",
       "      <td>InternetService</td>\n",
       "      <td>[DSL, Fiber optic, No]</td>\n",
       "      <td>3</td>\n",
       "    </tr>\n",
       "    <tr>\n",
       "      <th>8</th>\n",
       "      <td>OnlineSecurity</td>\n",
       "      <td>[False, True, None]</td>\n",
       "      <td>2</td>\n",
       "    </tr>\n",
       "    <tr>\n",
       "      <th>9</th>\n",
       "      <td>OnlineBackup</td>\n",
       "      <td>[True, False, None]</td>\n",
       "      <td>2</td>\n",
       "    </tr>\n",
       "    <tr>\n",
       "      <th>10</th>\n",
       "      <td>DeviceProtection</td>\n",
       "      <td>[False, True, None]</td>\n",
       "      <td>2</td>\n",
       "    </tr>\n",
       "    <tr>\n",
       "      <th>11</th>\n",
       "      <td>TechSupport</td>\n",
       "      <td>[False, True, None]</td>\n",
       "      <td>2</td>\n",
       "    </tr>\n",
       "    <tr>\n",
       "      <th>12</th>\n",
       "      <td>StreamingTV</td>\n",
       "      <td>[False, True, None]</td>\n",
       "      <td>2</td>\n",
       "    </tr>\n",
       "    <tr>\n",
       "      <th>13</th>\n",
       "      <td>StreamingMovies</td>\n",
       "      <td>[False, True, None]</td>\n",
       "      <td>2</td>\n",
       "    </tr>\n",
       "    <tr>\n",
       "      <th>14</th>\n",
       "      <td>Contract</td>\n",
       "      <td>[Month-to-month, One year, Two year]</td>\n",
       "      <td>3</td>\n",
       "    </tr>\n",
       "    <tr>\n",
       "      <th>15</th>\n",
       "      <td>PaperlessBilling</td>\n",
       "      <td>[True, False]</td>\n",
       "      <td>2</td>\n",
       "    </tr>\n",
       "    <tr>\n",
       "      <th>16</th>\n",
       "      <td>Churn</td>\n",
       "      <td>[False, True, None]</td>\n",
       "      <td>2</td>\n",
       "    </tr>\n",
       "  </tbody>\n",
       "</table>\n",
       "</div>"
      ],
      "text/plain": [
       "              Column                                      Unique_Values  \\\n",
       "0             gender                                     [Female, Male]   \n",
       "1      SeniorCitizen                                             [0, 1]   \n",
       "2            Partner                                      [True, False]   \n",
       "3         Dependents                                      [False, True]   \n",
       "4             tenure  [1, 34, 2, 45, 8, 22, 10, 28, 62, 13, 16, 58, ...   \n",
       "5       PhoneService                                      [False, True]   \n",
       "6      MultipleLines                                [None, False, True]   \n",
       "7    InternetService                             [DSL, Fiber optic, No]   \n",
       "8     OnlineSecurity                                [False, True, None]   \n",
       "9       OnlineBackup                                [True, False, None]   \n",
       "10  DeviceProtection                                [False, True, None]   \n",
       "11       TechSupport                                [False, True, None]   \n",
       "12       StreamingTV                                [False, True, None]   \n",
       "13   StreamingMovies                                [False, True, None]   \n",
       "14          Contract               [Month-to-month, One year, Two year]   \n",
       "15  PaperlessBilling                                      [True, False]   \n",
       "16             Churn                                [False, True, None]   \n",
       "\n",
       "    Num_Unique_Values  \n",
       "0                   2  \n",
       "1                   2  \n",
       "2                   2  \n",
       "3                   2  \n",
       "4                  73  \n",
       "5                   2  \n",
       "6                   2  \n",
       "7                   3  \n",
       "8                   2  \n",
       "9                   2  \n",
       "10                  2  \n",
       "11                  2  \n",
       "12                  2  \n",
       "13                  2  \n",
       "14                  3  \n",
       "15                  2  \n",
       "16                  2  "
      ]
     },
     "execution_count": 89,
=======
      "text/plain": [
       "customerid            0\n",
       "gender                0\n",
       "seniorcitizen         0\n",
       "partner               0\n",
       "dependents            0\n",
       "tenure                0\n",
       "phoneservice          0\n",
       "multiplelines       269\n",
       "internetservice       0\n",
       "onlinesecurity      651\n",
       "onlinebackup        651\n",
       "deviceprotection    651\n",
       "techsupport         651\n",
       "streamingtv         651\n",
       "streamingmovies     651\n",
       "contract              0\n",
       "paperlessbilling      0\n",
       "paymentmethod         0\n",
       "monthlycharges        0\n",
       "totalcharges          8\n",
       "churn                 1\n",
       "dtype: int64"
      ]
     },
     "execution_count": 23,
>>>>>>> 3f3b77ef44614fdfaf8118faf47d0d0d9d6f8c5e
     "metadata": {},
     "output_type": "execute_result"
    }
   ],
   "source": [
    "train_df.isnull().sum()"
   ]
  },
  {
   "cell_type": "markdown",
   "id": "c257f590",
   "metadata": {},
   "source": [
    "Filling the missing values in 'multiplelines', 'onlinesecurity', 'onlinebackup', 'deviceprotection', 'techsupport', 'streamingtv', 'streamingmovies' with a 'NO' value "
   ]
  },
  {
   "cell_type": "code",
<<<<<<< HEAD
   "execution_count": 90,
=======
   "execution_count": 24,
   "id": "b849871b",
   "metadata": {},
   "outputs": [],
   "source": [
    "# # Filling all missing values with 'no'\n",
    "cols_to_use = ['multiplelines', 'onlinesecurity', 'onlinebackup', 'deviceprotection', 'techsupport', 'streamingtv', 'streamingmovies']\n",
    "for values in cols_to_use:\n",
    "    if train_df[values].isna().any() == True:\n",
    "        train_df[values] = train_df[values].fillna('No')\n",
    "        "
   ]
  },
  {
   "cell_type": "markdown",
   "id": "b41f6bdb",
   "metadata": {},
   "source": [
    "Filling the missing values in the totalcharges column with their corresponding values in the monthlycharge column"
   ]
  },
  {
   "cell_type": "code",
   "execution_count": 25,
   "id": "5299919c",
   "metadata": {},
   "outputs": [],
   "source": [
    "#Creating a mask variable for the missing values in the column for totalcharges\n",
    "mask = train_df['totalcharges'].isna()\n",
    "\n",
    "# Filling the missing values of totalcharge with the values of the monthlycharge\n",
    "train_df['totalcharges'].fillna(train_df.loc[mask,'monthlycharges'], inplace = True)\n"
   ]
  },
  {
   "cell_type": "markdown",
   "id": "e70915fa",
   "metadata": {},
   "source": [
    "Changing the datatype of the Total Charges column from string to float"
   ]
  },
  {
   "cell_type": "code",
   "execution_count": 26,
   "id": "32bed2c9",
   "metadata": {},
   "outputs": [],
   "source": [
    "train_df['totalcharges'] = train_df['totalcharges'].astype(float)"
   ]
  },
  {
   "cell_type": "markdown",
   "id": "8d0daf29",
   "metadata": {},
   "source": [
    "Filling the missing value in the churn column with the mode"
   ]
  },
  {
   "cell_type": "code",
   "execution_count": 27,
   "id": "f7fe776f",
   "metadata": {},
   "outputs": [],
   "source": [
    "# Filling the missing value in the churn column with mode\n",
    "mode_churn = train_df['churn'].mode()[0]\n",
    "train_df['churn'] = train_df['churn'].fillna(mode_churn)\n"
   ]
  },
  {
   "cell_type": "markdown",
   "id": "cec87866",
   "metadata": {},
   "source": [
    "Dropping the customerid column from our Data Frame as we will not need it for analysis"
   ]
  },
  {
   "cell_type": "code",
   "execution_count": 28,
   "id": "b6d7f385",
   "metadata": {},
   "outputs": [],
   "source": [
    "train_df.drop('customerid', axis=1,inplace =True)"
   ]
  },
  {
   "cell_type": "code",
   "execution_count": 29,
   "id": "142eae5d",
>>>>>>> 3f3b77ef44614fdfaf8118faf47d0d0d9d6f8c5e
   "metadata": {},
   "outputs": [
    {
     "data": {
<<<<<<< HEAD
      "text/html": [
       "<div>\n",
       "<style scoped>\n",
       "    .dataframe tbody tr th:only-of-type {\n",
       "        vertical-align: middle;\n",
       "    }\n",
       "\n",
       "    .dataframe tbody tr th {\n",
       "        vertical-align: top;\n",
       "    }\n",
       "\n",
       "    .dataframe thead th {\n",
       "        text-align: right;\n",
       "    }\n",
       "</style>\n",
       "<table border=\"1\" class=\"dataframe\">\n",
       "  <thead>\n",
       "    <tr style=\"text-align: right;\">\n",
       "      <th></th>\n",
       "      <th>gender</th>\n",
       "      <th>SeniorCitizen</th>\n",
       "      <th>Partner</th>\n",
       "      <th>Dependents</th>\n",
       "      <th>tenure</th>\n",
       "      <th>PhoneService</th>\n",
       "      <th>MultipleLines</th>\n",
       "      <th>InternetService</th>\n",
       "      <th>OnlineSecurity</th>\n",
       "      <th>OnlineBackup</th>\n",
       "      <th>DeviceProtection</th>\n",
       "      <th>TechSupport</th>\n",
       "      <th>StreamingTV</th>\n",
       "      <th>StreamingMovies</th>\n",
       "      <th>Contract</th>\n",
       "      <th>PaperlessBilling</th>\n",
       "      <th>PaymentMethod</th>\n",
       "      <th>MonthlyCharges</th>\n",
       "      <th>TotalCharges</th>\n",
       "      <th>Churn</th>\n",
       "    </tr>\n",
       "  </thead>\n",
       "  <tbody>\n",
       "    <tr>\n",
       "      <th>0</th>\n",
       "      <td>Female</td>\n",
       "      <td>0</td>\n",
       "      <td>True</td>\n",
       "      <td>False</td>\n",
       "      <td>1</td>\n",
       "      <td>False</td>\n",
       "      <td>None</td>\n",
       "      <td>DSL</td>\n",
       "      <td>False</td>\n",
       "      <td>True</td>\n",
       "      <td>False</td>\n",
       "      <td>False</td>\n",
       "      <td>False</td>\n",
       "      <td>False</td>\n",
       "      <td>Month-to-month</td>\n",
       "      <td>True</td>\n",
       "      <td>Electronic check</td>\n",
       "      <td>29.850000</td>\n",
       "      <td>29.85</td>\n",
       "      <td>False</td>\n",
       "    </tr>\n",
       "    <tr>\n",
       "      <th>1</th>\n",
       "      <td>Male</td>\n",
       "      <td>0</td>\n",
       "      <td>False</td>\n",
       "      <td>False</td>\n",
       "      <td>34</td>\n",
       "      <td>True</td>\n",
       "      <td>False</td>\n",
       "      <td>DSL</td>\n",
       "      <td>True</td>\n",
       "      <td>False</td>\n",
       "      <td>True</td>\n",
       "      <td>False</td>\n",
       "      <td>False</td>\n",
       "      <td>False</td>\n",
       "      <td>One year</td>\n",
       "      <td>False</td>\n",
       "      <td>Mailed check</td>\n",
       "      <td>56.950001</td>\n",
       "      <td>1889.5</td>\n",
       "      <td>False</td>\n",
       "    </tr>\n",
       "    <tr>\n",
       "      <th>2</th>\n",
       "      <td>Male</td>\n",
       "      <td>0</td>\n",
       "      <td>False</td>\n",
       "      <td>False</td>\n",
       "      <td>2</td>\n",
       "      <td>True</td>\n",
       "      <td>False</td>\n",
       "      <td>DSL</td>\n",
       "      <td>True</td>\n",
       "      <td>True</td>\n",
       "      <td>False</td>\n",
       "      <td>False</td>\n",
       "      <td>False</td>\n",
       "      <td>False</td>\n",
       "      <td>Month-to-month</td>\n",
       "      <td>True</td>\n",
       "      <td>Mailed check</td>\n",
       "      <td>53.849998</td>\n",
       "      <td>108.150002</td>\n",
       "      <td>True</td>\n",
       "    </tr>\n",
       "    <tr>\n",
       "      <th>3</th>\n",
       "      <td>Male</td>\n",
       "      <td>0</td>\n",
       "      <td>False</td>\n",
       "      <td>False</td>\n",
       "      <td>45</td>\n",
       "      <td>False</td>\n",
       "      <td>None</td>\n",
       "      <td>DSL</td>\n",
       "      <td>True</td>\n",
       "      <td>False</td>\n",
       "      <td>True</td>\n",
       "      <td>True</td>\n",
       "      <td>False</td>\n",
       "      <td>False</td>\n",
       "      <td>One year</td>\n",
       "      <td>False</td>\n",
       "      <td>Bank transfer (automatic)</td>\n",
       "      <td>42.299999</td>\n",
       "      <td>1840.75</td>\n",
       "      <td>False</td>\n",
       "    </tr>\n",
       "    <tr>\n",
       "      <th>4</th>\n",
       "      <td>Female</td>\n",
       "      <td>0</td>\n",
       "      <td>False</td>\n",
       "      <td>False</td>\n",
       "      <td>2</td>\n",
       "      <td>True</td>\n",
       "      <td>False</td>\n",
       "      <td>Fiber optic</td>\n",
       "      <td>False</td>\n",
       "      <td>False</td>\n",
       "      <td>False</td>\n",
       "      <td>False</td>\n",
       "      <td>False</td>\n",
       "      <td>False</td>\n",
       "      <td>Month-to-month</td>\n",
       "      <td>True</td>\n",
       "      <td>Electronic check</td>\n",
       "      <td>70.699997</td>\n",
       "      <td>151.649994</td>\n",
       "      <td>True</td>\n",
       "    </tr>\n",
       "  </tbody>\n",
       "</table>\n",
       "</div>"
      ],
      "text/plain": [
       "   gender  SeniorCitizen  Partner  Dependents  tenure  PhoneService  \\\n",
       "0  Female              0     True       False       1         False   \n",
       "1    Male              0    False       False      34          True   \n",
       "2    Male              0    False       False       2          True   \n",
       "3    Male              0    False       False      45         False   \n",
       "4  Female              0    False       False       2          True   \n",
       "\n",
       "  MultipleLines InternetService OnlineSecurity OnlineBackup DeviceProtection  \\\n",
       "0          None             DSL          False         True            False   \n",
       "1         False             DSL           True        False             True   \n",
       "2         False             DSL           True         True            False   \n",
       "3          None             DSL           True        False             True   \n",
       "4         False     Fiber optic          False        False            False   \n",
       "\n",
       "  TechSupport StreamingTV StreamingMovies        Contract  PaperlessBilling  \\\n",
       "0       False       False           False  Month-to-month              True   \n",
       "1       False       False           False        One year             False   \n",
       "2       False       False           False  Month-to-month              True   \n",
       "3        True       False           False        One year             False   \n",
       "4       False       False           False  Month-to-month              True   \n",
       "\n",
       "               PaymentMethod  MonthlyCharges TotalCharges  Churn  \n",
       "0           Electronic check       29.850000        29.85  False  \n",
       "1               Mailed check       56.950001       1889.5  False  \n",
       "2               Mailed check       53.849998   108.150002   True  \n",
       "3  Bank transfer (automatic)       42.299999      1840.75  False  \n",
       "4           Electronic check       70.699997   151.649994   True  "
      ]
     },
     "execution_count": 90,
=======
      "text/plain": [
       "gender              0\n",
       "seniorcitizen       0\n",
       "partner             0\n",
       "dependents          0\n",
       "tenure              0\n",
       "phoneservice        0\n",
       "multiplelines       0\n",
       "internetservice     0\n",
       "onlinesecurity      0\n",
       "onlinebackup        0\n",
       "deviceprotection    0\n",
       "techsupport         0\n",
       "streamingtv         0\n",
       "streamingmovies     0\n",
       "contract            0\n",
       "paperlessbilling    0\n",
       "paymentmethod       0\n",
       "monthlycharges      0\n",
       "totalcharges        0\n",
       "churn               0\n",
       "dtype: int64"
      ]
     },
     "execution_count": 29,
>>>>>>> 3f3b77ef44614fdfaf8118faf47d0d0d9d6f8c5e
     "metadata": {},
     "output_type": "execute_result"
    }
   ],
   "source": [
    "train_df.isna().sum()"
   ]
  },
  {
   "cell_type": "code",
<<<<<<< HEAD
   "execution_count": 91,
=======
   "execution_count": 30,
   "id": "dfbbf228",
>>>>>>> 3f3b77ef44614fdfaf8118faf47d0d0d9d6f8c5e
   "metadata": {},
   "outputs": [
    {
     "name": "stdout",
     "output_type": "stream",
     "text": [
      "<class 'pandas.core.frame.DataFrame'>\n",
      "RangeIndex: 5043 entries, 0 to 5042\n",
      "Data columns (total 20 columns):\n",
      " #   Column            Non-Null Count  Dtype  \n",
      "---  ------            --------------  -----  \n",
      " 0   gender            5043 non-null   object \n",
<<<<<<< HEAD
      " 1   SeniorCitizen     5043 non-null   int64  \n",
      " 2   Partner           5043 non-null   bool   \n",
      " 3   Dependents        5043 non-null   bool   \n",
      " 4   tenure            5043 non-null   int64  \n",
      " 5   PhoneService      5043 non-null   bool   \n",
      " 6   MultipleLines     4774 non-null   object \n",
      " 7   InternetService   5043 non-null   object \n",
      " 8   OnlineSecurity    4392 non-null   object \n",
      " 9   OnlineBackup      4392 non-null   object \n",
      " 10  DeviceProtection  4392 non-null   object \n",
      " 11  TechSupport       4392 non-null   object \n",
      " 12  StreamingTV       4392 non-null   object \n",
      " 13  StreamingMovies   4392 non-null   object \n",
      " 14  Contract          5043 non-null   object \n",
      " 15  PaperlessBilling  5043 non-null   bool   \n",
      " 16  PaymentMethod     5043 non-null   object \n",
      " 17  MonthlyCharges    5043 non-null   float64\n",
      " 18  TotalCharges      5038 non-null   object \n",
      " 19  Churn             5042 non-null   object \n",
      "dtypes: bool(4), float64(1), int64(2), object(13)\n",
      "memory usage: 650.2+ KB\n"
=======
      " 1   seniorcitizen     5043 non-null   int64  \n",
      " 2   partner           5043 non-null   object \n",
      " 3   dependents        5043 non-null   object \n",
      " 4   tenure            5043 non-null   int64  \n",
      " 5   phoneservice      5043 non-null   object \n",
      " 6   multiplelines     5043 non-null   object \n",
      " 7   internetservice   5043 non-null   object \n",
      " 8   onlinesecurity    5043 non-null   object \n",
      " 9   onlinebackup      5043 non-null   object \n",
      " 10  deviceprotection  5043 non-null   object \n",
      " 11  techsupport       5043 non-null   object \n",
      " 12  streamingtv       5043 non-null   object \n",
      " 13  streamingmovies   5043 non-null   object \n",
      " 14  contract          5043 non-null   object \n",
      " 15  paperlessbilling  5043 non-null   object \n",
      " 16  paymentmethod     5043 non-null   object \n",
      " 17  monthlycharges    5043 non-null   float64\n",
      " 18  totalcharges      5043 non-null   float64\n",
      " 19  churn             5043 non-null   object \n",
      "dtypes: float64(2), int64(2), object(16)\n",
      "memory usage: 788.1+ KB\n"
>>>>>>> 3f3b77ef44614fdfaf8118faf47d0d0d9d6f8c5e
     ]
    }
   ],
   "source": [
    "train_df.info()"
   ]
  },
  {
   "cell_type": "code",
<<<<<<< HEAD
   "execution_count": 92,
=======
   "execution_count": 31,
   "id": "354624d6",
>>>>>>> 3f3b77ef44614fdfaf8118faf47d0d0d9d6f8c5e
   "metadata": {},
   "outputs": [
    {
     "data": {
      "text/plain": [
       "gender              0\n",
       "seniorcitizen       0\n",
       "partner             0\n",
       "dependents          0\n",
       "tenure              0\n",
       "phoneservice        0\n",
       "multiplelines       0\n",
       "internetservice     0\n",
       "onlinesecurity      0\n",
       "onlinebackup        0\n",
       "deviceprotection    0\n",
       "techsupport         0\n",
       "streamingtv         0\n",
       "streamingmovies     0\n",
       "contract            0\n",
       "paperlessbilling    0\n",
       "paymentmethod       0\n",
       "monthlycharges      0\n",
       "totalcharges        0\n",
       "churn               0\n",
       "dtype: int64"
      ]
     },
     "execution_count": 31,
     "metadata": {},
     "output_type": "execute_result"
    }
   ],
   "source": [
    "train_df.isna().sum()"
   ]
  },
  {
   "cell_type": "markdown",
   "id": "4f347041",
   "metadata": {},
   "source": [
    "### Univariate Analysis:"
   ]
  },
  {
   "cell_type": "code",
   "execution_count": 32,
   "id": "c1c83a8b",
   "metadata": {},
   "outputs": [
    {
     "data": {
      "image/png": "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",
      "text/plain": [
       "<Figure size 800x600 with 1 Axes>"
      ]
     },
     "metadata": {},
     "output_type": "display_data"
    },
    {
     "name": "stdout",
     "output_type": "stream",
     "text": [
      "Summary statistics for Tenure:\n",
      "count    5043.000000\n",
      "mean       32.576641\n",
      "std        24.529807\n",
      "min         0.000000\n",
      "25%         9.000000\n",
      "50%        29.000000\n",
      "75%        56.000000\n",
      "max        72.000000\n",
      "Name: tenure, dtype: float64\n"
     ]
    },
    {
     "data": {
      "image/png": "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",
      "text/plain": [
       "<Figure size 800x600 with 1 Axes>"
      ]
     },
     "metadata": {},
     "output_type": "display_data"
    },
    {
     "name": "stdout",
     "output_type": "stream",
     "text": [
<<<<<<< HEAD
      "      gender  SeniorCitizen  Partner  Dependents  tenure  PhoneService  \\\n",
      "22      Male              0    False       False       1          True   \n",
      "100     Male              0    False       False       1          True   \n",
      "542   Female              0    False       False       1          True   \n",
      "646     Male              0    False       False       1          True   \n",
      "690     Male              0    False       False       1          True   \n",
      "964     Male              0    False       False       1          True   \n",
      "976     Male              0    False       False       1          True   \n",
      "1338    Male              0    False       False       1          True   \n",
      "1491  Female              0    False       False       1          True   \n",
      "1739    Male              0    False       False       1          True   \n",
      "1932    Male              0    False       False       1          True   \n",
      "2121    Male              0    False       False       1          True   \n",
      "2713    Male              0    False       False       1          True   \n",
      "2892    Male              0    False       False       1          True   \n",
      "3170  Female              0    False       False       1          True   \n",
      "3522  Female              0    False       False       1          True   \n",
      "3759  Female              0    False       False       1          True   \n",
      "4491  Female              0    False       False       1          True   \n",
      "4764  Female              0    False       False       1          True   \n",
      "4774  Female              0    False       False       1          True   \n",
      "\n",
      "     MultipleLines InternetService OnlineSecurity OnlineBackup  \\\n",
      "22           False              No           None         None   \n",
      "100          False              No           None         None   \n",
      "542          False              No           None         None   \n",
      "646          False             DSL          False        False   \n",
      "690          False              No           None         None   \n",
      "964          False             DSL          False        False   \n",
      "976          False     Fiber optic          False        False   \n",
      "1338         False              No           None         None   \n",
      "1491         False              No           None         None   \n",
      "1739         False     Fiber optic          False        False   \n",
      "1932         False              No           None         None   \n",
      "2121         False              No           None         None   \n",
      "2713         False              No           None         None   \n",
      "2892         False              No           None         None   \n",
      "3170         False              No          False        False   \n",
      "3522         False     Fiber optic          False        False   \n",
      "3759         False     Fiber optic          False        False   \n",
      "4491         False     Fiber optic          False        False   \n",
      "4764         False     Fiber optic          False        False   \n",
      "4774         False              No          False        False   \n",
      "\n",
      "     DeviceProtection TechSupport StreamingTV StreamingMovies        Contract  \\\n",
      "22               None        None        None            None  Month-to-month   \n",
      "100              None        None        None            None  Month-to-month   \n",
      "542              None        None        None            None  Month-to-month   \n",
      "646             False       False       False           False  Month-to-month   \n",
      "690              None        None        None            None  Month-to-month   \n",
      "964             False       False       False           False  Month-to-month   \n",
      "976             False       False       False           False  Month-to-month   \n",
      "1338             None        None        None            None  Month-to-month   \n",
      "1491             None        None        None            None  Month-to-month   \n",
      "1739            False       False       False           False  Month-to-month   \n",
      "1932             None        None        None            None  Month-to-month   \n",
      "2121             None        None        None            None  Month-to-month   \n",
      "2713             None        None        None            None  Month-to-month   \n",
      "2892             None        None        None            None  Month-to-month   \n",
      "3170            False       False       False           False  Month-to-month   \n",
      "3522            False       False       False           False  Month-to-month   \n",
      "3759            False       False       False           False  Month-to-month   \n",
      "4491            False       False       False           False  Month-to-month   \n",
      "4764            False       False       False           False  Month-to-month   \n",
      "4774            False       False       False           False  Month-to-month   \n",
      "\n",
      "      PaperlessBilling     PaymentMethod  MonthlyCharges TotalCharges  Churn  \n",
      "22               False      Mailed check       20.150000        20.15   True  \n",
      "100              False      Mailed check       20.200001    20.200001  False  \n",
      "542              False      Mailed check       19.549999    19.549999  False  \n",
      "646               True      Mailed check       45.700001    45.700001   True  \n",
      "690               True      Mailed check       20.450001    20.450001  False  \n",
      "964               True      Mailed check       45.700001    45.700001   True  \n",
      "976               True  Electronic check       69.900002    69.900002   True  \n",
      "1338             False      Mailed check       20.150000        20.15   True  \n",
      "1491             False      Mailed check       19.549999    19.549999  False  \n",
      "1739              True  Electronic check       69.900002    69.900002   True  \n",
      "1932             False      Mailed check       20.200001    20.200001  False  \n",
      "2121             False      Mailed check       20.450001    20.450001  False  \n",
      "2713              True      Mailed check       20.450001    20.450001  False  \n",
      "2892             False      Mailed check       20.450001    20.450001  False  \n",
      "3170             False      Mailed check       19.650000        19.65  False  \n",
      "3522              True      Mailed check       70.150000        70.15   True  \n",
      "3759              True      Mailed check       70.150000        70.15   True  \n",
      "4491              True  Electronic check       69.200000         69.2   True  \n",
      "4764              True  Electronic check       69.200000         69.2   True  \n",
      "4774             False      Mailed check       19.650000        19.65  False  \n"
=======
      "\n",
      "Summary statistics for Monthly Charges:\n",
      "count    5043.000000\n",
      "mean       65.090214\n",
      "std        30.068133\n",
      "min        18.400000\n",
      "25%        35.775000\n",
      "50%        70.550003\n",
      "75%        90.050003\n",
      "max       118.650002\n",
      "Name: monthlycharges, dtype: float64\n"
     ]
    },
    {
     "data": {
      "image/png": "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",
      "text/plain": [
       "<Figure size 800x600 with 1 Axes>"
      ]
     },
     "metadata": {},
     "output_type": "display_data"
    },
    {
     "name": "stdout",
     "output_type": "stream",
     "text": [
      "\n",
      "Churn distribution:\n",
      "churn\n",
      "No     3707\n",
      "Yes    1336\n",
      "Name: count, dtype: int64\n"
>>>>>>> 3f3b77ef44614fdfaf8118faf47d0d0d9d6f8c5e
     ]
    }
   ],
   "source": [
    "# Tenure\n",
    "plt.figure(figsize=(8, 6))\n",
    "sns.histplot(train_df['tenure'], bins=20, kde=True)\n",
    "plt.title('Distribution of tenure')\n",
    "plt.xlabel('Tenure (Months)')\n",
    "plt.ylabel('Frequency')\n",
    "plt.show()\n",
    " \n",
    "print(\"Summary statistics for Tenure:\")\n",
    "print(train_df['tenure'].describe())\n",
    " \n",
    "# Monthly Charges\n",
    "plt.figure(figsize=(8, 6))\n",
    "sns.histplot(train_df['monthlycharges'], bins=20, kde=True)\n",
    "plt.title('Distribution of Monthly Charges')\n",
    "plt.xlabel('Monthly Charges')\n",
    "plt.ylabel('Frequency')\n",
    "plt.show()\n",
    " \n",
    "print(\"\\nSummary statistics for Monthly Charges:\")\n",
    "print(train_df['monthlycharges'].describe())\n",
    " \n",
    "# Churn\n",
    "plt.figure(figsize=(8, 6))\n",
    "sns.countplot(data=train_df, x='churn')\n",
    "plt.title('Churn Distribution')\n",
    "plt.xlabel('Churn')\n",
    "plt.ylabel('Count')\n",
    "plt.show()\n",
    " \n",
    "print(\"\\nChurn distribution:\")\n",
    "print(train_df['churn'].value_counts())"
   ]
  },
  {
   "cell_type": "markdown",
   "id": "06d35824",
   "metadata": {},
   "source": [
    "### Bivariate Analysis:\n"
   ]
  },
  {
   "cell_type": "code",
<<<<<<< HEAD
   "execution_count": 93,
   "metadata": {},
   "outputs": [
    {
     "name": "stdout",
     "output_type": "stream",
     "text": [
      "gender                0\n",
      "SeniorCitizen         0\n",
      "Partner               0\n",
      "Dependents            0\n",
      "tenure                0\n",
      "PhoneService          0\n",
      "MultipleLines       269\n",
      "InternetService       0\n",
      "OnlineSecurity      651\n",
      "OnlineBackup        651\n",
      "DeviceProtection    651\n",
      "TechSupport         651\n",
      "StreamingTV         651\n",
      "StreamingMovies     651\n",
      "Contract              0\n",
      "PaperlessBilling      0\n",
      "PaymentMethod         0\n",
      "MonthlyCharges        0\n",
      "TotalCharges          5\n",
      "Churn                 1\n",
      "dtype: int64\n"
     ]
    }
   ],
   "source": [
    "print(valid_data.isna().sum())"
   ]
  },
  {
   "cell_type": "code",
   "execution_count": 94,
   "metadata": {},
   "outputs": [],
   "source": [
    "valid_data['TotalCharges'] = valid_data['TotalCharges'].replace(' ', np.nan)\n",
    "\n",
    "\n",
    "cols_to_convert = ['gender', 'SeniorCitizen', 'Partner', 'Dependents', \n",
    "       'tenure', 'PhoneService', 'MultipleLines', 'InternetService', \n",
    "       'OnlineSecurity', 'OnlineBackup', 'DeviceProtection', 'TechSupport', \n",
    "       'StreamingTV', 'StreamingMovies', 'Contract', 'PaperlessBilling', \n",
    "       'PaymentMethod', 'MonthlyCharges', 'TotalCharges', 'Churn']\n",
    "\n",
    "valid_data[cols_to_convert] = valid_data[cols_to_convert].astype({\n",
    "   'gender': 'category',\n",
    "   'SeniorCitizen': 'category',\n",
    "   'Partner': 'category',\n",
    "   'Dependents': 'category',\n",
    "   'tenure': 'int16',\n",
    "   'MonthlyCharges': 'float32',\n",
    "   'TotalCharges': 'float32',\n",
    "   'Churn': 'category'\n",
    "})"
   ]
  },
  {
   "cell_type": "code",
   "execution_count": 95,
=======
   "execution_count": 33,
   "id": "9a2e4c3a",
>>>>>>> 3f3b77ef44614fdfaf8118faf47d0d0d9d6f8c5e
   "metadata": {},
   "outputs": [
    {
     "data": {
<<<<<<< HEAD
      "text/plain": [
       "gender              category\n",
       "SeniorCitizen       category\n",
       "Partner             category\n",
       "Dependents          category\n",
       "tenure                 int16\n",
       "PhoneService            bool\n",
       "MultipleLines         object\n",
       "InternetService       object\n",
       "OnlineSecurity        object\n",
       "OnlineBackup          object\n",
       "DeviceProtection      object\n",
       "TechSupport           object\n",
       "StreamingTV           object\n",
       "StreamingMovies       object\n",
       "Contract              object\n",
       "PaperlessBilling        bool\n",
       "PaymentMethod         object\n",
       "MonthlyCharges       float32\n",
       "TotalCharges         float32\n",
       "Churn               category\n",
       "dtype: object"
      ]
     },
     "metadata": {},
     "output_type": "display_data"
    }
   ],
   "source": [
    "# convert the numeric columns to float\n",
    "numeric_cols = ['tenure', 'MonthlyCharges', 'TotalCharges']\n",
    "\n",
    "valid_data[numeric_cols] = valid_data[numeric_cols].apply(pd.to_numeric, errors='coerce')\n",
    "\n",
    "display(valid_data.dtypes)"
   ]
  },
  {
   "cell_type": "markdown",
   "metadata": {},
   "source": [
    "Fill nulls.\n",
    " - Churn nulls with the mode\n",
    " - In total charges, fill the nulls with the respective entry in the monthly charges column\n",
    " - The rest with no"
   ]
  },
  {
   "cell_type": "code",
   "execution_count": 96,
   "metadata": {},
   "outputs": [],
   "source": [
    "# # Filling all missing values with 'no'\n",
    "cols_to_use = ['MultipleLines', 'OnlineSecurity', 'OnlineBackup', 'DeviceProtection', 'TechSupport', 'StreamingTV', 'StreamingMovies']\n",
    "for values in cols_to_use:\n",
    "    if valid_data[values].isna().any() == True:\n",
    "        valid_data[values] = valid_data[values].fillna('No')\n",
    "        "
   ]
  },
  {
   "cell_type": "code",
   "execution_count": 97,
   "metadata": {},
   "outputs": [],
   "source": [
    "#Creating a mask variable for the missing values in the column for totalcharges\n",
    "mask = valid_data['TotalCharges'].isna()\n",
    "\n",
    "# Filling the missing values of totalcharge with the values of the monthlycharge\n",
    "valid_data['TotalCharges'].fillna(valid_data.loc[mask,'MonthlyCharges'], inplace = True)\n",
    "\n"
   ]
  },
  {
   "cell_type": "code",
   "execution_count": 98,
   "metadata": {},
   "outputs": [],
   "source": [
    "# Filling the missing value in the churn column with mode\n",
    "mode_churn = valid_data['Churn'].mode()[0]\n",
    "valid_data['Churn'] = valid_data['Churn'].fillna(mode_churn)\n"
   ]
  },
  {
   "cell_type": "markdown",
   "metadata": {},
   "source": [
    "### **TESTING DATASET**\n",
    "1. Univariate analysis\n",
    "   - Tenure\n",
    "   - Monthly charges\n",
    "   - Churn\n",
    "2. Bivariate analysis\n",
    "   - Monthly charges by churn\n",
    "   - Gender by churn\n",
    "4. Multivariate analysis\n",
    "   - Tenure vs. MonthlyCharges vs churn\n",
    "   - Correlation matrix"
   ]
  },
  {
   "cell_type": "markdown",
   "metadata": {},
   "source": [
    " <h1 style=\"text-decoration: underline;\">1. Univariate Analysis</h1>"
   ]
  },
  {
   "cell_type": "code",
   "execution_count": 99,
   "metadata": {},
   "outputs": [
    {
     "data": {
      "image/png": "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",
      "text/plain": [
       "<Figure size 800x600 with 1 Axes>"
      ]
     },
     "metadata": {},
     "output_type": "display_data"
    },
    {
     "name": "stdout",
     "output_type": "stream",
     "text": [
      "Summary statistics for Tenure:\n",
      "count    5043.000000\n",
      "mean       32.576641\n",
      "std        24.529807\n",
      "min         0.000000\n",
      "25%         9.000000\n",
      "50%        29.000000\n",
      "75%        56.000000\n",
      "max        72.000000\n",
      "Name: tenure, dtype: float64\n"
     ]
    },
    {
     "data": {
      "image/png": "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",
      "text/plain": [
       "<Figure size 800x600 with 1 Axes>"
      ]
     },
     "metadata": {},
     "output_type": "display_data"
    },
    {
     "name": "stdout",
     "output_type": "stream",
     "text": [
      "\n",
      "Summary statistics for Monthly Charges:\n",
      "count    5043.000000\n",
      "mean       65.090210\n",
      "std        30.068132\n",
      "min        18.400000\n",
      "25%        35.775000\n",
      "50%        70.550003\n",
      "75%        90.050003\n",
      "max       118.650002\n",
      "Name: MonthlyCharges, dtype: float64\n"
     ]
    },
    {
     "data": {
      "image/png": "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",
      "text/plain": [
       "<Figure size 800x600 with 1 Axes>"
      ]
     },
     "metadata": {},
     "output_type": "display_data"
    },
    {
     "name": "stdout",
     "output_type": "stream",
     "text": [
      "\n",
      "Churn distribution:\n",
      "Churn\n",
      "False    3707\n",
      "True     1336\n",
      "Name: count, dtype: int64\n"
     ]
    }
   ],
   "source": [
    "# Tenure\n",
    "plt.figure(figsize=(8, 6))\n",
    "sns.histplot(valid_data['tenure'], bins=20, kde=True)\n",
    "plt.title('Distribution of tenure')\n",
    "plt.xlabel('Tenure (Months)')\n",
    "plt.ylabel('Frequency')\n",
    "plt.show()\n",
    "\n",
    "print(\"Summary statistics for Tenure:\")\n",
    "print(valid_data['tenure'].describe())\n",
    "\n",
    "# Monthly Charges\n",
    "plt.figure(figsize=(8, 6))\n",
    "sns.histplot(valid_data['MonthlyCharges'], bins=20, kde=True)\n",
    "plt.title('Distribution of Monthly Charges')\n",
    "plt.xlabel('Monthly Charges')\n",
    "plt.ylabel('Frequency')\n",
    "plt.show()\n",
    "\n",
    "print(\"\\nSummary statistics for Monthly Charges:\")\n",
    "print(valid_data['MonthlyCharges'].describe())\n",
    "\n",
    "# Churn\n",
    "plt.figure(figsize=(8, 6))\n",
    "sns.countplot(data=valid_data, x='Churn')\n",
    "plt.title('Churn Distribution')\n",
    "plt.xlabel('Churn')\n",
    "plt.ylabel('Count')\n",
    "plt.show()\n",
    "\n",
    "print(\"\\nChurn distribution:\")\n",
    "print(valid_data['Churn'].value_counts())"
   ]
  },
  {
   "cell_type": "markdown",
   "metadata": {},
   "source": [
    "<h1 style=\"text-decoration: underline;\">2. Bivariate Analysis</h1>"
   ]
  },
  {
   "cell_type": "code",
   "execution_count": 100,
   "metadata": {},
   "outputs": [
    {
     "data": {
      "image/png": "iVBORw0KGgoAAAANSUhEUgAAArcAAAIjCAYAAAAZajMiAAAAOXRFWHRTb2Z0d2FyZQBNYXRwbG90bGliIHZlcnNpb24zLjguMiwgaHR0cHM6Ly9tYXRwbG90bGliLm9yZy8g+/7EAAAACXBIWXMAAA9hAAAPYQGoP6dpAAA/pklEQVR4nO3deVxUZeP+8WuIVWQRM5AEJJdcsvJRM20xlUIzV8wl3C0tNVNLrcw1DfUpF1wfq0el1BYzS0vN1PRr5Z5LWS5pYBpYEiAuiHB+f/hzHickZ2hgxuPn/XrNK+c+Z+65BhKvOZy5j8UwDEMAAACACXi4OgAAAADgLJRbAAAAmAblFgAAAKZBuQUAAIBpUG4BAABgGpRbAAAAmAblFgAAAKZBuQUAAIBpUG4BAABgGpRbAKZhsVg0YMCAa+63YMECWSwW/fLLL8Uf6i+++uorWSwWLV26tMSf25Xc8XX/8ssvslgsev31110dBYATUW4BXNPlMmixWLR58+YC2w3DUEREhCwWix577LFizfLNN99ozJgxysjIKNbnKYqvvvpK7dq1U1hYmLy9vXXLLbeoZcuWWrZsmauj3XB2796tLl26KCIiQj4+PgoJCVFMTIzmz5+vvLw8V8cDUIwotwDs5uvrq8WLFxcY37hxo3799Vf5+PgUe4ZvvvlGY8eOdbtyO3r0aDVu3Fjff/+9+vbtq7lz52ro0KHKzs5WXFzcVb9uKB5vvfWW6tatqw0bNig+Pl6zZ8/WqFGj5Ofnp969e2vSpEmujgigGHm6OgCA68ejjz6qDz/8UImJifL0/N+Pj8WLF6tOnTr6448/XJjOdZYuXapx48apffv2Wrx4sby8vKzbhg4dqjVr1ig3N7dEM505c0b+/v4l+pzuYMuWLXr66afVoEEDff755woICLBuGzRokHbs2KHvv/++RDNdvHhR+fn58vb2LtHnBW5UHLkFYLfOnTvr1KlTWrt2rXXswoULWrp0qZ544omrPubMmTN6/vnnrb8evv322/X666/LMAyb/S6fL7t8+XLdcccd8vHxUc2aNbV69WrrPmPGjNHQoUMlSdHR0dZTJf567uzfzXE13bt3180333zVAvrII4/o9ttv/9vHjxw5UiEhIfrvf/9rU2wvi42NLXC6Rn5+viZMmKAKFSrI19dXTZs21eHDh232+b//+z89/vjjioyMlI+PjyIiIjR48GCdO3fOZr8ePXqodOnS+vnnn/Xoo48qICBA8fHxkqRz585p4MCBuvnmmxUQEKBWrVrp+PHjslgsGjNmjM08x48fV69evRQaGmr92v33v/8t8HpmzJihmjVrqlSpUipTpozq1q1r95HpvLw8vfzyywoLC5O/v79atWqlY8eOWbePHj1aXl5e+v333ws8tk+fPgoODtb58+cLnX/s2LGyWCxatGiRTbG9rG7duurRo0eB8Xnz5qlSpUry8fFRvXr1tH37dpvtDz30kB566KECj+vRo4cqVqxovX/lebzTpk2zzrl//36NGTNGFotFhw8fVo8ePRQcHKygoCD17NlTZ8+eLfQ1AXAMR24B2K1ixYpq0KCBlixZoubNm0uSVq1apczMTHXq1EmJiYk2+xuGoVatWmnDhg3q3bu37r77bq1Zs0ZDhw7V8ePHNXXqVJv9N2/erGXLlqlfv34KCAhQYmKi4uLilJKSorJly6pdu3Y6ePCglixZoqlTp+rmm2+WJJUrV87uOa6ma9euSkpK0po1a2xKaGpqqtavX6/Ro0cX+jU5dOiQfvrpJ/Xq1euqZaowEydOlIeHh1544QVlZmZq8uTJio+P19atW637fPjhhzp79qyeeeYZlS1bVtu2bdOMGTP066+/6sMPP7SZ7+LFi4qNjdX999+v119/XaVKlZJ0qXx98MEH6tq1q+69915t3LhRLVq0KJAnLS1N9957r/VNRrly5bRq1Sr17t1bWVlZGjRokCTpzTff1MCBA9W+fXs999xzOn/+vPbu3autW7cW+gbnShMmTJDFYtHw4cN18uRJTZs2TTExMdq9e7f8/PzUtWtXjRs3Tu+//77NhwMvv4mKi4uTr6/vVec+e/as1q1bpwcffFCRkZHXzHLZ4sWLdfr0afXt21cWi0WTJ09Wu3btdOTIkau+WbHH/Pnzdf78efXp08d6zu9lHTp0UHR0tBISErRr1y699dZbuuWWWzhdAnAWAwCuYf78+YYkY/v27cbMmTONgIAA4+zZs4ZhGMbjjz9uNG7c2DAMw4iKijJatGhhfdzy5csNScb48eNt5mvfvr1hsViMw4cPW8ckGd7e3jZje/bsMSQZM2bMsI79+9//NiQZR48eLZDT3jkuv57Lc+Tl5RkVKlQwOnbsaDPflClTDIvFYhw5cqTQr80nn3xiSDKmTp1a6D5X2rBhgyHJqF69upGTk2Mdnz59uiHJ2Ldvn3Xs8tf4SgkJCYbFYjGSk5OtY927dzckGS+++KLNvjt37jQkGYMGDbIZ79GjhyHJGD16tHWsd+/eRvny5Y0//vjDZt9OnToZQUFB1iytW7c2atasaddrvdrrvvXWW42srCzr+AcffGBIMqZPn24da9CggVG/fn2bxy9btsyQZGzYsKHQ57j8vX7uuefsynT06FFDklG2bFkjPT3dOn75e7pixQrrWKNGjYxGjRoVmKN79+5GVFRUgTkDAwONkydP2uw7evRoQ5LRq1cvm/G2bdsaZcuWtSszgGvjtAQADunQoYPOnTunlStX6vTp01q5cmWhR+w+//xz3XTTTRo4cKDN+PPPPy/DMLRq1Sqb8ZiYGFWqVMl6/84771RgYKCOHDlid76izOHh4aH4+Hh9+umnOn36tHV80aJFatiwoaKjowt9bFZWliQ5dNRWknr27GlzDuYDDzwgSTY5/fz8rH8+c+aM/vjjDzVs2FCGYei7774rMOczzzxjc//y6Rj9+vWzGX/22Wdt7huGoY8++kgtW7aUYRj6448/rLfY2FhlZmZq165dkqTg4GD9+uuvBX5tb69u3brZfK3at2+v8uXL6/PPP7fZZ+vWrfr555+tY4sWLVJERIQaNWpU6NxF/V507NhRZcqUsd6/2vfCUXFxcTa/UbjS008/bXP/gQce0KlTp6z5AfwzlFsADilXrpxiYmK0ePFiLVu2THl5eWrfvv1V901OTlZ4eHiBslG9enXr9itd7VfJZcqU0Z9//ml3vqLO0a1bN507d04ff/yxJOnAgQPauXOnunbt+rePCwwMlCSbUlyUnJfL1ZU5U1JS1KNHD4WEhKh06dIqV66ctdxlZmbaPN7T01MVKlSwGUtOTpaHh0eBcl65cmWb+7///rsyMjI0b948lStXzubWs2dPSdLJkyclScOHD1fp0qV1zz33qEqVKurfv7++/vpru193lSpVbO5bLBZVrlzZ5rzpjh07ysfHR4sWLbK+1pUrVyo+Pl4Wi6XQuYvze+Gov3tDVBzPB+B/OOcWgMOeeOIJPfXUU0pNTVXz5s0VHBzslHlvuummq44bf/nwWXHMUaNGDdWpU0fvvvuuunXrpnfffVfe3t7q0KHD3z6uWrVqkqR9+/bZndGenHl5eXr44YeVnp6u4cOHq1q1avL399fx48fVo0cP5efn2zzOx8dHHh5FO15xea4uXbqoe/fuV93nzjvvlHTpjcmBAwe0cuVKrV69Wh999JF1qa2xY8cW6fn/qkyZMnrssce0aNEijRo1SkuXLlVOTo66dOnyt4+rXLmyPD09nf69kC6V8Kv9P1TYmrlXHnUvyvMBKDqO3AJwWNu2beXh4aEtW7b87YeIoqKidOLEiQJH0n766Sfrdkf93ZG7f6pbt25av369fvvtNy1evFgtWrSw+XX11VStWlW33367PvnkE2VnZzsty759+3Tw4EG98cYbGj58uFq3bq2YmBiFh4fbPUdUVJTy8/N19OhRm/G/rspQrlw5BQQEKC8vTzExMVe93XLLLdb9/f391bFjR82fP18pKSlq0aKFJkyY8LerGFx26NAhm/uGYejw4cM2Kw5Il74XBw8e1Pbt27Vo0SLVrl1bNWvW/Nu5S5UqpSZNmmjTpk02KzA4Q5kyZa66tvJff/sAwPUotwAcVrp0ac2ZM0djxoxRy5YtC93v0UcfVV5enmbOnGkzPnXqVFksFuuKC464vHZrcVzEoXPnzrJYLHruued05MiRax4pvGzs2LE6deqUnnzySV28eLHA9i+++EIrV650KMvlo3tXHs0zDEPTp0+3e47Y2FhJ0uzZs23GZ8yYUeC54uLi9NFHH111Ddgrl+U6deqUzTZvb2/VqFFDhmHYtZZvUlKSzZudpUuX6rfffivw/0Lz5s118803a9KkSdq4caPd34vRo0fLMAx17dr1qm82du7cqYULF9o115UqVaqkn376yeZrsWfPHodOyQBQMjgtAUCRFPbr6yu1bNlSjRs31ogRI/TLL7/orrvu0hdffKFPPvlEgwYNsvngl73q1KkjSRoxYoQ6deokLy8vtWzZ0ikXLChXrpyaNWumDz/8UMHBwVddMutqOnbsqH379mnChAn67rvv1LlzZ0VFRenUqVNavXq11q1b5/AVyqpVq6ZKlSrphRde0PHjxxUYGKiPPvrIofMy69Spo7i4OE2bNk2nTp2yLgV28OBBSbZHwSdOnKgNGzaofv36euqpp1SjRg2lp6dr165d+vLLL5Weni7p0rq/YWFhuu+++xQaGqoff/xRM2fOVIsWLez6IFdISIjuv/9+9ezZU2lpaZo2bZoqV66sp556ymY/Ly8vderUSTNnztRNN92kzp072/WaGzZsqFmzZqlfv36qVq2aunbtqipVquj06dP66quv9Omnn2r8+PH2fgmtevXqpSlTpig2Nla9e/fWyZMnNXfuXNWsWZMPggFuhnILoNh4eHjo008/1ahRo/T+++9r/vz5qlixov7973/r+eefL9Kc9erV06uvvqq5c+dq9erV1l+7O+tqXN26ddPKlSvVoUMHhy4nPH78eDVp0kSJiYmaM2eO0tPTVaZMGd1777365JNP1KpVK4dyeHl5acWKFRo4cKASEhLk6+urtm3basCAAbrrrrvsnicpKUlhYWFasmSJPv74Y8XExOj999/X7bffbrNebGhoqLZt26Zx48Zp2bJlmj17tsqWLauaNWvarL/at29fLVq0SFOmTFF2drYqVKiggQMH6pVXXrErz8svv6y9e/cqISFBp0+fVtOmTTV79mzrurxX6tatm2bOnKmmTZuqfPnydr/mvn37ql69enrjjTeUlJSk33//XaVLl9a//vUvzZ8/3+6jwFeqXr26kpKSNGrUKA0ZMkQ1atTQO++8o8WLF+urr75yeD4AxcdicAY7AFh98sknatOmjTZt2mRdEspsdu/erdq1a+vdd9+1XsnMHe3Zs0d33323kpKSrrlqBQBcxjm3AHCFN998U7fddpvuv/9+V0dxir9eqleSpk2bJg8PDz344IMuSGS/N998U6VLl1a7du1cHQXAdYTTEgBA0nvvvae9e/fqs88+0/Tp04t1VYaSNHnyZO3cuVONGzeWp6enVq1apVWrVqlPnz6KiIhwdbyrWrFihfbv36958+ZpwIABTjvlBMCNgdMSAECXPlxVunRpdezYUXPnzpWnpzne+69du1Zjx47V/v37lZ2drcjISHXt2lUjRoxw29dYsWJFpaWlKTY2Vu+8847DVxwDcGOj3AIAAMA0OOcWAAAApkG5BQAAgGm45wlXJSw/P18nTpxQQECAaT5EAgAAYCaGYej06dMKDw+Xh0fhx2cpt5JOnDjhtp8aBgAAwP8cO3ZMFSpUKHQ75VayfhL32LFjCgwMdHEaAAAA/FVWVpYiIiKuuYIK5Vb/u756YGAg5RYAAMCNXesUUj5QBgAAANOg3AIAAMA0KLcAAAAwDcotAAAATINyCwAAANOg3AIAAMA0KLcAAAAwDcotAAAATMOl5XbTpk1q2bKlwsPDZbFYtHz5cuu23NxcDR8+XLVq1ZK/v7/Cw8PVrVs3nThxwmaO9PR0xcfHKzAwUMHBwerdu7eys7NL+JUAAADAHbi03J45c0Z33XWXZs2aVWDb2bNntWvXLo0cOVK7du3SsmXLdODAAbVq1cpmv/j4eP3www9au3atVq5cqU2bNqlPnz4l9RIAAADgRiyGYRiuDiFdupTaxx9/rDZt2hS6z/bt23XPPfcoOTlZkZGR+vHHH1WjRg1t375ddevWlSStXr1ajz76qH799VeFh4fb9dxZWVkKCgpSZmYml98FAABwQ/b2tevqnNvMzExZLBYFBwdLkr799lsFBwdbi60kxcTEyMPDQ1u3bi10npycHGVlZdncAAAAcP27bsrt+fPnNXz4cHXu3Nna1lNTU3XLLbfY7Ofp6amQkBClpqYWOldCQoKCgoKst4iIiGLNDgAAgJJxXZTb3NxcdejQQYZhaM6cOf94vpdeekmZmZnW27Fjx5yQEgAAAK7m6eoA13K52CYnJ2v9+vU251iEhYXp5MmTNvtfvHhR6enpCgsLK3ROHx8f+fj4FFtmAAAAuIZbH7m9XGwPHTqkL7/8UmXLlrXZ3qBBA2VkZGjnzp3WsfXr1ys/P1/169cv6bgAAABwMZceuc3Oztbhw4et948ePardu3crJCRE5cuXV/v27bVr1y6tXLlSeXl51vNoQ0JC5O3trerVq6tZs2Z66qmnNHfuXOXm5mrAgAHq1KmT3SslAAAAwDxcuhTYV199pcaNGxcY7969u8aMGaPo6OirPm7Dhg166KGHJF26iMOAAQO0YsUKeXh4KC4uTomJiSpdurTdOVgKrOSdP39eKSkpro6BEhYZGSlfX19XxwAAXIfs7Wtus86tK1FuS97Bgwe52MYNaN68eapataqrYwDFgjftNybetJcce/ua23+gDOYUGRmpefPmuTpGiUtOTtaECRM0YsQIRUVFuTpOiYuMjHR1BKDYpKSk8Kb9BsSbdvdDuYVL+Pr63tA/DKKiom7o1w+YEW/aedMO90C5BQDACXjTzpt2uAe3XgoMAAAAcATlFgAAAKZBuQUAAIBpUG4BAABgGpRbAAAAmAblFgAAAKZBuQUAAIBpUG4BAABgGpRbAAAAmAblFgAAAKZBuQUAAIBpUG4BAABgGpRbAAAAmAblFgAAAKZBuQUAAIBpUG4BAABgGpRbAAAAmAblFgAAAKZBuQUAAIBpUG4BAABgGpRbAAAAmAblFgAAAKZBuQUAAIBpUG4BAABgGpRbAAAAmAblFgAAAKZBuQUAAIBpUG4BAABgGpRbAAAAmAblFgAAAKZBuQUAAIBpUG4BAABgGpRbAAAAmAblFgAAAKZBuQUAAIBpUG4BAABgGpRbAAAAmAblFgAAAKZBuQUAAIBpUG4BAABgGpRbAAAAmAblFgAAAKZBuQUAAIBpUG4BAABgGpRbAAAAmAblFgAAAKZBuQUAAIBpUG4BAABgGpRbAAAAmAblFgAAAKZBuQUAAIBpUG4BAABgGpRbAAAAmAblFgAAAKZBuQUAAIBpUG4BAABgGpRbAAAAmAblFgAAAKZBuQUAAIBpUG4BAABgGpRbAAAAmAblFgAAAKZBuQUAAIBpUG4BAABgGpRbAAAAmAblFgAAAKZBuQUAAIBpUG4BAABgGpRbAAAAmAblFgAAAKbh0nK7adMmtWzZUuHh4bJYLFq+fLnNdsMwNGrUKJUvX15+fn6KiYnRoUOHbPZJT09XfHy8AgMDFRwcrN69eys7O7sEXwUAAADchUvL7ZkzZ3TXXXdp1qxZV90+efJkJSYmau7cudq6dav8/f0VGxur8+fPW/eJj4/XDz/8oLVr12rlypXatGmT+vTpU1IvAQAAAG7E05VP3rx5czVv3vyq2wzD0LRp0/TKK6+odevWkqSkpCSFhoZq+fLl6tSpk3788UetXr1a27dvV926dSVJM2bM0KOPPqrXX39d4eHhJfZaAAAA4Hpue87t0aNHlZqaqpiYGOtYUFCQ6tevr2+//VaS9O233yo4ONhabCUpJiZGHh4e2rp1a6Fz5+TkKCsry+YGAACA65/bltvU1FRJUmhoqM14aGiodVtqaqpuueUWm+2enp4KCQmx7nM1CQkJCgoKst4iIiKcnB4AAACu4Lbltji99NJLyszMtN6OHTvm6kgAAABwArctt2FhYZKktLQ0m/G0tDTrtrCwMJ08edJm+8WLF5Wenm7d52p8fHwUGBhocwMAAMD1z23LbXR0tMLCwrRu3TrrWFZWlrZu3aoGDRpIkho0aKCMjAzt3LnTus/69euVn5+v+vXrl3hmAAAAuJZLV0vIzs7W4cOHrfePHj2q3bt3KyQkRJGRkRo0aJDGjx+vKlWqKDo6WiNHjlR4eLjatGkjSapevbqaNWump556SnPnzlVubq4GDBigTp06sVICAADADcil5XbHjh1q3Lix9f6QIUMkSd27d9eCBQs0bNgwnTlzRn369FFGRobuv/9+rV69Wr6+vtbHLFq0SAMGDFDTpk3l4eGhuLg4JSYmlvhrAQAAgOu5tNw+9NBDMgyj0O0Wi0Xjxo3TuHHjCt0nJCREixcvLo54AAAAuM647Tm3AAAAgKMotwAAADANyi0AAABMg3ILAAAA06DcAgAAwDQotwAAADANyi0AAABMg3ILAAAA06DcAgAAwDQotwAAADANyi0AAABMg3ILAAAA06DcAgAAwDQotwAAADANyi0AAABMw9PVAQAA5pOWlqbMzExXx0AJSE5OtvkvzC8oKEihoaGujlEoyi0AwKnS0tLUpWs35V7IcXUUlKAJEya4OgJKiJe3j959J8ltCy7lFgDgVJmZmcq9kKNztzVSvm+Qq+MAcCKP85nSkY3KzMyk3AIAbiz5vkHK97/Z1TEA3GD4QBkAAABMg3ILAAAA06DcAgAAwDQotwAAADANyi0AAABMg3ILAAAA06DcAgAAwDQotwAAADANyi0AAABMg3ILAAAA06DcAgAAwDQotwAAADANyi0AAABMg3ILAAAA06DcAgAAwDQotwAAADANyi0AAABMg3ILAAAA06DcAgAAwDQotwAAADANT1cHgJSWlqbMzExXx0AJSE5OtvkvzC8oKEihoaGujgEANwzKrYulpaWpS9duyr2Q4+ooKEETJkxwdQSUEC9vH737ThIFFwBKCOXWxTIzM5V7IUfnbmukfN8gV8cB4EQe5zOlIxuVmZlJuQWAEkK5dRP5vkHK97/Z1TEAAACua3ygDAAAAKZBuQUAAIBpUG4BAABgGpRbAAAAmAblFgAAAKZBuQUAAIBpUG4BAABgGpRbAAAAmAblFgAAAKZBuQUAAIBpUG4BAABgGpRbAAAAmAblFgAAAKZBuQUAAIBpUG4BAABgGpRbAAAAmAblFgAAAKZBuQUAAIBpUG4BAABgGpRbAAAAmAblFgAAAKZBuQUAAIBpUG4BAABgGpRbAAAAmAblFgAAAKbhcLk9d+6czp49a72fnJysadOm6YsvvnBqMAAAAMBRDpfb1q1bKykpSZKUkZGh+vXr64033lDr1q01Z84cpwcEAAAA7OVwud21a5ceeOABSdLSpUsVGhqq5ORkJSUlKTEx0ekBAQAAAHs5XG7Pnj2rgIAASdIXX3yhdu3aycPDQ/fee6+Sk5OdHhAAAACwl8PltnLlylq+fLmOHTumNWvW6JFHHpEknTx5UoGBgU4PCAAAANjL4XI7atQovfDCC6pYsaLuueceNWjQQNKlo7i1a9d2ari8vDyNHDlS0dHR8vPzU6VKlfTqq6/KMAzrPoZhaNSoUSpfvrz8/PwUExOjQ4cOOTUHAAAArg+ejj6gffv2uv/++/Xbb7/prrvuso43bdpUbdu2dWq4SZMmac6cOVq4cKFq1qypHTt2qGfPngoKCtLAgQMlSZMnT1ZiYqIWLlyo6OhojRw5UrGxsdq/f798fX2dmgcAAADuzeFyK0lhYWHKzs7W2rVr9eCDD8rPz0/16tWTxWJxarhvvvlGrVu3VosWLSRJFStW1JIlS7Rt2zZJl47aTps2Ta+88opat24tSUpKSlJoaKiWL1+uTp06OTUPAAAA3JvD5fbUqVPq0KGDNmzYIIvFokOHDum2225T7969VaZMGb3xxhtOC9ewYUPNmzdPBw8eVNWqVbVnzx5t3rxZU6ZMkSQdPXpUqampiomJsT4mKChI9evX17fffltouc3JyVFOTo71flZWltMyAwAu8TiX4eoIAJzsevh77XC5HTx4sLy8vJSSkqLq1atbxzt27KghQ4Y4tdy++OKLysrKUrVq1XTTTTcpLy9PEyZMUHx8vCQpNTVVkhQaGmrzuNDQUOu2q0lISNDYsWOdlhMAUJDf0U2ujgDgBuRwuf3iiy+0Zs0aVahQwWa8SpUqTl8K7IMPPtCiRYu0ePFi1axZU7t379agQYMUHh6u7t27F3nel156SUOGDLHez8rKUkREhDMiAwD+v3PRDyrfL9jVMQA4kce5DLd/4+pwuT1z5oxKlSpVYDw9PV0+Pj5OCXXZ0KFD9eKLL1pPL6hVq5aSk5OVkJCg7t27KywsTJKUlpam8uXLWx+Xlpamu+++u9B5fXx8nJ4VAGAr3y9Y+f43uzoGgBuMw0uBPfDAA9bL70qSxWJRfn6+Jk+erMaNGzs13NmzZ+XhYRvxpptuUn5+viQpOjpaYWFhWrdunXV7VlaWtm7dal2iDAAAADcOh4/cTp48WU2bNtWOHTt04cIFDRs2TD/88IPS09P19ddfOzVcy5YtNWHCBEVGRqpmzZr67rvvNGXKFPXq1UvSpWI9aNAgjR8/XlWqVLEuBRYeHq42bdo4NQsAAADcn8Pl9o477tDBgwc1c+ZMBQQEKDs7W+3atVP//v1tTg1whhkzZmjkyJHq16+fTp48qfDwcPXt21ejRo2y7jNs2DCdOXNGffr0UUZGhu6//36tXr2aNW4BAABuQEVa5zYoKEgjRoxwdpYCAgICNG3aNE2bNq3QfSwWi8aNG6dx48YVex4AAAC4N4fL7d69e686brFY5Ovrq8jISD6sBQAAAJdwuNzefffd1iuRGYYhSTZXJvPy8lLHjh31n//8h1MDAAAAUKIcXi3h448/VpUqVTRv3jzt2bNHe/bs0bx583T77bdr8eLFevvtt7V+/Xq98sorxZEXAAAAKJTDR24nTJig6dOnKzY21jpWq1YtVahQQSNHjtS2bdvk7++v559/Xq+//rpTwwIAAAB/x+Ejt/v27VNUVFSB8aioKO3bt0/SpVMXfvvtt3+eDgAAAHCAw+W2WrVqmjhxoi5cuGAdy83N1cSJE1WtWjVJ0vHjxxUaGuq8lAAAAIAdHD4tYdasWWrVqpUqVKigO++8U9Klo7l5eXlauXKlJOnIkSPq16+fc5MCAAAA1+BwuW3YsKGOHj2qRYsW6eDBg5Kkxx9/XE888YQCAgIkSV27dnVuSgAAAMAODpXb3NxcVatWTStXrtTTTz9dXJkAAACAInHonFsvLy+dP3++uLIAAAAA/4jDHyjr37+/Jk2apIsXLxZHHgAAAKDIHD7ndvv27Vq3bp2++OIL1apVS/7+/jbbly1b5rRwAAAAgCMcLrfBwcGKi4srjiwAAADAP+JwuZ0/f35x5AAAAAD+MYfPuQUAAADclcNHbiVp6dKl+uCDD5SSkmJzpTJJ2rVrl1OCAQAAAI5y+MhtYmKievbsqdDQUH333Xe65557VLZsWR05ckTNmzcvjowAAACAXRwut7Nnz9a8efM0Y8YMeXt7a9iwYVq7dq0GDhyozMzM4sgIAAAA2MXhcpuSkqKGDRtKkvz8/HT69GlJly65u2TJEuemAwAAABzgcLkNCwtTenq6JCkyMlJbtmyRJB09elSGYTg3HQAAAOAAh8ttkyZN9Omnn0qSevbsqcGDB+vhhx9Wx44d1bZtW6cHBAAAAOzl8GoJ8+bNU35+vqRLl+ItW7asvvnmG7Vq1Up9+/Z1ekAAAADAXg6XWw8PD3l4/O+Ab6dOndSpUyenhgIAAACKokjr3GZkZGjbtm06efKk9SjuZd26dXNKMAAAAMBRDpfbFStWKD4+XtnZ2QoMDJTFYrFus1gslFsAAAC4jMMfKHv++efVq1cvZWdnKyMjQ3/++af1dnkVBQAAAMAVHC63x48f18CBA1WqVKniyAMAAAAUmcPlNjY2Vjt27CiOLAAAAMA/Ytc5t5fXtZWkFi1aaOjQodq/f79q1aolLy8vm31btWrl3IQAAACAnewqt23atCkwNm7cuAJjFotFeXl5/zgUAAAAUBR2ldu/LvcFAAAAuCOHz7kFAAAA3JXd5Xb9+vWqUaOGsrKyCmzLzMxUzZo1tWnTJqeGAwAAABxhd7mdNm2annrqKQUGBhbYFhQUpL59+2rq1KlODQcAAAA4wu5yu2fPHjVr1qzQ7Y888oh27tzplFAAAABAUdhdbtPS0gos+3UlT09P/f77704JBQAAABSF3eX21ltv1ffff1/o9r1796p8+fJOCQUAAAAUhd3l9tFHH9XIkSN1/vz5AtvOnTun0aNH67HHHnNqOAAAAMARdq1zK0mvvPKKli1bpqpVq2rAgAG6/fbbJUk//fSTZs2apby8PI0YMaLYggIAAADXYne5DQ0N1TfffKNnnnlGL730kgzDkHTpqmSxsbGaNWuWQkNDiy0oAAAAcC12l1tJioqK0ueff64///xThw8flmEYqlKlisqUKVNc+QAAAAC7OVRuLytTpozq1avn7CwAAADAP8LldwEAAGAalFsAAACYBuUWAAAApuFwuT1z5kxx5AAAAAD+MYfLbWhoqHr16qXNmzcXRx4AAACgyBwut++++67S09PVpEkTVa1aVRMnTtSJEyeKIxsAAADgEIfLbZs2bbR8+XIdP35cTz/9tBYvXqyoqCg99thjWrZsmS5evFgcOQEAAIBrKvIHysqVK6chQ4Zo7969mjJlir788ku1b99e4eHhGjVqlM6ePevMnAAAAMA1FekiDpKUlpamhQsXasGCBUpOTlb79u3Vu3dv/frrr5o0aZK2bNmiL774wplZAQAAgL/lcLldtmyZ5s+frzVr1qhGjRrq16+funTpouDgYOs+DRs2VPXq1Z2ZEwAAALgmh8ttz5491alTJ3399deFXoI3PDxcI0aM+MfhAAAAAEc4XG5/++03lSpV6m/38fPz0+jRo4scCgAAACgKu8ptVlbW396/UmBg4D9LBAAAABSRXeU2ODhYFovlb/cxDEMWi0V5eXlOCQYAAAA4yq5yu2HDhuLOccPzOJfh6ggAnIy/1wBQ8uwqt40aNSruHDc8v6ObXB0BAADgulekdW4zMjK0bds2nTx5Uvn5+TbbunXr5pRgN5pz0Q8q3y/Y1TEAOJHHuQzeuAJACXO43K5YsULx8fHKzs5WYGCgzbm4FouFcltE+X7Byve/2dUxAAAArmsOX373+eefV69evZSdna2MjAz9+eef1lt6enpxZAQAAADs4nC5PX78uAYOHHjNtW4BAACAkuZwuY2NjdWOHTuKIwsAAADwj9h1zu2nn35q/XOLFi00dOhQ7d+/X7Vq1ZKXl5fNvq1atXJuQgAAAMBOdpXbNm3aFBgbN25cgTEu4gAAAABXsqvc/nW5LwAAAMAdOXzObVJSknJycgqMX7hwQUlJSU4JBQAAABSFw+W2Z8+eyszMLDB++vRp9ezZ0ymhAAAAgKJwuNwahmFz4YbLfv31VwUFBTklFAAAAFAUdl+hrHbt2rJYLLJYLGratKk8Pf/30Ly8PB09elTNmjUrlpAAAACAPewut5dXTNi9e7diY2NVunRp6zZvb29VrFhRcXFxTg8IAAAA2Mvucjt69GhJUsWKFdWxY0f5+voWWygAAACgKOwut5d1795d0qXVEU6ePFlgmbDIyEjnJAMAAAAc5PAHyg4dOqQHHnhAfn5+ioqKUnR0tKKjo1WxYkVFR0c7PeDx48fVpUsXlS1bVn5+fqpVq5bN5X8Nw9CoUaNUvnx5+fn5KSYmRocOHXJ6DgAAALg/h4/c9ujRQ56enlq5cqXKly9/1ZUTnOXPP//Ufffdp8aNG2vVqlUqV66cDh06pDJlylj3mTx5shITE7Vw4UJFR0dr5MiRio2N1f79+zl1AgAA4AbjcLndvXu3du7cqWrVqhVHHhuTJk1SRESE5s+fbx278uiwYRiaNm2aXnnlFbVu3VrSpYtMhIaGavny5erUqdNV583JybG5EEVWVlYxvQIAAACUJIfLbY0aNfTHH38UR5YCPv30U8XGxurxxx/Xxo0bdeutt6pfv3566qmnJElHjx5VamqqYmJirI8JCgpS/fr19e233xZabhMSEjR27NgSeQ0AcKPyOF/wgj8Arm/Xw99rh8vtpEmTNGzYML322muqVauWvLy8bLYHBgY6LdyRI0c0Z84cDRkyRC+//LK2b9+ugQMHytvbW927d1dqaqokKTQ01OZxoaGh1m1X89JLL2nIkCHW+1lZWYqIiHBabgC4kQUFBcnL20c6stHVUQAUAy9vH7e+cJfD5fbyUdKmTZvajF++clleXp5zkknKz89X3bp19dprr0m6dCGJ77//XnPnzrWu2lAUPj4+8vHxcVZMAMAVQkND9e47SVe9VDvMJzk5WRMmTNCIESMUFRXl6jgoAUFBQQUOLLoTh8vthg0biiPHVZUvX141atSwGatevbo++ugjSVJYWJgkKS0tTeXLl7fuk5aWprvvvrvEcgIAbIWGhrr1P35wvqioKFWtWtXVMQDHy22jRo2KI8dV3XfffTpw4IDN2MGDB63vDKOjoxUWFqZ169ZZy2xWVpa2bt2qZ555psRyAgAAwD04XG4lKSMjQ2+//bZ+/PFHSVLNmjXVq1cvp59/MXjwYDVs2FCvvfaaOnTooG3btmnevHmaN2+eJMlisWjQoEEaP368qlSpYl0KLDw83Hq5YAAAANw4HL6Iw44dO1SpUiVNnTpV6enpSk9P15QpU1SpUiXt2rXLqeHq1aunjz/+WEuWLNEdd9yhV199VdOmTVN8fLx1n2HDhunZZ59Vnz59VK9ePWVnZ2v16tWscQsAAHADcvjI7eDBg9WqVSu9+eab8vS89PCLFy/qySef1KBBg7Rp0yanBnzsscf02GOPFbrdYrFo3LhxGjdunFOfFwAAANcfh8vtjh07bIqtJHl6emrYsGGqW7euU8MBAAAAjnD4tITAwEClpKQUGD927JgCAgKcEgoAAAAoCofLbceOHdW7d2+9//77OnbsmI4dO6b33ntPTz75pDp37lwcGQEAAAC7OHxawuuvvy6LxaJu3brp4sWLkiQvLy8988wzmjhxotMDAgAAAPZyuNx6e3tr+vTpSkhI0M8//yxJqlSpkkqVKuX0cAAAAIAjirTOrSSVKlVKtWrVcmYWAAAA4B+xu9z26tXLrv3++9//FjkMAAAA8E/YXW4XLFigqKgo1a5dW4ZhFGcmAAAAoEjsLrfPPPOMlixZoqNHj6pnz57q0qWLQkJCijMbAAAA4BC7lwKbNWuWfvvtNw0bNkwrVqxQRESEOnTooDVr1nAkFwAAAG7BoXVufXx81LlzZ61du1b79+9XzZo11a9fP1WsWFHZ2dnFlREAAACwi8MXcbA+0MNDFotFhmEoLy/PmZkAAACAInGo3Obk5GjJkiV6+OGHVbVqVe3bt08zZ85USkqKSpcuXVwZAQAAALvY/YGyfv366b333lNERIR69eqlJUuW6Oabby7ObAAAAIBD7C63c+fOVWRkpG677TZt3LhRGzduvOp+y5Ytc1o4AAAAwBF2l9tu3brJYrEUZxYAAADgH3HoIg4AAACAOyvyagkAAACAu6HcAgAAwDQotwAAADANyi0AAABMg3ILAAAA06DcAgAAwDQotwAAADANyi0AAABMg3ILAAAA06DcAgAAwDQotwAAADANyi0AAABMg3ILAAAA06DcAgAAwDQotwAAADANyi0AAABMg3ILAAAA06DcAgAAwDQotwAAADANyi0AAABMg3ILAAAA06DcAgAAwDQotwAAADANyi0AAABMg3ILAAAA06DcAgAAwDQotwAAADANyi0AAABMg3ILAAAA06DcAgAAwDQotwAAADANyi0AAABMg3ILAAAA06DcAgAAwDQotwAAADANyi0AAABMg3ILAAAA06DcAgAAwDQotwAAADANyi0AAABMg3ILAAAA06DcAgAAwDQotwAAADANyi0AAABMg3ILAAAA06DcAgAAwDQotwAAADANyi0AAABMg3ILAAAA06DcAgAAwDQotwAAADANyi0AAABMg3ILAAAA06DcAgAAwDQotwAAADCN66rcTpw4URaLRYMGDbKOnT9/Xv3791fZsmVVunRpxcXFKS0tzXUhAQAA4DLXTbndvn27/vOf/+jOO++0GR88eLBWrFihDz/8UBs3btSJEyfUrl07F6UEAACAK10X5TY7O1vx8fF68803VaZMGet4Zmam3n77bU2ZMkVNmjRRnTp1NH/+fH3zzTfasmWLCxMDAADAFa6Lctu/f3+1aNFCMTExNuM7d+5Ubm6uzXi1atUUGRmpb7/9ttD5cnJylJWVZXMDAADA9c/T1QGu5b333tOuXbu0ffv2AttSU1Pl7e2t4OBgm/HQ0FClpqYWOmdCQoLGjh3r7KgAAABwMbc+cnvs2DE999xzWrRokXx9fZ0270svvaTMzEzr7dixY06bGwAAAK7j1uV2586dOnnypP71r3/J09NTnp6e2rhxoxITE+Xp6anQ0FBduHBBGRkZNo9LS0tTWFhYofP6+PgoMDDQ5gYAAIDrn1ufltC0aVPt27fPZqxnz56qVq2ahg8froiICHl5eWndunWKi4uTJB04cEApKSlq0KCBKyIDAADAhdy63AYEBOiOO+6wGfP391fZsmWt471799aQIUMUEhKiwMBAPfvss2rQoIHuvfdeV0QGAACAC7l1ubXH1KlT5eHhobi4OOXk5Cg2NlazZ892dSwAAAC4wHVXbr/66iub+76+vpo1a5ZmzZrlmkAAAABwG279gTIAAADAEZRbAAAAmAblFgAAAKZBuQUAAIBpUG4BAABgGpRbAAAAmAblFgAAAKZBuQUAAIBpUG4BAABgGpRbAAAAmAblFgAAAKZBuQUAAIBpUG4BAABgGpRbAAAAmAblFgAAAKZBuQUAAIBpUG4BAABgGpRbAAAAmAblFgAAAKZBuQUAAIBpUG4BAABgGpRbAAAAmAblFgAAAKZBuQUAAIBpUG4BAABgGpRbAAAAmAblFgAAAKZBuQUAAIBpUG4BAABgGpRbAAAAmAblFgAAAKZBuQUAAIBpUG4BAABgGpRbAAAAmAblFgAAAKZBuQUAAIBpUG4BAABgGpRbAAAAmAblFgAAAKZBuQUAAIBpUG4BAABgGpRbAAAAmAblFgAAAKZBuQUAAIBpUG4BAABgGpRbAAAAmAblFgAAAKZBuQUAAIBpUG4BAABgGpRbAAAAmAblFgAAAKZBuQUAAIBpUG4BAABgGpRbAAAAmIanqwPgEo/zma6OAMDJ+HsNACWPcutiQUFB8vL2kY5sdHUUAMXAy9tHQUFBro4BADcMyq2LhYaG6t13kpSZyRGeG0FycrImTJigESNGKCoqytVxUAKCgoIUGhrq6hgAcMOg3LqB0NBQ/vG7wURFRalq1aqujgEAgOnwgTIAAACYBuUWAAAApkG5BQAAgGlQbgEAAGAalFsAAACYBuUWAAAApkG5BQAAgGlQbgEAAGAalFsAAACYBuUWAAAApkG5BQAAgGlQbgEAAGAalFsAAACYBuUWAAAApkG5BQAAgGm4dblNSEhQvXr1FBAQoFtuuUVt2rTRgQMHbPY5f/68+vfvr7Jly6p06dKKi4tTWlqaixIDAADAldy63G7cuFH9+/fXli1btHbtWuXm5uqRRx7RmTNnrPsMHjxYK1as0IcffqiNGzfqxIkTateunQtTAwAAwFU8XR3g76xevdrm/oIFC3TLLbdo586devDBB5WZmam3335bixcvVpMmTSRJ8+fPV/Xq1bVlyxbde++9rogNAAAAF3HrI7d/lZmZKUkKCQmRJO3cuVO5ubmKiYmx7lOtWjVFRkbq22+/LXSenJwcZWVl2dwAAABw/btuym1+fr4GDRqk++67T3fccYckKTU1Vd7e3goODrbZNzQ0VKmpqYXOlZCQoKCgIOstIiKiOKMDAACghFw35bZ///76/vvv9d577/3juV566SVlZmZab8eOHXNCQgAAALiaW59ze9mAAQO0cuVKbdq0SRUqVLCOh4WF6cKFC8rIyLA5epuWlqawsLBC5/Px8ZGPj09xRgYAAIALuPWRW8MwNGDAAH388cdav369oqOjbbbXqVNHXl5eWrdunXXswIEDSklJUYMGDUo6LgAAAFzMrY/c9u/fX4sXL9Ynn3yigIAA63m0QUFB8vPzU1BQkHr37q0hQ4YoJCREgYGBevbZZ9WgQQNWSgAAlKjz588rJSXF1TFKXHJyss1/bzSRkZHy9fV1dQxcwa3L7Zw5cyRJDz30kM34/Pnz1aNHD0nS1KlT5eHhobi4OOXk5Cg2NlazZ88u4aQAgBtdSkqK+vTp4+oYLjNhwgRXR3CJefPmqWrVqq6OgSu4dbk1DOOa+/j6+mrWrFmaNWtWCSSCs3CEgyMcgNlERkZq3rx5ro6BEhYZGenqCPgLi2FPgzS5rKwsBQUFKTMzU4GBga6Oc0M4ePDgDX2E40bFEQ4AQFHZ29fc+sgtzIsjHDcmjnAAAIob5RYu4evryxE8AADgdG69FBgAAADgCMotAAAATINyCwAAANOg3AIAAMA0KLcAAAAwDcotAAAATINyCwAAANOg3AIAAMA0KLcAAAAwDcotAAAATINyCwAAANOg3AIAAMA0KLcAAAAwDcotAAAATINyCwAAANOg3AIAAMA0KLcAAAAwDU9XB3AHhmFIkrKyslycBAAAAFdzuadd7m2FodxKOn36tCQpIiLCxUkAAADwd06fPq2goKBCt1uMa9XfG0B+fr5OnDihgIAAWSwWV8eBiWVlZSkiIkLHjh1TYGCgq+MAwD/GzzWUFMMwdPr0aYWHh8vDo/AzazlyK8nDw0MVKlRwdQzcQAIDA/lHAICp8HMNJeHvjthexgfKAAAAYBqUWwAAAJgG5RYoQT4+Pho9erR8fHxcHQUAnIKfa3A3fKAMAAAApsGRWwAAAJgG5RYAAACmQbkFAACAaVBugRKyYMECBQcHuzoGAACmRrkFHNSjRw9ZLJYCt8OHD7s6GgAU2dV+rl15GzNmjKsjAnbhCmVAETRr1kzz58+3GStXrpyL0gDAP/fbb79Z//z+++9r1KhROnDggHWsdOnS1j8bhqG8vDx5elIj4H44cgsUgY+Pj8LCwmxu06dPV61ateTv76+IiAj169dP2dnZhc6xZ88eNW7cWAEBAQoMDFSdOnW0Y8cO6/bNmzfrgQcekJ+fnyIiIjRw4ECdOXOmJF4egBvQlT/PgoKCZLFYrPd/+uknBQQEaNWqVapTp458fHy0efNm9ejRQ23atLGZZ9CgQXrooYes9/Pz85WQkKDo6Gj5+fnprrvu0tKlS0v2xeGGQrkFnMTDw0OJiYn64YcftHDhQq1fv17Dhg0rdP/4+HhVqFBB27dv186dO/Xiiy/Ky8tLkvTzzz+rWbNmiouL0969e/X+++9r8+bNGjBgQEm9HAAo4MUXX9TEiRP1448/6s4777TrMQkJCUpKStLcuXP1ww8/aPDgwerSpYs2btxYzGlxo+L3CUARrFy50uZXdM2bN9eHH35ovV+xYkWNHz9eTz/9tGbPnn3VOVJSUjR06FBVq1ZNklSlShXrtoSEBMXHx2vQoEHWbYmJiWrUqJHmzJkjX1/fYnhVAPD3xo0bp4cfftju/XNycvTaa6/pyy+/VIMGDSRJt912mzZv3qz//Oc/atSoUXFFxQ2McgsUQePGjTVnzhzrfX9/f3355ZdKSEjQTz/9pKysLF28eFHnz5/X2bNnVapUqQJzDBkyRE8++aTeeecdxcTE6PHHH1elSpUkXTplYe/evVq0aJF1f8MwlJ+fr6NHj6p69erF/yIB4C/q1q3r0P6HDx/W2bNnCxTiCxcuqHbt2s6MBlhRboEi8Pf3V+XKla33f/nlFz322GN65plnNGHCBIWEhGjz5s3q3bu3Lly4cNVyO2bMGD3xxBP67LPPtGrVKo0ePVrvvfee2rZtq+zsbPXt21cDBw4s8LjIyMhifW0AUBh/f3+b+x4eHjIMw2YsNzfX+ufLnzv47LPPdOutt9rs5+PjU0wpcaOj3AJOsHPnTuXn5+uNN96Qh8elU9k/+OCDaz6uatWqqlq1qgYPHqzOnTtr/vz5atu2rf71r39p//79NgUaANxNuXLl9P3339uM7d692/r5gRo1asjHx0cpKSmcgoASwwfKACeoXLmycnNzNWPGDB05ckTvvPOO5s6dW+j+586d04ABA/TVV18pOTlZX3/9tbZv32493WD48OH65ptvNGDAAO3evVuHDh3SJ598wgfKALiVJk2aaMeOHUpKStKhQ4c0evRom7IbEBCgF154QYMHD9bChQv1888/a9euXZoxY4YWLlzowuQwM8ot4AR33XWXpkyZokmTJumOO+7QokWLlJCQUOj+N910k06dOqVu3bqpatWq6tChg5o3b66xY8dKku68805t3LhRBw8e1AMPPKDatWtr1KhRCg8PL6mXBADXFBsbq5EjR2rYsGGqV6+eTp8+rW7dutns8+qrr2rkyJFKSEhQ9erV1axZM3322WeKjo52UWqYncX468kyAAAAwHWKI7cAAAAwDcotAAAATINyCwAAANOg3AIAAMA0KLcAAAAwDcotAAAATINyCwAAANOg3AIAAMA0KLcAcJ2xWCxavny5q2MAgFui3AKAm0lNTdWzzz6r2267TT4+PoqIiFDLli21bt06V0cDALfn6eoAAID/+eWXX3TfffcpODhY//73v1WrVi3l5uZqzZo16t+/v3766adied4LFy7I29u7WOYGgJLEkVsAcCP9+vWTxWLRtm3bFBcXp6pVq6pmzZoaMmSItmzZYt3vjz/+UNu2bVWqVClVqVJFn376qXXbggULFBwcbDPv8uXLZbFYrPfHjBmju+++W2+99Zaio6Pl6+sr6dIpD2+99VahcwOAu6PcAoCbSE9P1+rVq9W/f3/5+/sX2H5lYR07dqw6dOigvXv36tFHH1V8fLzS09Mder7Dhw/ro48+0rJly7R7926nzg0ArkK5BQA3cfjwYRmGoWrVql1z3x49eqhz586qXLmyXnvtNWVnZ2vbtm0OPd+FCxeUlJSk2rVr684773Tq3ADgKpRbAHAThmHYve+VZdTf31+BgYE6efKkQ88XFRWlcuXKFcvcAOAqlFsAcBNVqlSRxWKx60NjXl5eNvctFovy8/MlSR4eHgWKcm5uboE5rnbqw7XmBgB3R7kFADcREhKi2NhYzZo1S2fOnCmwPSMjw655ypUrp9OnT9vMceU5tQBgZpRbAHAjs2bNUl5enu655x599NFHOnTokH788UclJiaqQYMGds1Rv359lSpVSi+//LJ+/vlnLV68WAsWLCje4ADgJii3AOBGbrvtNu3atUuNGzfW888/rzvuuEMPP/yw1q1bpzlz5tg1R0hIiN599119/vnnqlWrlpYsWaIxY8YUb3AAcBMWw5FPMAAAAABujCO3AAAAMA3KLQAAAEyDcgsAAADToNwCAADANCi3AAAAMA3KLQAAAEyDcgsAAADToNwCAADANCi3AAAAMA3KLQAAAEyDcgsAAADT+H/PVSgZgUMn3AAAAABJRU5ErkJggg==",
=======
      "image/png": "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",
>>>>>>> 3f3b77ef44614fdfaf8118faf47d0d0d9d6f8c5e
      "text/plain": [
       "<Figure size 800x600 with 1 Axes>"
      ]
     },
     "metadata": {},
     "output_type": "display_data"
    }
   ],
   "source": [
    "# Box plot of MonthlyCharges across Churn categories\n",
    "plt.figure(figsize=(8, 6))\n",
<<<<<<< HEAD
    "sns.boxplot(data=valid_data, x='Churn', y='MonthlyCharges')\n",
=======
    "sns.boxplot(data=train_df, x='churn', y='monthlycharges')\n",
>>>>>>> 3f3b77ef44614fdfaf8118faf47d0d0d9d6f8c5e
    "plt.title('Monthly Charges by Churn')\n",
    "plt.xlabel('Churn')\n",
    "plt.ylabel('Monthly Charges')\n",
    "plt.show()"
   ]
  },
  {
   "cell_type": "code",
<<<<<<< HEAD
   "execution_count": 101,
=======
   "execution_count": 34,
   "id": "6750e61e",
>>>>>>> 3f3b77ef44614fdfaf8118faf47d0d0d9d6f8c5e
   "metadata": {},
   "outputs": [
    {
     "data": {
<<<<<<< HEAD
      "image/png": "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",
=======
      "image/png": "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",
>>>>>>> 3f3b77ef44614fdfaf8118faf47d0d0d9d6f8c5e
      "text/plain": [
       "<Figure size 800x600 with 1 Axes>"
      ]
     },
     "metadata": {},
     "output_type": "display_data"
    },
    {
     "name": "stdout",
     "output_type": "stream",
     "text": [
      "Churn Rate by Gender:\n",
<<<<<<< HEAD
      "Churn      False      True\n",
=======
      "churn         No       Yes\n",
>>>>>>> 3f3b77ef44614fdfaf8118faf47d0d0d9d6f8c5e
      "gender                    \n",
      "Female  0.733897  0.266103\n",
      "Male    0.736225  0.263775\n"
     ]
    }
   ],
   "source": [
    "# Visualizing the relationship between gender and churn\n",
    "plt.figure(figsize=(8, 6))\n",
<<<<<<< HEAD
    "sns.countplot(data=valid_data, x='gender', hue='Churn')\n",
=======
    "sns.countplot(data=train_df, x='gender', hue='churn')\n",
>>>>>>> 3f3b77ef44614fdfaf8118faf47d0d0d9d6f8c5e
    "plt.title('Churn Distribution by Gender')\n",
    "plt.xlabel('Gender')\n",
    "plt.ylabel('Count')\n",
    "plt.show()\n",
    " \n",
    "# Calculating churn rate by gender\n",
<<<<<<< HEAD
    "churn_rate_gender = valid_data.groupby('gender')['Churn'].value_counts(normalize=True).unstack()\n",
=======
    "churn_rate_gender = train_df.groupby('gender')['churn'].value_counts(normalize=True).unstack()\n",
>>>>>>> 3f3b77ef44614fdfaf8118faf47d0d0d9d6f8c5e
    "print(\"Churn Rate by Gender:\")\n",
    "print(churn_rate_gender)"
   ]
  },
  {
   "cell_type": "markdown",
<<<<<<< HEAD
   "metadata": {},
   "source": [
    " <h1 style=\"text-decoration: underline;\">3. Multivariate Analysis</h1>"
=======
   "id": "64d5bfb7",
   "metadata": {},
   "source": [
    "### Multivariate Analysis:"
>>>>>>> 3f3b77ef44614fdfaf8118faf47d0d0d9d6f8c5e
   ]
  },
  {
   "cell_type": "code",
<<<<<<< HEAD
   "execution_count": 102,
=======
   "execution_count": 35,
   "id": "754fe33c",
>>>>>>> 3f3b77ef44614fdfaf8118faf47d0d0d9d6f8c5e
   "metadata": {},
   "outputs": [
    {
     "data": {
<<<<<<< HEAD
      "image/png": "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",
=======
      "image/png": "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",
>>>>>>> 3f3b77ef44614fdfaf8118faf47d0d0d9d6f8c5e
      "text/plain": [
       "<Figure size 600x400 with 2 Axes>"
      ]
     },
     "metadata": {},
     "output_type": "display_data"
    }
   ],
   "source": [
    "# Separate numeric and categorical columns\n",
<<<<<<< HEAD
    "numeric_columns = valid_data.select_dtypes(include=['number']).columns\n",
    "categorical_columns = valid_data.select_dtypes(include=['object', 'category']).columns\n",
    "\n",
    "# Correlation Matrix and Heatmap for Numeric Variables\n",
    "numeric_df = valid_data[numeric_columns]\n",
=======
    "numeric_columns = train_df.select_dtypes(include=['number']).columns\n",
    "categorical_columns = train_df.select_dtypes(include=['object', 'category']).columns\n",
    "\n",
    "# Correlation Matrix and Heatmap for Numeric Variables\n",
    "numeric_df = train_df[numeric_columns]\n",
>>>>>>> 3f3b77ef44614fdfaf8118faf47d0d0d9d6f8c5e
    "numeric_correlation_matrix = numeric_df.corr()\n",
    "plt.figure(figsize=(6, 4))\n",
    "sns.heatmap(numeric_correlation_matrix, annot=True, cmap='coolwarm', fmt=\".2f\")\n",
    "plt.title('Correlation Matrix Heatmap (Numeric Variables)')\n",
    "plt.show()"
   ]
  },
  {
   "cell_type": "code",
<<<<<<< HEAD
   "execution_count": 103,
=======
   "execution_count": 36,
   "id": "db1a248d",
>>>>>>> 3f3b77ef44614fdfaf8118faf47d0d0d9d6f8c5e
   "metadata": {},
   "outputs": [
    {
     "data": {
<<<<<<< HEAD
      "image/png": "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",
      "text/plain": [
       "<Figure size 1400x600 with 1 Axes>"
=======
      "image/png": "iVBORw0KGgoAAAANSUhEUgAAA+QAAAIjCAYAAACKx9GpAAAAOXRFWHRTb2Z0d2FyZQBNYXRwbG90bGliIHZlcnNpb24zLjguMiwgaHR0cHM6Ly9tYXRwbG90bGliLm9yZy8g+/7EAAAACXBIWXMAAA9hAAAPYQGoP6dpAACNMElEQVR4nOzdeVxUZfvH8e8wsikK4sKSspi7SZlWEqVWGmqappka5VquLW4tpmaYpi2WLeBSqU/uuaQ9prb4pJQPVpqGuWWGqClqoiAuoMP5/dGPeZxABWQ4LJ/36zWvmvvc5z7XjHNmuM59znUshmEYAgAAAAAARcrF7AAAAAAAACiLSMgBAAAAADABCTkAAAAAACYgIQcAAAAAwAQk5AAAAAAAmICEHAAAAAAAE5CQAwAAAABgAhJyAAAAAABMQEIOAAAAAIAJSMgBAECp0apVK910001O386BAwdksVg0d+7cq/abO3euLBaLtmzZ4vSY8mrDhg2yWCxatmyZ2aEAQJlHQg4AJZTFYsnTY8OGDWaHilLkyJEjeuWVV7R9+/YyHUNxtWHDBnXp0kX+/v5yc3NT9erV1bFjR61YscLs0AAAuShndgAAgIKZN2+ew/NPPvlEX3/9dY72Bg0aFGVYKOWOHDmi6OhohYSE6JZbbimzMRRH48eP14QJE1SnTh0NHDhQwcHBOnnypNasWaOuXbtqwYIFevTRR80OEwBwGRJyACihHnvsMYfnmzdv1tdff52jvbgwDEMXLlyQp6en2aEApc6yZcs0YcIEPfzww1q4cKFcXV3ty5577jl9+eWXunjxYpHGdOHCBbm5ucnFhRMyAeBK+IYEgFIsKytL06ZNU6NGjeTh4SE/Pz8NHDhQp06dcugXEhKiDh066Pvvv9ftt98uDw8P1apVS5988olDv1deeUUWiyXHdrKvkz1w4ECOMb/88ks1a9ZMnp6emjlzpiTp9OnTGjZsmGrWrCl3d3fVrl1br7/+urKysq76ejp06KBatWrluiw8PFzNmjWzP//666911113ycfHR15eXqpXr55eeumlq45/JdnXJW/dulV33nmnPD09FRoaqhkzZjj0y8zM1Msvv6ymTZvK29tbFSpU0N13361vv/3W3scwDIWEhKhTp045tnPhwgV5e3tr4MCBkv53re+nn36q6Oho3XDDDapYsaIefvhhpaamKiMjQ8OGDVP16tXl5eWlvn37KiMjI8e48+fPV9OmTeXp6SlfX1/16NFDhw4dyvU17tq1S/fcc4/Kly+vG264QW+88Ya9z4YNG3TbbbdJkvr27Wu/LCL7OursMRISEtSyZUuVL19etWvXtl+rvHHjRt1xxx3y9PRUvXr19M033+SI9c8//1S/fv3k5+cnd3d3NWrUSLNnz85zDNmu9jqyHT9+XP3795efn588PDx0880361//+leOfqdPn1afPn3k7e0tHx8f9e7dW6dPn87R72rOnTungQMHqkqVKqpUqZJ69erlsB/27t1bVatWzTVpvv/++1WvXr2rjj9u3Dj5+vpq9uzZDsl4tsjISHXo0MGhLSsrS5MmTVKNGjXk4eGh++67T7///rtDn5CQEPXp0yfHeK1atVKrVq3sz7M/q4sXL9bYsWN1ww03qHz58kpLS1OfPn3k5eWlP//8U507d5aXl5eqVaumUaNGyWazXfV1AUBpR0IOAKXYwIED9dxzzykiIkLvvvuu+vbtqwULFigyMjLHH/6///67Hn74YbVp00ZTp05V5cqV1adPH+3cubPA29+7d6969uypNm3a6N1339Utt9yic+fOqWXLlpo/f7569eql9957TxERERo9erRGjBhx1fG6d++uxMRE/fTTTw7tSUlJ2rx5s3r06CFJ2rlzpzp06KCMjAxNmDBBU6dO1YMPPqhNmzYV+LWcOnVK7du3V9OmTfXGG2+oRo0aGjx4sEOymJaWpo8++kitWrXS66+/rldeeUUnTpxQZGSk/Xpni8Wixx57TGvXrlVKSorDNv79738rLS0tx1kOkydP1pdffqkXX3xR/fr104oVKzRo0CD169dPv/32m1555RV16dJFc+fO1euvv+6w7qRJk9SrVy/VqVNHb7/9toYNG6b169erRYsWOZLKU6dOqW3btrr55ps1depU1a9fXy+88ILWrl0r6e/LHyZMmCBJGjBggObNm6d58+apRYsWDmN06NBBd9xxh9544w25u7urR48eWrJkiXr06KH27dtrypQpOnv2rB5++GGdOXPGvu6xY8fUvHlzffPNN3rqqaf07rvvqnbt2urfv7+mTZuWrxiu9jok6fz582rVqpXmzZunqKgovfnmm/L29lafPn307rvv2vsZhqFOnTpp3rx5euyxxzRx4kQdPnxYvXv3vvKHJRdPPfWUdu/erVdeeUW9evXSggUL1LlzZxmGIUl6/PHHdfLkSX355ZcO6yUnJ+s///nPVc982bdvn/bs2aPOnTurYsWKeY5pypQp+uyzzzRq1CiNHj1amzdvVlRUVL5e1z+9+uqr+uKLLzRq1Ci99tprcnNzkyTZbDZFRkaqSpUqeuutt9SyZUtNnTpVs2bNuq7tAUCJZwAASoWhQ4cal3+tf/fdd4YkY8GCBQ791q1bl6M9ODjYkGTExcXZ244fP264u7sbI0eOtLeNHz/eyO2nY86cOYYkIzExMceY69atc+j76quvGhUqVDB+++03h/YXX3zRsFqtxsGDB6/4GlNTU3PEZBiG8cYbbxgWi8VISkoyDMMw3nnnHUOSceLEiSuOlR8tW7Y0JBlTp061t2VkZBi33HKLUb16dSMzM9MwDMO4dOmSkZGR4bDuqVOnDD8/P6Nfv372tr179xqSjOnTpzv0ffDBB42QkBAjKyvLMAzD+Pbbbw1Jxk033WTfhmEYRs+ePQ2LxWK0a9fOYf3w8HAjODjY/vzAgQOG1Wo1Jk2a5NBvx44dRrly5Rzas1/jJ5984vAa/f39ja5du9rbfvrpJ0OSMWfOnCu+TwsXLrS37dmzx5BkuLi4GJs3b7a3f/nllznG6d+/vxEQEGD89ddfDuP26NHD8Pb2Ns6dO5fnGK71OqZNm2ZIMubPn29vy8zMNMLDww0vLy8jLS3NMAzDWLlypSHJeOONN+z9Ll26ZNx9991XjOFy2ftG06ZNHf4N33jjDUOSsWrVKsMwDMNmsxk1atQwunfv7rD+22+/bVgsFuOPP/644jZWrVplSDLeeeedq8aSLftz1aBBA4fP67vvvmtIMnbs2GFvCw4ONnr37p1jjJYtWxotW7bMMWatWrXs/07ZevfubUgyJkyY4NDepEkTo2nTpnmKGQBKK2bIAaCUWrp0qby9vdWmTRv99ddf9kfTpk3l5eXlcBq1JDVs2FB33323/Xm1atVUr149/fHHHwWOITQ0VJGRkTniuvvuu1W5cmWHuFq3bi2bzaa4uLgrjlepUiW1a9dOn376qX1mUZKWLFmi5s2bKygoSJLk4+MjSVq1atU1T4PPq3LlytlPJZckNzc3DRw4UMePH9fWrVslSVar1T4jmJWVpZSUFF26dEnNmjXTzz//bF+3bt26uuOOO7RgwQJ7W0pKitauXauoqKgclwX06tXL4TTkO+64Q4ZhqF+/fg797rjjDh06dEiXLl2SJK1YsUJZWVl65JFHHN5rf39/1alTJ8dnwMvLy2Em1s3NTbfffnu+PgNeXl72MxUkqV69evLx8VGDBg10xx13OMQqyT62YRhavny5OnbsKMMwHOKNjIxUamqqw3t4rRiu9TrWrFkjf39/9ezZ097m6uqqZ555Runp6dq4caO9X7ly5TR48GB7P6vVqqeffjrP74n092z+5f+GgwcPVrly5bRmzRpJkouLi6KiovT55587nDWwYMEC3XnnnQoNDb3i2GlpaZKUr9lx6e9T/rM/r5Ls+//17PO9e/e+Yp2IQYMGOTy/++67r2tbAFAakJADQCm1b98+paamqnr16qpWrZrDIz09XcePH3fon53MXq5y5co5rjfPj9ySiH379mndunU5YmrdurUk5Yjrn7p3765Dhw4pPj5ekrR//35t3bpV3bt3d+gTERGhJ554Qn5+furRo4c+/fTT60rOAwMDVaFCBYe2unXrSpLDtfP/+te/FBYWJg8PD1WpUkXVqlXTF198odTUVId1e/XqpU2bNikpKUnS3wcqLl68qMcffzzHtv/5b+Pt7S1JqlmzZo72rKws+7b27dsnwzBUp06dHO/37t27c7zXNWrUyHEwIL+fgdzG8Pb2zjVWSfaxT5w4odOnT2vWrFk5Yu3bt6+ka3828vM6kpKSVKdOnRwFx7LvSpD975KUlKSAgAB5eXk59LvWNd3/VKdOHYfnXl5eCggIcPjs9OrVS+fPn9dnn30m6e9LPrZu3ZrrZ+JylSpVkiSHRD4v/vm5qly5siQV+j4vSR4eHqpWrVqO7V3PtgCgNKDKOgCUUllZWapevbrDLOzl/vnHsdVqzbXf5TPRuRV0k3TFwky5zZRlZWWpTZs2ev7553NdJzvJvZKOHTuqfPny+vTTT3XnnXfq008/lYuLi7p16+aw3bi4OH377bf64osvtG7dOi1ZskT33nuvvvrqqyu+1us1f/589enTR507d9Zzzz2n6tWry2q1avLkydq/f79D3x49emj48OFasGCBXnrpJc2fP1/NmjXLNdG7UrzX+jfLysqSxWLR2rVrc+37zyQzL5+Ba7meWKW/7x5wpeuzw8LCriuG/LwOMzRs2FBNmza111eYP3++3Nzc9Mgjj1x1vfr160uSduzYka/tXe8+n9v6V5odd9Y+BwAlHQk5AJRSN954o7755htFREQU2q3GsmfQTp8+bT8tXPrfbGJe40pPT7fPiOdXhQoV1KFDBy1dulRvv/22lixZorvvvluBgYEO/VxcXHTffffpvvvu09tvv63XXntNY8aM0bffflugbR85ckRnz551mCX/7bffJP1diVr6+9ZTtWrV0ooVKxwSmfHjx+cYz9fXVw888IAWLFigqKgobdq0yV64rLDceOONMgxDoaGh1zzQkVdXStCuV7Vq1VSxYkXZbLZr/vsURgzBwcFKSEhQVlaWwyz5nj177Muz/7t+/Xqlp6c7HMDYu3dvvra3b98+3XPPPfbn6enpOnr0qNq3b+/Qr1evXhoxYoSOHj2qhQsX6oEHHrDvd1dSt25d1atXT6tWrdK7776b40DL9ahcuXKuFeWTkpKueMcDAEDecco6AJRSjzzyiGw2m1599dUcyy5dupTv2zZJfyd4khyu8z579myut4q6Wlzx8fE5qklLfyf62dc/X0337t115MgRffTRR/rll18cTleXlKN6uSTdcsstkuRwW7A9e/bo4MGDeYr70qVL9tu2SX/f4mzmzJmqVq2amjZtKul/s4CXzzD+8MMP9tPr/+nxxx/Xrl279Nxzz8lqtTpce10YunTpIqvVqujo6Byzw4Zh6OTJk/keM/uAREE+P1djtVrVtWtXLV++XL/++muO5SdOnCjUGNq3b6/k5GQtWbLE3nbp0iW9//778vLyUsuWLe39Ll26pOnTp9v72Ww2vf/++/na3qxZsxzubDB9+nRdunRJ7dq1c+jXs2dPWSwWPfvss/rjjz+uWl39ctHR0Tp58qSeeOKJXPehr776SqtXr85XzNLf+/zmzZuVmZlpb1u9enWO2+YBAAqGGXIAKKVatmypgQMHavLkydq+fbvuv/9+ubq6at++fVq6dKneffddPfzww/ka8/7771dQUJD69+9vTyJnz56tatWq5Tmxfe655/T555+rQ4cO6tOnj5o2baqzZ89qx44dWrZsmQ4cOKCqVatedYz27durYsWKGjVqlD2Ru9yECRMUFxenBx54QMHBwTp+/LhiY2NVo0YN3XXXXfZ+DRo0UMuWLbVhw4Zrxh0YGKjXX39dBw4cUN26dbVkyRJt375ds2bNshfr6tChg1asWKGHHnpIDzzwgBITEzVjxgw1bNhQ6enpOcZ84IEHVKVKFS1dulTt2rVT9erV8/AO5t2NN96oiRMnavTo0Tpw4ID9tliJiYn67LPPNGDAAI0aNSrfY/r4+GjGjBmqWLGiKlSooDvuuOOqRcfyasqUKfr22291xx136Mknn1TDhg2VkpKin3/+Wd988439QEthxDBgwADNnDlTffr00datWxUSEqJly5bZz1TILpDWsWNHRURE6MUXX9SBAwfUsGFDrVixIkdNgGvJzMzUfffdp0ceeUR79+5VbGys7rrrLj344IMO/apVq6a2bdtq6dKl8vHx0QMPPJCn8bt3764dO3Zo0qRJ2rZtm3r27Kng4GCdPHlS69at0/r167Vw4cJ8xSxJTzzxhJYtW6a2bdvqkUce0f79+zV//nz7wTkAwPVhhhwASrEZM2Zo1qxZOn78uF566SWNHj3afk/jiIiIfI/n6uqqzz77TDfeeKPGjRun9957T0888YSeeuqpPI9Rvnx5bdy4Uc8995w2bNigZ599VlOmTNG+ffsUHR1tL/Z1NR4eHnrwwQd15swZ3XPPPTkS2QcffFBBQUGaPXu2hg4dqpiYGLVo0UL/+c9/8jR+bipXrqw1a9Zoy5Yteu6553To0CF98MEHevLJJ+19+vTpo9dee02//PKLnnnmGX355Zf2a8Nz4+bmZp/dv1bhroJ68cUXtXz5crm4uCg6OlqjRo3S559/rvvvvz9HMpgXrq6u+te//iWr1apBgwapZ8+e9ork18vPz08//vij+vbtqxUrVtjvRZ6SkuJwf/XCiMHT01MbNmxQVFSU/vWvf2nkyJFKSUnRnDlz9Oyzz9r7ubi46PPPP1dUVJTmz5+vMWPG6IYbbsjXWSGS9MEHH6hBgwZ6+eWXNXfuXPXs2VOrVq3K9fT7Xr16Sfr7bBJ3d/c8b2PixIlav369GjRooOnTp2vAgAF64403VL58ea1atcqhonxeRUZGaurUqfrtt980bNgwxcfHa/Xq1apRo0a+xwIA5GQxinuFEwAATNaqVSv99ddfuZ5Kfb2GDx+ujz/+WMnJySpfvnyhj4+SZ9WqVercubPi4uIcbkUIACh9mCEHAMAkFy5c0Pz589W1a1eScdh9+OGHqlWrlsPlFQCA0olryAEAKGLHjx/XN998o2XLlunkyZMOp0ij7Fq8eLESEhL0xRdf6N1333VaRXsAQPFBQg4AQBHbtWuXoqKiVL16db333nv2CvAo23r27CkvLy/1799fQ4YMMTscAEAR4BpyAAAAAABMwDXkAAAAAACYgIQcAAAAAAATlPpryLOysnTkyBFVrFiR4igAAAAAAKczDENnzpxRYGCgXFyuPA9e6hPyI0eOqGbNmmaHAQAAAAAoYw4dOqQaNWpccXmpT8grVqwo6e83olKlSiZHAwAAAAAo7dLS0lSzZk17PnolpT4hzz5NvVKlSiTkAAAAAIAic63LpinqBgAAAACACUjIAQAAAAAwAQk5AAAAAAAmICEHAAAAAMAEJOQAAAAAAJiAhBwAAAAAABOQkAMAAAAAYAIScgAAAAAATEBCDgAAAACACUjIAQAAAAAwAQk5AAAAAAAmICEHAAAAAMAEJOQAAAAAAJignNkBAGWBzWZTQkKCUlJS5Ovrq7CwMFmtVrPDAgAAAGAiEnLAyeLi4hQbG6vk5GR7m7+/v4YMGaIWLVqYGBkAAAAAM3HKOuBEcXFxGj9+vGrVqqWYmBitWbNGMTExqlWrlsaPH6+4uDizQwQAAABgEothGIbZQThTWlqavL29lZqaqkqVKpkdDsoQm82mqKgo1apVSxMnTpSLy/+Of2VlZWns2LFKTEzU/PnzOX0dAAAAKEXymodyynoxdeHCBR08eNDsMK5LUFCQPDw8zA7DNAkJCUpOTta4ceMcknFJcnFxUVRUlIYOHaqEhAQ1adLEpChRUCV9Hy3r+ydKt5K+f0rsoyjdSvo+yv6JwkRCXkwdPHhQAwYMMDuM6zJr1izVrVvX7DBMk5KSIkkKDQ3NdXl2e3Y/lCwlfR8t6/snSreSvn9K7KMo3Ur6Psr+icJEQl5MBQUFadasWU4bPykpSZMmTdKYMWMUHBzslG0EBQU5ZdySwtfXV5KUmJio+vXr56iynpiY6NAPJYsz91H2T+D68BsKFG/8hgL/Q0JeTHl4eBTJkbfg4GCO8DlJWFiY/P399d577+n06dM6duyYfZmfn598fHwUEBCgsLAwE6NEQRXFPsr+CRQMv6FA8cZvKPA/VFkHnMRqtapVq1bau3evMjMzNXLkSC1btkwjR45UZmam9u7dq5YtW1LQDQAAACijmCEHnMRms2nDhg2qV6+eUlNTNXXqVPuygIAA1atXTxs3btSTTz5JUg4AAACUQSTkgJNcXmU9t2vI9+zZQ5V1AECpUNKrZktUzkbpVtL30dK8f5KQA05yeZX1zMxMbdy4UYcPH1aNGjVUv359qqwDAEqNkl41W6JyNkq3kr6Plub909SEPCQkRElJSTnahwwZopiYGF24cEEjR47U4sWLlZGRocjISMXGxsrPz8+EaIH8ya6e/uKLLyohIcHevmXLFq1cudJezI0q6wCAko7K9kDxRmX74svUhPynn36SzWazP//111/Vpk0bdevWTZI0fPhwffHFF1q6dKm8vb311FNPqUuXLtq0aZNZIQN5FhYWJjc3NyUkJMjV1VXdunVT+/bttWbNGi1dulQJCQlyc3OjyjoAoMSjsj1QvFHZvvgyNSGvVq2aw/MpU6boxhtvVMuWLZWamqqPP/5YCxcu1L333itJmjNnjho0aKDNmzerefPmZoQM5FlmZqYyMzMlSbfeeqsiIiLk6+uriIgI7d+/Xz/88IO9j6enp8nRAgAAAChqxea2Z5mZmZo/f7769esni8WirVu36uLFi2rdurW9T/369RUUFKT4+PgrjpORkaG0tDSHB2CGmTNnSpLuuusuJSUlaejQoWrfvr2GDh2qgwcPKiIiwqEfAAAAgLKl2BR1W7lypU6fPq0+ffpIkpKTk+Xm5iYfHx+Hfn5+fkpOTr7iOJMnT1Z0dLQTIwXy5vDhw5KkQYMGKSAgIEeV9SNHjmjTpk32fgAAAADKlmIzQ/7xxx+rXbt2CgwMvK5xRo8erdTUVPvj0KFDhRQhkD81atSQJK1ZsybX5dnt2f0AAAAAlC3FYoY8KSlJ33zzjVasWGFv8/f3V2Zmpk6fPu0wS37s2DH5+/tfcSx3d3e5u7s7M1wgTwYOHKiVK1dqyZIl+uabb3T8+HH7surVq+vkyZP2fgAAAADKnmIxQz5nzhxVr15dDzzwgL2tadOmcnV11fr16+1te/fu1cGDBxUeHm5GmEC+eHp6qn79+rLZbDpx4oTatGmjDz/8UG3atNGJEydks9lUv359CroBAAAAZZTpM+RZWVmaM2eOevfurXLl/heOt7e3+vfvrxEjRsjX11eVKlXS008/rfDwcCqso0Sw2Ww6ffq0KleurFOnTunrr7/W119/bV9euXJlpaamymazyWq1mhgpAAAAADOYnpB/8803OnjwoPr165dj2TvvvCMXFxd17dpVGRkZioyMVGxsrAlRAvmXkJCg5ORkxcTEqFatWpo5c6YOHz6sGjVqaODAgfrjjz80dOhQJSQkqEmTJmaHCwAAAKCImZ6Q33///TIMI9dlHh4eiomJUUxMTBFHBVy/lJQUSVJoaKg8PT01bNgwh+WhoaEO/QAAAACULaYn5EBp5evrK0lKTEzMdYY8MTHRoR8AAACAsoWEHHCSsLAw+fv7a+zYsTp16pS9fcuWLVq5cqUqV66sgIAAhYWFmRglAAAAALMUiyrrQGlktVrl4+OjU6dOyWKx6P7779dHH32k+++/XxaLRadOnZK3tzcF3QAAAIAyihlywEnOnz+vPXv2yGq1ytfXV1999ZW++uorSf+7D/mePXt0/vx5bn0GAAAAlEEk5ICTzJw5U5LUvXt39e/fXwkJCUpJSZGvr6/CwsL00UcfadGiRZo5c2aOgm8AAABmO3bsmFJTU80OI1+SkpIc/lvSeHt7y8/Pz+wwUIRIyAEnOXz4sCSpffv2slqtOW5t1r59ey1atMjeDwAAoLg4duyYHnu8ly5mZpgdSoFMmjTJ7BAKxNXNXfPnfUJSXoaQkANOUqNGDW3ZskVr1qzR448/nqPK+po1a+z9AAAAipPU1FRdzMzQ+VotleXhbXY4ZYLLhVTpj41KTU0lIS9DSMgBJxk4cKBWrlypRYsWaeHChfb27CrrFovF3g8AAKA4yvLwVlaFqmaHAZRaVFkHnMTT01O+vr4yDEOS1KBBA7355ptq0KCBJMkwDPn6+lLQDQAAACijmCEHnOT8+fNKSUmRxWKRYRjavXu3nnvuOftyi8WilJQUqqwDAAAAZRQJOeAk2VXWe/bsmes15J988glV1gGUaSWxgrNUsqs4U8EZAIoXEnLASS6vsu7p6Zkj6abKOoCyrKRXcJZKZhVnKjgDQPFCQg44CVXWAeDKqOBc9KjgDADFDwk54CRUWQeAa6OCMwCgLKPKOuAkVFkHAAAAcDXMkANOQpV1AAAAAFfDDDngJJdXWV+7dq06d+6sZs2aqXPnzlq7dq169Ojh0A8AAABA2cIMOeAkVFkHAAAAcDXMkANOkl09fc2aNTp//rymTZumUaNGadq0aTp//jxV1gEAAIAyjhlywEmosg4AAADgapghB5yEKusAAAAAroYZcsBJqLIOAAAA4GqYIQechCrrAAAAAK6GGXLASS6vsu7m5qaWLVsqJSVFvr6+cnNzo8o6AAAAUMaRkANOUqNGDW3ZskUzZ87Uvn37lJycbF/m7++v2rVr2/sBAAAAKHs4ZR1wkuzq6d99951CQkIUExOjNWvWKCYmRiEhIfr+++8d+gEAAAAoW5ghB5zEzc1N7u7uysjI0JYtWxQaGqpKlSrp+++/15YtWyRJ7u7ucnNzMzlSAAAAAGZghhxwkoSEBGVkZCgsLEyXLl3SokWL9Pjjj2vRokW6dOmSGjdurIyMDCUkJJgdKgAAAAATMEMOOElKSookacqUKbJYLJo5c6YOHz6sGjVqaODAgTIMQ+3bt7f3AwAAAFC2MEMOOImvr68kKTExMdfl2e3Z/QAAAACULcyQA04SFhYmf39/jR07VqdOnbK3b9myRStXrlTlypUVEBCgsLAwE6MEAAAAYBZmyAEnsVqt8vHx0alTp2SxWNSmTRt9+OGHatOmjSwWi06dOiVvb29ZrVazQwUAAABgAmbIASc5f/689uzZI6vVqqpVq+rrr7/W119/Lenv+5CfOHFCe/bs0fnz5+Xp6WlytAAAAACKGgk54CQzZ86UJHXv3l39+/dXQkKCUlJS5Ovrq7CwMH300UdatGiRZs6cqWHDhpkbLAAAAIAiR0IOOMnhw4clSe3bt5fValWTJk0clrdv316LFi2y9wMAAABQtnANOeAkNWrUkCStWbNG6enpGjNmjPr27asxY8YoPT1da9ascegHAAAAoGxhhhxwkoEDB2rlypVauHChFi5caG9PTExUhw4dHPoBAAAAKHuYIQecxNPTU15eXvbnISEhmjhxokJCQuxtXl5eFHQDAAAAyihmyAEnSU9PV3p6uv35gQMHNHbs2Fz7XJ64AwAAACgbmCEHnGTy5MmSpPvvv19r165V586d1axZM3Xu3Flr165VmzZtHPoBAAAAKFuYIQec5MiRI5KkRx55RJ6enjlubdatWzd9/fXX9n4AAAAAyhZmyAEnCQwMlCR9+umnuVZZX7p0qUM/AOaw2Wzatm2b1q9fr23btslms5kdEgAAKCOYIQecZPTo0erQoYO++uorffXVV/b2f1ZZHz16tBnhAZAUFxen2NhYJScn29v8/f01ZMgQtWjRwsTIAABAWcAMOeAkXl5e8vDwsD/39/fXuHHj5O/vb2/z8PCgoBtgkri4OI0fP161atVSTEyM1qxZo5iYGNWqVUvjx49XXFyc2SECAIBSjoQccJL09HRduHDB/jw5OVmvvvqqw0zchQsXHCqxAygaNptNsbGxCg8P18SJE9WoUSOVL19ejRo10sSJExUeHq7p06dz+joAAHAqEnLASS6vsr569WpFREQoNDRUERERWr16NVXWARMlJCQoOTlZUVFRcnFx/Cl0cXFRVFSUjh49qoSEBJMiBAAAZQHXkANOcnmVdS8vL02aNMlhOVXWAfOkpKRIkkJDQ3Ndnt2e3Q8AAMAZmCEHnOTyKuspKSnq06ePOnbsqD59+iglJYUq64CJfH19Jf1dZDE32e3Z/QAAAJzB9IT8zz//1GOPPaYqVarI09NTjRs31pYtW+zLDcPQyy+/rICAAHl6eqp169bat2+fiREDeZNdPf2rr75Sly5ddODAAZ05c0YHDhxQly5d9PXXXzv0A1B0wsLC5O/vrwULFigrK8thWVZWlhYsWKCAgACFhYWZFCEAACgLTE3IT506pYiICLm6umrt2rXatWuXpk6dqsqVK9v7vPHGG3rvvfc0Y8YM/fDDD6pQoYIiIyMdimUBxZGXl5esVqv9eaVKlTR8+HBVqlTJ3ma1WqmyDpjAarVqyJAhio+P19ixY7Vz506dO3dOO3fu1NixYxUfH6/Bgwc77MMAAACFzdRryF9//XXVrFlTc+bMsbddfj2fYRiaNm2axo4dq06dOkmSPvnkE/n5+WnlypXq0aNHkccM5FVKSopDhea0tDS98847Dn1sNptSUlI4LRYwQYsWLRQdHa3Y2FgNHTrU3h4QEKDo6GjuQw4AAJzO1Bnyzz//XM2aNVO3bt1UvXp1NWnSRB9++KF9eWJiopKTk9W6dWt7m7e3t+644w7Fx8fnOmZGRobS0tIcHoAZRowYIUlq2LBhrlXWGzRo4NAPQNFr0aKFFixYoHfeeUfjxo3TO++8o/nz55OMAwCAImHqDPkff/yh6dOna8SIEXrppZf0008/6ZlnnpGbm5t69+5tv1+zn5+fw3p+fn4O93K+3OTJkxUdHe302IFrOXnypCSpf//+uVZZ79u3r55//nl7PwDmsFqtatKkidlhAACAMsjUGfKsrCzdeuuteu2119SkSRMNGDBATz75pGbMmFHgMUePHq3U1FT749ChQ4UYMZB3VapUkSR9/PHHuS7PvlQjux8Ac9hsNm3btk3r16/Xtm3bHC41AQAAcCZTZ8gDAgLUsGFDh7YGDRpo+fLlkiR/f39J0rFjxxQQEGDvc+zYMd1yyy25junu7i53d3fnBAzkw9tvv60uXbpo165dSk9Pdyjelp6ert27d9v7ATBHXFycYmNjHc668vf315AhQzhtHQAAOJ2pM+QRERHau3evQ9tvv/2m4OBgSX8XePP399f69evty9PS0vTDDz8oPDy8SGMF8svX19derK1Dhw4aPHiwfvzxRw0ePFgdOnTI0QdA0YqLi9P48eNVq1YtxcTEaM2aNYqJiVGtWrU0fvx4xcXFmR0iAAAo5UxNyIcPH67Nmzfrtdde0++//66FCxdq1qxZ9mq3FotFw4YN08SJE/X5559rx44d6tWrlwIDA9W5c2czQwfyZMWKFfaEe/fu3Xr++eftM+O+vr5asWKFmeEBZZbNZlNsbKzCw8M1ceJENWrUSOXLl1ejRo00ceJEhYeHa/r06Zy+DgAAnMrUU9Zvu+02ffbZZxo9erQmTJig0NBQTZs2TVFRUfY+zz//vM6ePasBAwbo9OnTuuuuu7Ru3Tp5eHiYGDlKowsXLujgwYOFPu6UKVOUnp6ut956S6mpqfL29taoUaPk5eWl3377rVC3FRQUxL4B5EFCQoKSk5M1btw4ubg4Hpt2cXFRVFSUhg4dqoSEBAq+AQAApzE1IZf+PpU3+/Td3FgsFk2YMEETJkwowqhQFh08eFADBgxw+nbOnj3rtFudzZo1S3Xr1nXK2EBpkpKSIunvS6Nyk92e3Q8AAMAZTE/IgeIiKChIs2bNctr4SUlJmjRpksaMGWOvk1DYgoKCnDIuUNpkX0qSmJioRo0a5ViemJjo0A8AAMAZSMiB/+fh4VEks8vBwcHMYgMmCwsLk7+/vxYsWKCJEyc6nLaelZWlBQsWKCAgQGFhYSZGCQAASjtTi7oBAGAGq9WqIUOGKD4+XmPHjtXOnTt17tw57dy5U2PHjlV8fLwGDx4sq9VqdqgAAKAUY4YcAFAmtWjRQtHR0YqNjbXf3UOSAgICFB0dzX3IAQCA05GQAwDKrBYtWigiIkIJCQlKSUmRr6+vwsLCmBkHAABFgoQcAFCmWa1Wbm0GAABMwTXkAAAAAACYgIQcAAAAAAATkJADAAAAAGACEnIAAAAAAExAQg4AAAAAgAlIyAEAAAAAMAEJOQAAAAAAJiAhBwAAAADABCTkAAAAAACYgIQcAAAAAAATkJADAAAAAGACEnIAAAAAAExAQg4AAAAAgAlIyAEAAAAAMAEJOQAAAAAAJiAhBwAAAADABCTkAAAAAACYgIQcAAAAAAATkJADAAAAAGACEnIAAAAAAExAQg4AAAAAgAlIyAEAAAAAMAEJOQAAAAAAJiAhBwAAAADABCTkAAAAAACYgIQcAAAAAAATkJADAAAAAGACEnIAAAAAAExAQg4AAAAAgAlIyAEAAAAAMAEJOQAAAAAAJiAhBwAAAADABOXMDqCkO3bsmFJTU80OI9+SkpIc/luSeHt7y8/Pz+wwAACFwOX8abNDKDN4rwGg+CEhvw7Hjh3TY4/30sXMDLNDKbBJkyaZHUK+ubq5a/68T0jKAaAU8EyMMzsEAABMQ0J+HVJTU3UxM0Pna7VUloe32eGUCS4XUqU/Nio1NZWEHABKgfOhLZTl6WN2GGWCy/nTHAABgGKGhLwQZHl4K6tCVbPDAACgxMny9OE3FABQZlHUDQAAAAAAE5CQAwAAAABgAk5ZBwAAAJArqvMXHd7rsomEHAAAAECuKAQIOBcJOQAAAIBccSeEosOdEMomUxPyV155RdHR0Q5t9erV0549eyRJFy5c0MiRI7V48WJlZGQoMjJSsbGx3O4KAAAAKALcCQFwLtOLujVq1EhHjx61P77//nv7suHDh+vf//63li5dqo0bN+rIkSPq0qWLidECAAAAAFA4TD9lvVy5cvL398/Rnpqaqo8//lgLFy7UvffeK0maM2eOGjRooM2bN6t58+ZFHSoAAAAAAIXG9Bnyffv2KTAwULVq1VJUVJQOHjwoSdq6dasuXryo1q1b2/vWr19fQUFBio+Pv+J4GRkZSktLc3gAAAAAAFDcmJqQ33HHHZo7d67WrVun6dOnKzExUXfffbfOnDmj5ORkubm5ycfHx2EdPz8/JScnX3HMyZMny9vb2/6oWbOmk18FAAAAAAD5Z+op6+3atbP/f1hYmO644w4FBwfr008/laenZ4HGHD16tEaMGGF/npaWRlIOALgim82mhIQEpaSkyNfXV2FhYbJarWaHBQAAygDTryG/nI+Pj+rWravff/9dbdq0UWZmpk6fPu0wS37s2LFcrznP5u7uLnd39yKIFgBQ0sXFxSk2NtbhzCt/f38NGTJELVq0MDEyAABQFph+Dfnl0tPTtX//fgUEBKhp06ZydXXV+vXr7cv37t2rgwcPKjw83MQoAQClQVxcnMaPH69atWopJiZGa9asUUxMjGrVqqXx48crLo57wQIAAOcyNSEfNWqUNm7cqAMHDui///2vHnroIVmtVvXs2VPe3t7q37+/RowYoW+//VZbt25V3759FR4eToV1AMB1sdlsio2NVXh4uCZOnKhGjRqpfPnyatSokSZOnKjw8HBNnz5dNpvN7FABAEApZmpCfvjwYfXs2VP16tXTI488oipVqmjz5s2qVq2aJOmdd95Rhw4d1LVrV7Vo0UL+/v5asWKFmSEDAEqBhIQEJScnKyoqSi4ujj+FLi4uioqK0tGjR5WQkGBShAAAoCww9RryxYsXX3W5h4eHYmJiFBMTU0QRAQDKgpSUFElSaGhorsuz27P7AQAAOEOxKuoGAEBR8PX1lSQlJiaqTp06WrVqlY4cOaLAwEB16tRJiYmJDv0AAACcgYQcAFDmhIWFyd/fX5MmTdKxY8ccrhWfMWOG/Pz8FBAQoLCwMBOjBAAApV2xqrIOAEBRsFqtuvHGG3XkyBG5uLjo0Ucf1fz58/Xoo4/KxcVFR44cUa1atbgfOQAAcCpmyAEAZU5mZqY2b96sChUqqEKFClq4cKEWLlwoSfLz81N6ero2b96szMxMubm5mRwtAAAorUjIAQBlzqpVq2Sz2TR48GC1a9dOCQkJSklJka+vr8LCwrRmzRpNnTpVq1atUrdu3cwOFwAAlFIk5ACAMufIkSOSpPDwcFmtVjVp0sRheXh4uEM/AAAAZ+AacgBAmRMYGChJio+Pl81m07Zt27R+/Xpt27ZNNptN8fHxDv0AAACcgRlyAECZ06lTJ82YMUPTp0/XJ598ouPHj9uXVa9eXWfPnpXValWnTp1MjBIAAJR2zJADAMocNzc3NW/eXGfPntWpU6fUs2dPzZs3Tz179tSpU6d09uxZNW/enIJuAADAqZghBwCUOTabTfv371dgYKCOHTumRYsWadGiRZL+viVaYGCg/vjjD9lsNm59BgAAnIaEHABQ5iQkJCg5OVkxMTGqU6eOVq1apSNHjigwMFCdOnXSvn37NHToUCUkJOQo+AYAAFBYSMgBAGVOSkqKJCk0NFRubm45bm0WGhrq0A8AAMAZuIYcAFDm+Pr6SpISExNzXZ7dnt0PAADAGUjIAQBlTlhYmPz9/bVgwQJlZWU5LMvKytKCBQsUEBCgsLAwkyIEAABlAQk5AKDMsVqtGjJkiOLj4zV27Fjt3LlT586d086dOzV27FjFx8dr8ODBFHQDAABOxTXkAIAyqUWLFoqOjlZsbKyGDh1qbw8ICFB0dLRatGhhYnQAAKAsICEHAJRZLVq0UEREhBISEpSSkiJfX1+FhYUxMw4AAIoECTkAoEyzWq3c2gwAAJiCa8gBAAAAADABCTkAAAAAACYgIQcAAAAAwAT5vob89OnT+uyzz/Tdd98pKSlJ586dU7Vq1dSkSRNFRkbqzjvvdEacAAAAAFDqJSUlmR1CvmTHW9Lizubt7S0/Pz/Ttp/nhPzIkSN6+eWXtWDBAgUGBur222/XLbfcIk9PT6WkpOjbb7/VW2+9peDgYI0fP17du3d3ZtwAAAAAUGpYLp6TRYYmTZpkdigFUlLjdndz1Sfz5puWlOc5IW/SpIl69+6trVu3qmHDhrn2OX/+vFauXKlp06bp0KFDGjVqVKEFCgCAM9hsNm57BgAwneVSpgxZNKjhGQVWsJkdTplw5KxVM3ZVVGpqavFPyHft2qUqVapctY+np6d69uypnj176uTJk9cdHAAAzhQXF6fY2FglJyfb2/z9/TVkyBC1aNHCxMgAAGVVYAWbQiqSkJcVeS7qdq1k/Hr7AwBQlOLi4jR+/HjVqlVLMTExWrNmjWJiYlSrVi2NHz9ecXFxZocIAABKuQJVWf/Xv/6lL774wv78+eefl4+Pj+68884SezE/AKDssNlsio2NVXh4uCZOnKhGjRqpfPnyatSokSZOnKjw8HBNnz5dNhszFAAAwHkKlJC/9tpr8vT0lCTFx8crJiZGb7zxhqpWrarhw4cXaoAAABS2hIQEJScnKyoqSi4ujj+FLi4uioqK0tGjR5WQkGBShAAAoCzI923PJOnQoUOqXbu2JGnlypXq2rWrBgwYoIiICLVq1aow4wMAoNClpKRIkkJDQ3Ndnt2e3Q8AAMAZCjRD7uXlZS/a9tVXX6lNmzaSJA8PD50/f77wogMAwAl8fX0lSYmJibLZbNq2bZvWr1+vbdu2yWazKTEx0aEfAACAMxRohrxNmzZ64okn1KRJE/32229q3769JGnnzp0KCQkpzPgAACh0YWFh8vf313vvvafU1NQcVda9vb0VEBCgsLAwE6MEAAClXYFmyGNiYhQeHq4TJ05o+fLl9orqW7duVc+ePQs1QAAACpvValWrVq20d+9eZWRkaNSoUVq+fLlGjRqljIwM7d27Vy1btuR+5AAAwKkKNEPu4+OjDz74IEd7dHT0dQcEAICz2Ww2bdiwQfXq1dPp06f11ltv2Zf5+/urXr162rhxo5588kmScgAA4DQFSsgl6fTp0/rxxx91/PhxZWVl2dstFosef/zxQgkOAABnyK6yPm7cONWvX18JCQlKSUmRr6+vwsLCtGfPHg0dOlQJCQlq0qSJ2eECAIBSqkAJ+b///W9FRUUpPT1dlSpVksVisS8jIQcAFHeXV1m3Wq05km6qrKM0S0pKMjuEfMuOuSTG7u3tLT8/P7PDAFBMFSghHzlypPr166fXXntN5cuXL+yYAABwqsurrOc2Q06VdZRGlovnZJGhSZMmmR1KgZXE2N3dXPXJvPkk5QByVaCE/M8//9QzzzxDMg4AKJEur7J++vRpHTt2zL7Mz89PPj4+VFlHqWO5lClDFg1qeEaBFWxmh1MmHDlr1YxdFZWamkpCDiBXBUrIIyMjtWXLFtWqVauw4wEAwOmyq6wvXrxYlStX1siRIxUeHq74+HjNnj1be/fuVY8ePSjohlIpsIJNIRVJyAGgOMhzQv7555/b//+BBx7Qc889p127dqlx48ZydXV16Pvggw8WXoQAABSyy6usp6amaurUqfZlAQEBVFkHAABFIs8JeefOnXO0TZgwIUebxWKRzcZRVwBA8UWVdQAAUBzkOSG//NZmAACUZFRZBwAgf7KsHsry8JbkYnYohcYiF1WvXkk2m00XLlzI17qurq6FchZdga4h/+STT9S9e3e5u7s7tGdmZmrx4sXq1avXdQcGAICzXF5lvVGjRjmWU2UdAIC/GbLoXO0OuhjUQhZrOUmWa65TUngZFg2+26KLFy/af/vzw8fHR/7+/g63Ac+vAiXkffv2Vdu2bVW9enWH9jNnzqhv374k5ACAYi27yvqCBQs0ceJEubj872h/VlaWFixYQJV1AAAknavdQbbakaruW1merhZdR+5Z7Fy0SR4XyikwMDDHZPPVGIahc+fO6fjx45L+rj9TUAVKyA3DyPUowOHDh+Xt7V3gYAAAKApWq1VDhgzR+PHjNXbsWEVFRSk0NFSJiYlasGCB4uPjFR0dTUE3AECZllXOQxeDWqi6b2VVLl/6fhMtFsnFxUXu7u7y8PDI17qenp6SpOPHj6t69eoF/pshXwl5kyZNZLFYZLFYdN9996lcuf+tbrPZlJiYqLZt2xYoEAAAilKLFi0UHR2t2NhYDR061N4eEBCg6OhotWjRwsToAAAwX5a7tyzWcvJ0LUXT4oWofPnykqSLFy8WTUKeXWl9+/btioyMlJeXl32Zm5ubQkJC1LVr1wIFAgDOcOzYMaWmppodRr4kJSU5/Lek8fb2lp+fn9lh5EmLFi0UERGRo8o6M+MAAEh/F3ArXaepF6bruXY8W74S8vHjx0uSQkJC1L1793xP6wNAUTp27Jgee7yXLmZmmB1KgUyaNMnsEArE1c1d8+d9UmKScgAAALMU6Bry3r17S/q7qvrx48dz3BItKCgo32NOmTJFo0eP1rPPPqtp06ZJki5cuKCRI0dq8eLFysjIUGRkpGJjY/kjD0CepKam6mJmhs7Xavn/t+mAs7lcSJX+2KjU1NQS8V0dFxen2NhYJScn29v8/f01ZMgQTlkHAKAIHDj0p+o3j9QPXy7TzTfVNzucIleghHzfvn3q16+f/vvf/zq0Zxd7s9ls+Rrvp59+0syZM3NUsx0+fLi++OILLV26VN7e3nrqqafUpUsXbdq0qSBhAyijsjy8lVWhqtlhoJiJi4vT+PHjFR4ernHjxjkUdRs/fjzXkQMAAKcrUELep08flStXTqtXr1ZAQMB1nTufnp6uqKgoffjhh5o4caK9PTU1VR9//LEWLlyoe++9V5I0Z84cNWjQQJs3b1bz5s0LvE0AQNlms9kUGxur8PBwh9ueNWrUSBMnTtTYsWM1ffp0RUREcD05AAAlUGbmRbm5uZodxjW5XLtLTtu3b9fMmTPVrl073XLLLbr55psdHvkxdOhQPfDAA2rdurVD+9atW3Xx4kWH9vr16ysoKEjx8fFXHC8jI0NpaWkODwAALpeQkKDk5GRFRUU53INc+vv2J1FRUTp69KgSEhJMihAAgNIlKytLU2Nnq2FEO1UKbaLat7XWlHdn2pcnHjyk+x/uq8o3NtNtrbto85bt9mWvTo3R7W0ci4e//+E81b3jfvvzJ4aNUbd+z2jKuzMVeus9atyigw4c+lMeN9yklWu+vuLYZitQQt6wYUP99ddf173xxYsX6+eff9bkyZNzLEtOTpabm5t8fHwc2v38/Byu9funyZMny9vb2/6oWbPmdccJAChdUlJSJEmhoaG5Ls9uz+4HAACuz7jJ0/RWzEca/ewgbft2lf4V84aqV6tiXz7+9fc0fFAf/fjVMtWpFaJeQ5/XpUuX8rWNb7/frN/2H9AXiz7UZ/+KKdSxnaVACfnrr7+u559/Xhs2bNDJkycLNCN96NAhPfvss1qwYEGhVmsfPXq0UlNT7Y9Dhw4V2tgAgNLB19dXkpSYmCibzaZt27Zp/fr12rZtm2w2mxITEx36AQCAgjuTflYffDxfk8aM0OOPdNKNIUGKuP1W9Xv0YXufYYP6qF3rlqpzY4jGjRqqg4ePaP+Bg/naToXynprx1gQ1rFdbDevVLtSxnaVA15Bnn0Z+3333ObTnp6jb1q1bdfz4cd166632NpvNpri4OH3wwQf68ssvlZmZqdOnTzvMkh87dkz+/v5XHNfd3V3u7u75fEUAgLIkLCxM/v7+eu+993T69GkdO3bMvszPz08+Pj4KCAjIUWwUAADk3559fygjI1P33HXlOmCNG9S1/79/9b+L8R7/K0X1atfK83Ya1a+T63XjVxo7NDTvYztLgRLyb7/99ro3fN9992nHjh0ObX379lX9+vX1wgsvqGbNmnJ1ddX69evVtevf1wvs3btXBw8eVHh4+HVvHwBQdlmtVrVq1UqLFy9W5cqVNXLkSIWHhys+Pl6zZ8/W3r171aNHDwq6AQBQCDw9rj1h6lruf4l0dtHw7Ntru7i4yDAMh/4XL13MMUaF8uXzPbbZCpSQt2zZ8ro3XLFiRd10000ObRUqVFCVKlXs7f3799eIESPk6+urSpUq6emnn1Z4eDgV1gEA18Vms2nDhg2qV6+eUlNTNXXqVPuygIAA1atXTxs3btSTTz5JUg4AwHWqHRosTw8Pffv9ZoVedpp6XlXzraxjJ/6yn5EtSb/s3FvYYZqiQAm5JJ0+fVoff/yxdu/eLenvW8X069dP3t7ehRbcO++8IxcXF3Xt2lUZGRmKjIxUbGxsoY0PACibsqusjxs3TvXr11dCQoJSUlLk6+ursLAw7dmzR0OHDlVCQoKaNGlidrgAAJRoHh7uGjm0n8ZMelturq4Kv62J/jp5Srt++/2qp7Fna3HnbTox5pSmxs7WQw+00dcbNumrb79TRS+vIojeuQqUkG/ZskWRkZHy9PTU7bffLkl6++23NWnSJH311VcO14Xnx4YNGxyee3h4KCYmRjExMbmvAABAAVxeZd1qteZIuqmyDgBA4Xpp2CCVs1o14a0YHT12XP7Vq+nJxx/J07r169yo914bq9ff/1CTp81Q5/ZtNGxgH328YJmTo3a+AiXkw4cP14MPPqgPP/xQ5cr9PcSlS5f0xBNPaNiwYYqLiyvUIAEAKEyXV1nPbYacKusAABQuFxcXvfjsQL347MAcyy78+avDcx/vSjnanuzVXU/26u7Q9sIzA+z//9G0STnGDal5w1XHzrx2LXKnK/AM+eXJuCSVK1dOzz//vJo1a1ZowQEA4AyXV1lPTU1VcnKyfZm/v7+8vb2psg4AAJyuQPchr1Spkg4ezHnftkOHDqlixYrXHRQAAM6UXWV97969ysjI0KhRo7R8+XKNGjVKGRkZ2rt3r1q2bElBNwAA4FQFmiHv3r27+vfvr7feekt33nmnJGnTpk167rnn1LNnz0INEACAwnZ5lfXTp0/rrbfesi/z9/enyjoAACgSBUrI33rrLVksFvXq1UuXLl2SJLm6umrw4MGaMmVKoQYIAEBho8o6AAAoDgqUkLu5uendd9/V5MmTtX//fknSjTfeqPJXuBE7AADFCVXWAQBAcVDg+5BLUvny5dW4cePCigUAgCJxeZX1Ro0a5VhOlXUAAFAU8pWQ9+vXL0/9Zs+eXaBgAAAoCtlV1hcsWKCJEyfKxeV/NU6zsrK0YMECqqwDAACny1eV9blz5+rbb7/V6dOnderUqSs+AAAozqxWq4YMGaL4+HiNHTtWO3fu1Llz57Rz506NHTtW8fHxGjx4MAXdAACAU+Vrhnzw4MFatGiREhMT1bdvXz322GOczgcAKJFatGih6OhoxcbGaujQofb2gIAARUdHq0WLFiZGBwAAyoJ8JeQxMTF6++23tWLFCs2ePVujR4/WAw88oP79++v++++XxWJxVpwAABS6Fi1aKCIiIkeVdWbGAQC4suN/pSj1THqRbc+7opeqVy2dE8H5Lurm7u6unj17qmfPnkpKStLcuXM1ZMgQXbp0STt37pSXl5cz4gQAwClyq7IOAAByd/yvFPUbOUEXL14ssm26urpq9tSX85WUPzFsjOYvXaVXRw/Tc089YW//fN16PdL/WV3481dnhJpv11Vl3cXFRRaLRYZhyGazFVZMAAAAAIBiKPVMui5evKjztVoqy8Pb6dtzuZAq/bFRqWfS8z1L7uHhrqmxs/XEY91U2cf5sRZEvoq6SVJGRoYWLVqkNm3aqG7dutqxY4c++OADHTx4kNlxAAAAACgDsjy8lVWhqvMf15H033tXc/lVq6I3P/join2+/PJL3XrrrXJ3d1dISIimTp1a4O0VRL4S8iFDhiggIEBTpkxRhw4ddOjQIS1dulTt27d3uGUMAAAAAABmslqtmvDis4qds1CHjyTnWL4tYaeGDx+ubt26aceOHXrllVc0btw4zZ07t8hizNcp6zNmzFBQUJBq1aqljRs3auPGjbn2W7FiRaEEBwAAAABAQXVq11o3N6yvV6fGaObUVx2WffDRJ2revLlGjx4tDw8P1a1bV7t27dKbb76pPn36FEl8+UrIe/XqRSV1AAAAAECJMXHMcLV9pL+GD+rj0P7b73/o7lb3ObRFRERo2rRpstlsRXLXlXwl5EU5dQ8AAAAAwPW6u3kztWl5p8ZNflePP9LJ7HAcXFeVdQAASjqbzcZ9yAEAKOUmvjRct9//sOreGGJvq1u7ln7++WeHfps2bVLdunWL7G+BPCfkgwYN0tixY1WjRo1r9l2yZIkuXbqkqKio6woOAABniouLU2xsrJKT/1foxd/fX0OGDFGLFi1MjAwAABSmmxrUVY+HHlDM7AX2tqef7K1WHXto8uTJioqKUnx8vD744APFxsYWWVx5TsirVaumRo0aKSIiQh07dlSzZs0UGBgoDw8PnTp1Srt27dL333+vxYsXKzAwULNmzXJm3AAAXJe4uDiNHz9e4eHhGjdunEJDQ5WYmKgFCxZo/Pjxio6OJikHAOAKXC6klrjtvPzcU1r273X257c0bqh33nlHM2bM0OTJkxUQEKAJEyYUWUE3KR8J+auvvqqnnnpKH330kWJjY7Vr1y6H5RUrVlTr1q01a9YstW3bttADBQCgsNhsNsXGxio8PFwTJ06037qzUaNGmjhxosaOHavp06crIiKC09cBALiMd0Uvubq6Sn/kfsctZ3B1dZV3Ra98rfPRtEk52kJq3qC0xG0ObZGRkRowYIA8PDyuK8aCytc15H5+fhozZozGjBmjU6dO6eDBgzp//ryqVq2qG2+8kQrsAIASISEhQcnJyRo3bpw9Gc/m4uKiqKgoDR06VAkJCWrSpIlJUQIAUPxUr+qr2VNfVuqZ9CLbpndFL1Wv6ltk2ytKBS7qVrlyZVWuXLkwYwEAoEikpKRIkkJDQ3X+/HnNnDlThw8fVo0aNTRw4ECFhoY69AMAAP9TvapvqU2QixpV1gEAZY6v799/RLz44otKSEiwt2/ZskUrV65U48aNHfoBAAA4g8u1uwAAULqEhYXJ3d1dCQkJKleunB599FHNnz9fjz76qMqVK6cdO3bI3d1dYWFhZocKAABKMRJyAECZk5mZqYyMDElSs2bNFBERIV9fX0VERKhZs2aSpIyMDGVmZpoZJgAAKOU4ZR0AUObMnDlTknT33Xdr3759Gjp0qH1ZQECA7rrrLn3//feaOXOmhg0bZlKUAACgtCtwQn7p0iVt2LBB+/fv16OPPqqKFSvqyJEjqlSpkry88leSHgCAonT48GFJ0sCBAxUQEKCEhASlpKTI19dXYWFhOnLkiL7//nt7PwAAAGco0CnrSUlJaty4sTp16qShQ4fqxIkTkqTXX39do0aNKtQAAQAobDVq1JAkrVmzRpmZmdq4caPWrl2rjRs3KjMzU2vWrHHoBwAA4AwFmiF/9tln1axZM/3yyy+qUqWKvf2hhx7Sk08+WWjBAQDgDAMHDtTKlSu1aNEiLVy40N6eXWXdYrHY+wEAADhLgRLy7777Tv/973/l5ubm0B4SEqI///yzUAIDAMBZPD095evra7/PeIMGDdSvXz/Nnj1bu3fvlmEY8vX1laenp8mRAgBQ/Bz/K0WpZ9KLbHveFb1K7X3PC5SQZ2VlyWaz5Wg/fPiwKlaseN1BAQDgTOfPn1dKSoosFosMw9Du3bv13HPP2ZdbLBalpKTo/PnzJOUAAFzm+F8pemJktDIuXiqybbq7ltNHU8fnKSk3DEPtezwpq9VFqxfOclg2c+5ivfz6u9q6/jPVCPR3Vrj5UqCE/P7779e0adM0a9bfL9BisSg9PV3jx49X+/btCzVAAAAKW3aV9Z49e+rxxx/XzJkzdfjwYdWoUUMDBw7UJ598okWLFlFlHQCAf0g9k66Mi5c0qOEZBVbIOUlb2I6ctWrGropKPZOep4TcYrFo1tuvqlnrLvpw3qd68vFHJEmJBw/rpUlT9d7kccUmGZcKmJC/9dZbatu2rRo2bKgLFy7o0Ucf1b59+1S1alUtWrSosGMEAKBQZVdPb9++vTw9PXMk3e3bt9eiRYuosg4AwBUEVrAppKLzE/KCqHlDgN6KflHDx05S65Z3KqTmDRo08mW1bnmnbrmpgR58bJA2/bBV5ct7KvzOuxQTE2Mv5Lps2TJFR0fr999/V/ny5dWkSROtWrVKFSpUcEqsBaqyXrNmTf3yyy8aM2aMhg8friZNmmjKlCnatm2bqlevXtgxAgBQqC6vsp4bqqwDAFCyPf5IJ91zV3MNHDFO0+cs1K69v+uD18er7SP9dXOj+vrv2iVa8clM/fXXX3rsscckSUePHlXPnj3Vr18/7d69Wxs2bFCXLl1kGIbT4sz3DPnFixdVv359rV69WlFRUYqKinJGXAAAOE12lfWlS5eqT58+DkVKMzMztWzZMns/AABQMsW8MV633tNZ3/+wVYs/fEcfzVuqm2+qr1dHD5MkZdqk1157Ta1atdJvv/2m9PR0Xbp0SV26dFFwcLAkqXHjxk6NMd8z5K6urrpw4YIzYgEAoEh4enoqIiJCFy9e1AMPPKCZM2fq0KFDmjlzph544AFdvHhRERERFHQDAKAEq161ivo/1k3169TSg23v045de7Xxvz+qSp3bVKXObQqof5u9Btr+/ft1880367777lPjxo3VrVs3ffjhhzp16pRTYyzQKetDhw7V66+/rkuXiq6yHgAAhWnSpEn2pHzRokV6/PHHtWjRInsyPmnSJLNDBAAA16lcOavKWa2SpPRz5/RAm1b68avl+vGr5fp+3XJ99tln+vXXX9WiRQtZrVZ9/fXXWrt2rRo2bKj3339f9erVU2JiovPiK8hKP/30k9avX6+vvvpKjRs3znGB+4oVKwolOAAAnGnSpEk6f/58jirrzIwDAFD63HJTA61c842CawaqXLlyyrRJnufKKTg4WB4eHpL+rtIeERGhiIgIvfzyywoODtZnn32mESNGOCWmAiXkPj4+6tq1a2HHAgBAkcutyjoAACh9BvXpqTkLl6vXkOc1YkhfeVX01k97/9SkSZM0Z84cbdmyRevXr9f999+v6tWr64cfftCJEyfUoEEDp8VUoIR8zpw5hR0HAACmyMzM1KpVq3TkyBEFBgaqU6dODkXeAABATkfOWkvcdgL9q+vblfM05rW31eHRgcrIyFRAYKDat28vFxcXVapUSXFxcZo2bZrS0tIUHBysqVOnql27doUWwz8VKCEHAKA0mDFjhpYuXSqbzebQ1q1bNw0aNMjEyMoOlwupZodQZlgy080OAUAp4F3RS+6u5TRjV8Ui26a7azl5V/Qq0LrjRg7VuJFD7c9r1wrWko/elfR3lfUj/3/KusViUYMGDbRu3bpCiTmvCpSQh4aGymKxXHH5H3/8UeCAAAAoCjNmzNDixYtVuXJl9e/fX+Hh4YqPj9fHH3+sxYsXSxJJuRN5e3vL1c1d+mOj2aEAAPKhelVffTR1vFLPFN1BPu+KXqpe1bfItleUCpSQ//Nau4sXL2rbtm1at26dnnvuucKICwAAp8nMzNTSpUtVuXJlLV26VOXK/f1z2KFDB7Vt21bdunXT0qVL1a9fP05fdxI/Pz/Nn/eJUlNL3gx5UlKSJk2apDFjxtjvU1sSZMcNANerelXfUpsgF7UCJeTPPvtsru0xMTHasmXLdQUEAICzrVq1SjabTf3797cn49nKlSunfv36aerUqVq1apW6detmUpSln5+fn/z8/MwOo8CCg4NVt25ds8MAAJRgBboP+ZW0a9dOy5cvL8whAQAodEeOHJEkhYeH57o8uz27HwAAgDMUakK+bNky+fpy6gIAoHgLDAyUJMXHx+e6PLs9ux8AAGVTliRDhmF2HMWTUQhvTIES8iZNmujWW2+1P5o0aaKAgAC99NJLeumll/I8zvTp0xUWFqZKlSqpUqVKCg8P19q1a+3LL1y4oKFDh6pKlSry8vJS165ddezYsYKEDACAXadOnWS1WvXxxx/r0qVLDssuXbqk2bNny2q1qlOnTiZFCACA+VwyUmXYLun8RTLy3Jw7d06S5OrqWuAxCnQNeefOnR2eu7i4qFq1amrVqpXq16+f53Fq1KihKVOmqE6dOjIMQ//617/UqVMnbdu2TY0aNdLw4cP1xRdfaOnSpfL29tZTTz2lLl26aNOmTQUJGwAASZKbm5u6deumxYsXq1u3burXr5+9yvrs2bN16tQp9ejRg4JuAIAyzeXSBbkejNNfbpGSKsvT1aKr3GyrxLlok7KyspSRkZGv9QzD0Llz53T8+HH5+PjIai34vdILlJCPHz++wBu8XMeOHR2eT5o0SdOnT9fmzZtVo0YNffzxx1q4cKHuvfdeSdKcOXPUoEEDbd68Wc2bNy+UGAAAZVP2Lc2WLl2qqVOn2tutVqt69OjBLc8AAJBU/vfVOifpeFALWazlJJWejPySYdHpDIsuXrxYoFluHx8f+fv7X1cMBUrIpb+PJPz+++86fvy4srKyHJa1aNEi3+PZbDYtXbpUZ8+eVXh4uLZu3aqLFy+qdevW9j7169dXUFCQ4uPjr5iQZ2RkOBzhSEtLy3csAICyYdCgQerXr59WrVqlI0eOKDAwUJ06dWJmHACA/2eRoQq//1tZiV8ry8NbhVyGzFR/nnXR9F8rKTo6WqGhofla19XV9bpmxrMVKCHfvHmzHn30USUlJeW4kN1ischms+V5rB07dig8PFwXLlyQl5eXPvvsMzVs2FDbt2+Xm5ubfHx8HPr7+fkpOTn5iuNNnjxZ0dHR+Xo9AICyK/v0dQAAcGUutgtyOXvB7DAKlXHGquPHL8hqtcrDw8OUGAp0eGPQoEFq1qyZfv31V6WkpOjUqVP2R0pKSr7GqlevnrZv364ffvhBgwcPVu/evbVr166ChCVJGj16tFJTU+2PQ4cOFXgsAAAAAACcpUAz5Pv27dOyZctUu3bt6w7Azc3NPk7Tpk31008/6d1331X37t2VmZmp06dPO8ySHzt27Krn6bu7u8vd3f264wIAAAAAwJkKNEN+xx136Pfffy/sWCT9r8pd06ZN5erqqvXr19uX7d27VwcPHlR4eLhTtg0AAAAAQFEp0Az5008/rZEjRyo5OVmNGzfOUZEuLCwsT+OMHj1a7dq1U1BQkM6cOaOFCxdqw4YN+vLLL+Xt7a3+/ftrxIgR8vX1VaVKlfT0008rPDycCusAAAAAgBKvQAl5165dJUn9+vWzt1ksFhmGka+ibsePH1evXr109OhReXt7KywsTF9++aXatGkjSXrnnXfk4uKirl27KiMjQ5GRkYqNjS1IyE7lcv602SGUGbzXAAAAAEqLAiXkiYmJhbLxjz/++KrLPTw8FBMTo5iYmELZnrN4JsaZHQIAAAAAoIQpUEIeHBxc2HGUaOdDWyjL08fsMMoEl/OnOQACAAAAoFQoUEIuSfPmzdOMGTOUmJio+Ph4BQcHa9q0aQoNDVWnTp0KM8ZiL8vTR1kVqpodBgAAAACgBClQlfXp06drxIgRat++vU6fPm2/ZtzHx0fTpk0rzPgAAAAAACiVCjRD/v777+vDDz9U586dNWXKFHt7s2bNNGrUqEILDgCAbBcuXNDBgwfNDqPAgoKC5OHhYXYYAACgGClwUbcmTZrkaHd3d9fZs2evOygAAP7p4MGDGjBggNlhFNisWbNUt25ds8MAAADFSIES8tDQUG3fvj1Hcbd169apQYMGhRIYAACXCwoK0qxZs5wydlJSkiZNmqQxY8Y4rXBpUFCQU8YFAAAlV74S8gkTJmjUqFEaMWKEhg4dqgsXLsgwDP34449atGiRJk+erI8++shZsQIAyjAPDw+nzzAHBwcziw0AAIpMvhLy6OhoDRo0SE888YQ8PT01duxYnTt3To8++qgCAwP17rvvqkePHs6KFQAAAACAUiNfCblhGPb/j4qKUlRUlM6dO6f09HRVr1690IMDAAAAAKC0yvc15BaLxeF5+fLlVb58+UILCAAAAACAsiDfCXndunVzJOX/lJKSUuCAAAAAAAAoC/KdkEdHR8vb29sZsQAAAAAAUGbkOyHv0aMH14sDAAAAAHCdXPLT+VqnqgMAAAAAgLwpcJV1AAAAAKWby4VUs0MoMyyZ6WaHABPkKyHPyspyVhwAAAAAiglvb2+5urlLf2w0OxSgVMv3NeQAAAAASjc/Pz/Nn/eJUlNL1gx5UlKSJk2apDFjxig4ONjscPIlO3aULSTkAAAAAHLw8/OTn5+f2WEUSHBwsOrWrWt2GMA15auoGwAAAAAAKBwk5AAAAAAAmICEHAAAAAAAE3ANOUqkpKQks0PIt+yYS2Ls3t7eJfYaMgAAAKC4IiFHiWK5eE4WGSW6AmVJjN3dzVWfzJtPUg4AAAAUIhJylCiWS5kyZNGghmcUWMFmdjhlwpGzVs3YVVGpqakk5AAAAEAhIiFHiRRYwaaQiiTkAAAAAEouiroBAAAAAGACEnIAAAAAAExAQg4AAAAAgAlIyAEAAAAAMAEJOQAAAAAAJiAhBwAAAADABCTkAAAAAACYgIQcAAAAAAATlDM7AAAAAADA346ctZodQplRHN5rEnIAAAAAKCZm7KpodggoQiTkAAAAAFBMDGp4RoEVbGaHUSYcOWs1/QAICTkAAAAAFBOBFWwKqUhCXlZQ1A0AAAAAABOQkAMAAAAAYAIScgAAAAAATEBCDgAAAACACUjIAQAAAAAwAQk5AAAAAAAmICEHAAAAAMAEJOQAAAAAAJiAhBwAAAAAABOQkAMAAAAAYIJyZm588uTJWrFihfbs2SNPT0/deeedev3111WvXj17nwsXLmjkyJFavHixMjIyFBkZqdjYWPn5+ZkYOQAAQMl05KzV7BDKDN5rANdiakK+ceNGDR06VLfddpsuXbqkl156Sffff7927dqlChUqSJKGDx+uL774QkuXLpW3t7eeeuopdenSRZs2bTIzdAAAgBJpxq6KZocAAPh/pibk69atc3g+d+5cVa9eXVu3blWLFi2Umpqqjz/+WAsXLtS9994rSZozZ44aNGigzZs3q3nz5maEDQAAUGINanhGgRVsZodRJhw5a+UACICrMjUh/6fU1FRJkq+vryRp69atunjxolq3bm3vU79+fQUFBSk+Pj7XhDwjI0MZGRn252lpaU6OGkBx53L+tNkhlBm810DxF1jBppCKJOQAUBwUm4Q8KytLw4YNU0REhG666SZJUnJystzc3OTj4+PQ18/PT8nJybmOM3nyZEVHRzs7XAAliGdinNkhAAAAADkUm4R86NCh+vXXX/X9999f1zijR4/WiBEj7M/T0tJUs2bN6w0PQAl2PrSFsjx9zA6jTHA5f5oDIAAAAHlULBLyp556SqtXr1ZcXJxq1Khhb/f391dmZqZOnz7tMEt+7Ngx+fv75zqWu7u73N3dnR0ygBIky9NHWRWqmh0GAAAA4MDU+5AbhqGnnnpKn332mf7zn/8oNDTUYXnTpk3l6uqq9evX29v27t2rgwcPKjw8vKjDBQAAAACg0Jg6Qz506FAtXLhQq1atUsWKFe3XhXt7e8vT01Pe3t7q37+/RowYIV9fX1WqVElPP/20wsPDqbAOAAAAACjRTE3Ip0+fLklq1aqVQ/ucOXPUp08fSdI777wjFxcXde3aVRkZGYqMjFRsbGwRRwoAAAAAQOEyNSE3DOOafTw8PBQTE6OYmJgiiAgAAAAAgKJh6jXkAAAAAACUVSTkAAAAAACYgIQcAAAAAAATkJADAAAAAGACEnIAAAAAAExAQg4AAAAAgAlIyAEAAAAAMAEJOQAAAAAAJiAhBwAAAADABCTkAAAAAACYgIQcAAAAAAATkJADAAAAAGACEnIAAAAAAExAQg4AAAAAgAlIyAEAAAAAMAEJOQAAAAAAJiAhBwAAAADABCTkAAAAAACYgIQcAAAAAAATkJADAAAAAGACEnIAAAAAAExAQg4AAAAAgAlIyAEAAAAAMAEJOQAAAAAAJiAhBwAAAADABCTkAAAAAACYgIQcAAAAAAATkJADAAAAAGACEnIAAAAAAExAQg4AAAAAgAlIyAEAAAAAMAEJOQAAAAAAJiAhBwAAAADABCTkAAAAAACYgIQcAAAAAAATkJADAAAAAGACEnIAAAAAAExAQg4AAAAAgAlIyAEAAAAAMEE5swMAAJQ+SUlJZoeQL9nxlrS4s3l7e8vPz8/sMAAAQD6RkAMACo3l4jlZZGjSpElmh1IgJTVudzdXfTJvPkk5AAAlDAk5AKDQWC5lypBFgxqeUWAFm9nhlAlHzlo1Y1dFpaamkpADAFDCkJADAApdYAWbQiqSkAMAAFwNRd0AAAAAADABCTkAAAAAACYgIQcAAAAAwAQk5AAAAAAAmMDUhDwuLk4dO3ZUYGCgLBaLVq5c6bDcMAy9/PLLCggIkKenp1q3bq19+/aZEywAAAAAAIXI1IT87NmzuvnmmxUTE5Pr8jfeeEPvvfeeZsyYoR9++EEVKlRQZGSkLly4UMSRAgAAAABQuEy97Vm7du3Url27XJcZhqFp06Zp7Nix6tSpkyTpk08+kZ+fn1auXKkePXoUZagAAAAAABSqYnsf8sTERCUnJ6t169b2Nm9vb91xxx2Kj4+/YkKekZGhjIwM+/O0tDSnx+pyIdXp28DfLJnpZocAAAAAAIWi2CbkycnJkiQ/Pz+Hdj8/P/uy3EyePFnR0dFOjS2bt7e3XN3cpT82Fsn2AAAAAAClR7FNyAtq9OjRGjFihP15Wlqaatas6ZRt+fn5af68T5SaWvJmyJOSkjRp0iSNGTNGwcHBZoeTZ9lxAwAAAEBJV2wTcn9/f0nSsWPHFBAQYG8/duyYbrnlliuu5+7uLnd3d2eHZ+fn55djFr8kCQ4OVt26dc0OAwAAAADKnGJ7H/LQ0FD5+/tr/fr19ra0tDT98MMPCg8PNzEyAAAAAACun6kz5Onp6fr999/tzxMTE7V9+3b5+voqKChIw4YN08SJE1WnTh2FhoZq3LhxCgwMVOfOnc0LGgAAAACAQmBqQr5lyxbdc8899ufZ13737t1bc+fO1fPPP6+zZ89qwIABOn36tO666y6tW7dOHh4eZoWMYuLIWavZIZQZvNcAAACAc5iakLdq1UqGYVxxucVi0YQJEzRhwoQijAolwYxdFc0OAQAAAACuS7Et6gZczaCGZxRYwWZ2GGXCkbNWDoAAAAAATkBCjhIpsIJNIRVJyAEAAACUXMW2yjoAAAAAAKUZCTkAAAAAACbglHUAAAAAKCa4w03RKQ7vNQk5AAAAAJjM29tb7m6uFNMtYu5urvL29jZt+yTkAAAAAGAyPz8/fTJvvlJTU80OJV+SkpI0adIkjRkzRsHBwWaHk2/e3t7y8/Mzbfsk5AAAAABQDPj5+ZmaHF6P4OBg1a1b1+wwShwScgAAgDKkOFwzWVbwXgO4FhJyAACAMoDrU81h9vWpAIo3EnIAAIAyoKRenyqV7GtUzb4+FUDxRkIOAABQRpTk61MlrlEFUPq4mB0AAAAAAABlEQk5AAAAAAAmICEHAAAAAMAEJOQAAAAAAJiAom4ASj2XCyWvonBJZclMNzsEAACAEoOEHECp5e3tLVc3d+mPjWaHAgAAAORAQg6g1PLz89P8eZ+UuHvuluT77WbHDgAAgGsjIQdQqpXke+5yv10AAIDSjaJuAAAAAACYgIQcAAAAAAATkJADAAAAAGACEnIAAAAAAExAQg4AAAAAgAlIyAEAAAAAMAEJOQAAAAAAJiAhBwAAAADABCTkAAAAAACYgIQcAAAAAAATkJADAAAAAGACEnIAAAAAAExAQg4AAAAAgAnKmR0AAKD0OXLWanYIZQbvNQAAJRcJOQCg0M3YVdHsEAAAAIo9EnIAQKEb1PCMAivYzA6jTDhy1soBEAAASigScgBAoQusYFNIRRJyAACAq6GoGwAAAAAAJiAhBwAAAADABJyyjhKJqsJFh/caAAAAcA4ScpQo3t7ecndzpYBREXN3c5W3t7fZYQAAAAClCgk5ShQ/Pz99Mm++UlNTzQ4l35KSkjRp0iSNGTNGwcHBZoeTL97e3vLz8zM7DAAAAKBUISFHiePn51eik8Pg4GDVrVvX7DAAAAAAmIyibgAAAAAAmICEHAAAAAAAE3DKejF14cIFHTx40GnjJyUlOfzXGYKCguTh4eG08Qsb7zlQeJxRnT/TJv11oeRW/a/qYZObE8LnTggoDvgNBYo3Z+6j7J/Xh4S8mDp48KAGDBjg9O1MmjTJaWPPmjWrRF0rzXsOXD/uhGAO7oQAs/EbChRvRbGPsn8WDAl5MRUUFKRZs2aZHcZ1CQoKMjuEfOE9B66fM++EkJGRoeTk5EIft6j4+/vL3d3dKWNzJwSYjd9QoHgr6ftoad4/S0RCHhMTozfffFPJycm6+eab9f777+v22283Oyyn8vDwKLVHgYor3nOgcDjzTgiNGzd2yrgArg+/oUDxxj5afBX7om5LlizRiBEjNH78eP3888+6+eabFRkZqePHj5sdGgAAAAAABVbsE/K3335bTz75pPr27auGDRtqxowZKl++vGbPnm12aAAAAAAAFFixPmU9MzNTW7du1ejRo+1tLi4uat26teLj43NdJyMjQxkZGfbnaWlpTo8TQNlDtVKg+KLiN1C88RsK/E+xTsj/+usv2Wy2HNci+vn5ac+ePbmuM3nyZEVHRxdFeADKMKqVAsUXFb+B4o3fUOB/inVCXhCjR4/WiBEj7M/T0tJUs2ZNEyMCUBpRrRQovkr6/imxj6J0K+n7KPsnClOxTsirVq0qq9WqY8eOObQfO3ZM/v7+ua7j7u7utNvKAEA2qpUCxRf7J1C8sY8C/1Osi7q5ubmpadOmWr9+vb0tKytL69evV3h4uImRAQAAAABwfYr1DLkkjRgxQr1791azZs10++23a9q0aTp79qz69u1rdmgAAAAAABRYsU/Iu3fvrhMnTujll19WcnKybrnlFq1bty5HoTcAAAAAAEoSi2EYhtlBOFNaWpq8vb2VmpqqSpUqmR0OAAAAAKCUy2seWqyvIQcAAAAAoLQiIQcAAAAAwAQk5AAAAAAAmICEHAAAAAAAE5CQAwAAAABgAhJyAAAAAABMQEIOAAAAAIAJSMgBAAAAADABCTkAAAAAACYgIQcAAAAAwAQk5AAAAAAAmICEHAAAAAAAE5CQAwAAAABggnJmB+BshmFIktLS0kyOBAAAAABQFmTnn9n56JWU+oT8zJkzkqSaNWuaHAkAAAAAoCw5c+aMvL29r7jcYlwrZS/hsrKydOTIEVWsWFEWi8XscHCd0tLSVLNmTR06dEiVKlUyOxwA/8A+ChRf7J9A8cY+WroYhqEzZ84oMDBQLi5XvlK81M+Qu7i4qEaNGmaHgUJWqVIlvqiAYox9FCi+2D+B4o19tPS42sx4Noq6AQAAAABgAhJyAAAAAABMQEKOEsXd3V3jx4+Xu7u72aEAyAX7KFB8sX8CxRv7aNlU6ou6AQAAAABQHDFDDgAAAACACUjIAQAAAAAwAQk5AAAAAAAmICEvoywWi1auXGl2GAXWqlUrDRs2zCljb9iwQRaLRadPn3bK+JI0d+5c+fj4OG184EoOHDggi8Wi7du3Syq8z3tISIimTZtW4PWd/Z30z9cNAABQHJCQl0J9+vSRxWLJ8Wjbtq3TtlnUCf6KFSv06quvFtn2ALNk78+DBg3KsWzo0KGyWCzq06dPnserWbOmjh49qptuuqkQowRKHmce2C0qs2bNUs2aNeXi4nJdB8SuZO/evfL399eZM2cKfeziLr8Hzps3b67ly5c7LyBc0eV/g5aEg699+vRR586dr9nv8ccf12uvveb8gIqh/BzkX7dunW655RZlZWU5NygnIiEvpdq2baujR486PBYtWmRqTJmZmYU2lq+vrypWrFho4wHFWc2aNbV48WKdP3/e3nbhwgUtXLhQQUFB+RrLarXK399f5cqVK+wwgev2zwPKVapUUdu2bZWQkGB2aEVy9lR+pKWl6amnntILL7ygP//8UwMGDCj0bYwePVpPP/10of/eFrez9HL747979+767bff8jzG2LFj9eKLL5bopKCwJCcn6+mnn1atWrXk7u6umjVrqmPHjlq/fr3Tt/3Pg87Fbb/Nq19++UVr1qzRM888U6jjvvLKK7rlllsKdczrcaUDXz/99FOev9Patm0rV1dXLViwoJCjKzok5KWUu7u7/P39HR6VK1e+Yv9Dhw7pkUcekY+Pj3x9fdWpUycdOHDAoc/s2bPVqFEjubu7KyAgQE899ZSkv3/IJOmhhx6SxWKxP8/e6T/66COFhobKw8NDknTw4EF16tRJXl5eqlSpkh555BEdO3bMvp3s9ebNm6eQkBB5e3urR48eDkfo/zmzkZGRoRdeeEE1a9aUu7u7ateurY8//viKrzcv/bdu3apmzZqpfPnyuvPOO7V3716H5atWrdKtt94qDw8P1apVS9HR0bp06ZJ9+enTpzVw4ED5+fnJw8NDN910k1avXp1rPCdOnFCzZs300EMPKSMj44pxo2y69dZbVbNmTa1YscLetmLFCgUFBalJkyYOfdetW6e77rpLPj4+qlKlijp06KD9+/fbl+dl9uD777/X3XffLU9PT9WsWVPPPPOMzp49a19+/PhxdezYUZ6engoNDc3zj+CVvkOy/fXXX3rooYdUvnx51alTR59//rnD8l9//VXt2rWTl5eX/Pz89Pjjj+uvv/6yL8/KytIbb7yh2rVry93dXUFBQZo0aVKusdhsNvXr10/169fXwYMH8xQ/isblB5TXr1+vcuXKqUOHDmaHlWeFefD5ag4ePKiLFy/qgQceUEBAgMqXL1+gcS5evHjF8VevXp2vM3BKE09PT1WvXj3P/du1a6czZ85o7dq1Toyq+Dtw4ICaNm2q//znP3rzzTe1Y8cOrVu3Tvfcc4+GDh16xfWu9DnMr+J00Pl6XtP777+vbt26ycvLqxAjKjmqVauWr++0Pn366L333nNiRM5FQg5dvHhRkZGRqlixor777jtt2rRJXl5eatu2rf0Pi+nTp2vo0KEaMGCAduzYoc8//1y1a9eW9PdRLEmaM2eOjh49an8uSb///ruWL1+uFStWaPv27crKylKnTp2UkpKijRs36uuvv9Yff/yh7t27O8S0f/9+rVy5UqtXr9bq1au1ceNGTZky5YqvoVevXlq0aJHee+897d69WzNnzrzql1he+o8ZM0ZTp07Vli1bVK5cOfXr18++7LvvvlOvXr307LPPateuXZo5c6bmzp1r/+M/KytL7dq106ZNmzR//nzt2rVLU6ZMkdVqzRHLoUOHdPfdd+umm27SsmXL5O7ufsW4UXb169dPc+bMsT+fPXu2+vbtm6Pf2bNnNWLECG3ZskXr16+Xi4uLHnrooTzP2uzfv19t27ZV165dlZCQoCVLluj77793SJ779OmjQ4cO6dtvv9WyZcsUGxur48ePX3Xcq32HZIuOjtYjjzyihIQEtW/fXlFRUUpJSZH09wGue++9V02aNNGWLVu0bt06HTt2TI888oh9/dGjR2vKlCkaN26cdu3apYULF8rPzy9HLBkZGerWrZu2b9+u7777Lt9nGcC5Lj+gfMstt+jFF1/UoUOHdOLECXufF154QXXr1lX58uVVq1YtjRs3zuGP37wc2P2nL774Qt7e3rkeYDpw4IDuueceSVLlypUdLhVp1aqVnnrqKQ0bNkxVq1ZVZGSkJOntt99W48aNVaFCBdWsWVNDhgxRenq6fczsmaEvv/xSDRo0sP/uHj161N5nw4YNuv3221WhQgX5+PgoIiJCSUlJmjt3rho3bixJqlWrliwWi/0g+rUOFlssFk2fPl0PPvigKlSocMWDVp9++qluvvlm3XDDDfa2kydPqmfPnrrhhhtUvnx5NW7cOMfZd7nNNt9yyy165ZVX7MulnAfxpb+/J2688Ua5ubmpXr16mjdvnsM4FotFM2fOVIcOHVS+fHk1aNBA8fHx+v3339WqVStVqFBBd955p8NByP3796tTp07y8/OTl5eXbrvtNn3zzTf25a1atVJSUpKGDx9uPzPj8n+fy/373//WbbfdJg8PD1WtWlUPPfSQfZnValX79u21ePHiXN/PsmLIkCGyWCz68ccf1bVrV9WtW1eNGjXSiBEjtHnzZnu/K30Or/X53bdvn1q0aCEPDw81bNhQX3/9tcP2Lz/ofLX9NjebNm1Sq1atVL58eVWuXFmRkZE6deqUpLwf7F6yZIlatmwpDw8PLViwQDabTSNGjLCv9/zzz8swjKu+hzabTcuWLVPHjh0d2ufNm6dmzZqpYsWK8vf316OPPurw25vbZ3blypUOn+no6Gj98ssv9s/63LlzJeV9smz27NkKCgqSl5eXhgwZIpvNpjfeeEP+/v6qXr16ju+Tq30PbtiwQX379lVqaqo9nsu/Jy7/HrnWJFfHjh21ZcsWh3+TEsVAqdO7d2/DarUaFSpUcHhMmjTJ3keS8dlnnxmGYRjz5s0z6tWrZ2RlZdmXZ2RkGJ6ensaXX35pGIZhBAYGGmPGjLniNi8fL9v48eMNV1dX4/jx4/a2r776yrBarcbBgwftbTt37jQkGT/++KN9vfLlyxtpaWn2Ps8995xxxx132J+3bNnSePbZZw3DMIy9e/cakoyvv/46T+/Ptfp/++23hiTjm2++sbd98cUXhiTj/PnzhmEYxn333We89tprDuvNmzfPCAgIMAzDML788kvDxcXF2Lt3b67bmDNnjuHt7W3s2bPHqFmzpvHMM884vP9Att69exudOnUyjh8/bri7uxsHDhwwDhw4YHh4eBgnTpwwOnXqZPTu3fuK6584ccKQZOzYscMwDMNITEw0JBnbtm0zDON/n/dTp04ZhmEY/fv3NwYMGOAwxnfffWe4uLgY58+ft+8/2furYRjG7t27DUnGO++8c8U48vIdMnbsWPvz9PR0Q5Kxdu1awzAM49VXXzXuv/9+h3UOHTpkSDL27t1rpKWlGe7u7saHH36Y6/jZr/u7774z7rvvPuOuu+4yTp8+fcV4YI7sz3u2M2fOGAMHDjRq165t2Gw2e/urr75qbNq0yUhMTDQ+//xzw8/Pz3j99dfty8ePH294eXkZXbp0MXbs2GHExcUZ/v7+xksvvWTvc/nvyIIFC4yKFSsa//73v3ON69KlS8by5cvtn7ejR4/aPz8tW7Y0vLy8jOeee87Ys2ePsWfPHsMwDOOdd94x/vOf/xiJiYnG+vXrjXr16hmDBw+2jzlnzhzD1dXVaN26tfHTTz8ZW7duNRo0aGA8+uijhmEYxsWLFw1vb29j1KhRxu+//27s2rXLmDt3rpGUlGScO3fO+Oabb+z74tGjR41Lly4ZcXFxRqVKlYy5c+ca+/fvN7766isjJCTEeOWVV+zblWRUr17dmD17trF//34jKSkp19f84IMPGoMGDXJoO3z4sPHmm28a27ZtM/bv32+89957htVqNX744Qd7n+Dg4BzfBTfffLMxfvx4wzAM4/jx44YkY86cOcbRo0ftfyOsWLHCcHV1NWJiYoy9e/caU6dONaxWq/Gf//zHIfYbbrjBWLJkibF3716jc+fORkhIiHHvvfca69atM3bt2mU0b97caNu2rX2d7du3GzNmzDB27Nhh/Pbbb8bYsWMNDw8P++s+efKkUaNGDWPChAnG0aNHjaNHj9r/fby9ve3jrF692rBarcbLL79s7Nq1y9i+fXuOvwOmT59uBAcH5/p+lgUnT540LBZLjvclN7l9Dq/1+bXZbMZNN91k3Hfffcb27duNjRs3Gk2aNHH4G/Ty37ir7bf/tG3bNsPd3d0YPHiwsX37duPXX3813n//fePEiROGYRjGsmXLjOXLlxv79u0ztm3bZnTs2NFo3Lix/Xspe7shISHG8uXLjT/++MM4cuSI8frrrxuVK1c2li9fbuzatcvo37+/UbFiRYfvuX/6+eefDUlGcnKyQ/vHH39srFmzxti/f78RHx9vhIeHG+3atbMv/+dn1jAM47PPPjOy071z584ZI0eONBo1amT/rJ87d86w2WzGLbfcYtx1113Gli1bjM2bNxtNmzY1WrZsaR8n+zv14YcfNnbu3Gl8/vnnhpubmxEZGWk8/fTTxp49e4zZs2cbkozNmzfb17va92BGRoYxbdo0o1KlSvZ4zpw5YxiG4/eIzWYzmjdvbjRq1Mj46quvjP379xv//ve/jTVr1ji8Vj8/P2POnDlXfF+LMxLyUqh3795G69atjX379jk8Tp48ae9z+ZfXqFGjck3gLRaLERsbaxw7dsyQ5PCj+E9XSshr167t0Pbuu+8aISEhOdb38fEx/vWvf9nXa9iwocPyt99+2wgNDbU/v/wPqSVLlhhWq9XIzMy85nuTl/7ZCcrlBxKyvxyzf8CrVq1qeHh4OLxfHh4ehiTj7Nmzxuuvv24EBQVdMYY5c+YYbm5uRrVq1eyvA8jN5QlKly5djFdeecUYP3680bVrV8MwjBwJ+W+//Wb06NHDCA0NNSpWrGhUqFDBkGR88cUXhmFcOyFv1qyZ4ebm5vDZLl++vCHJ2LVrl7Fy5UqjXLlyDsmRYfy9D18pIc/rd8inn37q0FapUiX798LDDz9suLq65viekmSsWbPG+OGHHwxJxh9//JHr+Nmvu0aNGkbz5s2Nc+fOXTEWmOefB5QlGQEBAcbWrVuvut6bb75pNG3a1P48Pwd2P/jgA8Pb29vYsGHDVbfxz33l8nGaNGlyzde2dOlSo0qVKvbnc+bMMSQZv//+u70tJibG8PPzMwzj7+RG0hXj2rZtmyHJSExMtLdd62CxYfy9rw0bNuya8d58883GhAkTrtnvgQceMEaOHGl/fq2EPDuGf/7NcOeddxpPPvmkQ1u3bt2M9u3bO6x3+YG7+Ph4Q5Lx8ccf29sWLVpkeHh4XDXmRo0aGe+///5VY/5nchMeHm5ERUVdddxVq1YZLi4uOb4fy4rs7+EVK1Zcs29un8O8THaUK1fO+PPPP+3L165de8WE3DCuvN/+U8+ePY2IiIhrxp3tSge7p02b5tAvICDAeOONN+zPL168aNSoUeOqCflnn31mWK3Wa07U/PTTT4YkexJ7rYTcMP7+brz55psd+hR0siwyMtIICQlx+LzXq1fPmDx58hVjzu178J8xG4bjPnmtSa5sTZo0cTj4WJKYf4EFnKJChQo5Tge9kvT0dDVt2jTX0/SqVasmF5eCX9lQoUKFAq3n6urq8NxisVzxlFtPT898jZ3X/pfHkH26T3YM6enpio6OVpcuXXKs5+HhkadtuLu7q3Xr1lq9erWee+45h9MCgdz069fPfup4TExMrn06duyo4OBgffjhhwoMDFRWVpZuuummPF/Xmp6eroEDB+ZaSCYoKChfRY6yFWSfkxz3+/T0dHXs2FGvv/56jvUCAgL0xx9/5Gkb7du31/z58xUfH6977703T+ugaN1zzz2aPn26JOnUqVOKjY1Vu3bt9OOPPyo4OFiStGTJEr333nvav3+/0tPTdenSJVWqVMlhnJCQEIdiZAEBATkurVi2bJmOHz+uTZs26bbbbitwzE2bNs3R9s0332jy5Mnas2eP0tLSdOnSJV24cEHnzp2zXxtZvnx53XjjjbnG6Ovrqz59+igyMlJt2rRR69at9cgjjyggIOCKcfzyyy/atGmTw2mjNpstx3abNWt2zdd0/vx5e+2Xy8d67bXX9Omnn+rPP/9UZmamMjIyCnz9+uV2796do4hTRESE3n33XYe2sLAw+/9nX5KSffp+dtuFCxeUlpamSpUqKT09Xa+88oq++OILHT16VJcuXdL58+fzXTti+/btevLJJ6/ax9PTU1lZWcrIyMj33yalgXGNU7H/6Z+fw2t9fnfv3q2aNWsqMDDQvjw8PPz6gv5/27dvV7du3a64fN++fXr55Zf1ww8/6K+//rL/Nh08eNDhriWXv6bU1FQdPXpUd9xxh72tXLlyatas2VXfq/Pnz8vd3d3+t2e2rVu36pVXXtEvv/yiU6dOOcTQsGHD/L3gy2S/rzVr1rS3NWzYUD4+Ptq9e7f9u/Gf36l+fn6yWq0OeYKfn5/D92xevgevZfv27apRo4bq1q171X6enp46d+5cnsYsbriGHLr11lu1b98+Va9eXbVr13Z4eHt7q2LFigoJCblqdUxXV1fZbLZrbqtBgwY6dOiQDh06ZG/btWuXTp8+XeAvk8aNGysrK0sbN250Sv/c3Hrrrdq7d2+O96t27dpycXFRWFiYDh8+fNXkxcXFRfPmzVPTpk11zz336MiRIwWOB2VDdl2H7LoP/3Ty5Ent3btXY8eO1X333acGDRrYr3/Lq1tvvVW7du3K9bPt5uam+vXr69KlS9q6dat9nb179161gm1evkPyEtfOnTsVEhKSI64KFSqoTp068vT0vOY2Bg8erClTpujBBx+8ru8AOE/2AeXatWvrtttu00cffaSzZ8/qww8/lCTFx8crKipK7du31+rVq7Vt2zaNGTMmx0GnvBzYbdKkiapVq6bZs2fnO5n4Z8yXO3DggDp06KCwsDAtX75cW7dutR9EuzzO3GK8PI45c+YoPj5ed955p5YsWaK6des6XIf7T9kHi7dv325/7NixQ/v27XNIrvNysLxq1ao5vj/efPNNvfvuu3rhhRf07bffavv27YqMjHR4TS4uLjney8Iq2CXlfrD8agfQR40apc8++0yvvfaavvvuO23fvl2NGzfOd/G9vCTYKSkpqlChQplMxiWpTp06slgs2rNnT576//NzmNfPrzNc69+sY8eOSklJ0YcffqgffvhBP/zwg6ScRRwLOhF1uapVq+rcuXMOY589e1aRkZGqVKmSFixYoJ9++kmfffaZQwxFue9Jf+9rV/uezev34LXkdX9KSUlRtWrV8jxucUJCXkplZGQoOTnZ4XF5NeLLRUVFqWrVqurUqZO+++47JSYmasOGDXrmmWd0+PBhSX8Xc5g6daree+897du3Tz///LPef/99+xjZf2wnJydfNQFo3bq1GjdurKioKP3888/68ccf1atXL7Vs2TJPR+xzExISot69e6tfv35auXKlPf5PP/20UPrn5uWXX9Ynn3yi6Oho7dy5U7t379bixYs1duxYSVLLli3VokULde3aVV9//bUSExO1du1arVu3zmEcq9WqBQsW6Oabb9a9996r5OTkAr0HKBusVqt2796tXbt25VogsHLlyqpSpYpmzZql33//Xf/5z380YsSIfG3jhRde0H//+1899dRT2r59u/bt26dVq1bZZ+br1auntm3bauDAgfrhhx+0detWPfHEE9f8wbzWd8i1DB06VCkpKerZs6d++ukn7d+/X19++aX69u0rm80mDw8PvfDCC3r++ef1ySefaP/+/dq8eXOud1t4+umnNXHiRHXo0EHff/99vt4fFD2LxSIXFxf7bf/++9//Kjg4WGPGjFGzZs1Up04dJSUlFWjsG2+8Ud9++61WrVqlp59++qp93dzcJClPB5+3bt2qrKwsTZ06Vc2bN1fdunULfNC1SZMmGj16tP773//qpptu0sKFC6/Y91oHi/O73V27djm0bdq0SZ06ddJjjz2mm2++WbVq1cpx4LlatWoOhenS0tKUmJjo0Ce3g/gNGjTQpk2bcmzvemb+ssfo06ePHnroITVu3Fj+/v457iLj5uZ2zX/XsLCwax7w+/XXX3Pc+aIs8fX1VWRkpGJiYhzuzJHtWrceu9bnN3tS5/LP19UOUEl532+v9u9b0IPd3t7eCggIsCfvknIc0M5N9m3JLt//9uzZo5MnT2rKlCm6++67Vb9+/Rxn/FSrVk1nzpxxeO//eUeV3D7rzpgsk/L2PZjXfe9ak1wXLlzQ/v37S+z+R0JeSq1bt04BAQEOj7vuuivXvuXLl1dcXJyCgoLUpUsXNWjQQP3799eFCxfspwD27t1b06ZNU2xsrBo1aqQOHTpo37599jGmTp2qr7/+WjVr1rzqzmCxWLRq1SpVrlxZLVq0UOvWrVWrVi0tWbLkul7v9OnT9fDDD2vIkCGqX7++nnzyyVx/DAra/58iIyO1evVqffXVV7rtttvUvHlzvfPOO/bTKSVp+fLluu2229SzZ081bNhQzz//fK5fOuXKldOiRYvUqFEj3XvvvdesVo2yrVKlSjlOzc3m4uKixYsXa+vWrbrppps0fPhwvfnmm/kaPywsTBs3btRvv/2mu+++W02aNNHLL7/scIrgnDlzFBgYqJYtW6pLly4aMGDANW8PdK3vkGsJDAzUpk2bZLPZdP/996tx48YaNmyYfHx87InGuHHjNHLkSL388stq0KCBunfvfsX9adiwYYqOjlb79u313//+N89xwPkuP6C8e/fu/2vv7oOiqt44gH9XYZcFBJREoWBXXVFKxZhERauhHLHGl0IbDVNSKdQmLQOUNEBNJRqhUNHM2kVSC0WRYRqVSIoMG9SRTFdDBNOkFPMNSQV5fn843J8rIC++bNb3M8MMe8+555x72b3Mc8+5z+LNN99UHlkAbszC/fbbb/jyyy9RUlKC5ORkZaaoNby9vbFz505kZGRYfJ3mrXQ6HVQqFbKzs3HmzBmLjOm3MhgMqK6uxrJly3Ds2DGkpaVh1apVLRpXaWkpoqOjUVBQgOPHj2PHjh0oLi6Gj49Po/s0dbO4JYKCglBQUGDxf6t79+7IycnBjz/+CLPZjPDwcItMzADwzDPPIC0tDfn5+Thw4ABCQ0Pr3UBs6CZ+ZGQkTCYTVq5cieLiYiQmJmLz5s2IiIho8dhv1r17d+WbXoqKihASElJvpYRer8f333+P33//vdHJi9jYWGzYsAGxsbEwm804cOBAvUdo8vPzMXTo0Dsa74NuxYoVuH79Ovz9/ZGRkYHi4mKYzWYkJyc3uby8qffvkCFD4O3tjdDQUBQVFSE/Px9z5869bZvN/dxGR0ejsLAQ06dPx88//4zDhw9j5cqVqKiouKOb3TNnzkR8fDwyMzNx+PBhTJ8+vckbEx07doSfn5/FDWMvLy+o1WrlmpKVlYWFCxda7Ne/f3/Y29vj3XffRUlJCdavX69kUa+j1+tRWlqK/fv3o6KiAlevXr0nk2VA866Der0elZWVyM3NRUVFRYNLzpszybV7925oNJq79gjDfWfNB9iJiIiI6oSGhgoA5addu3bSr18/2bRpk0W9yMhIcXV1FUdHRxk7dqwkJSVZJAZqKHFRUlKSRQbsm5ODiogcOnRI3NzcZNasWY2Ob8GCBdK5c2dRqVRKMsVb26mTmJgo7u7uotVqJSgoSNauXWuRXKqpBEx//PGHvPDCC+Lu7i5qtVp0Op3ExMQoCZQaSuomIrJt2zYJCAgQrVYrTk5O4u/vL6tXr1bK0UBCtYZUV1eLh4eHbNu2Tdl29uxZGTVqlDg6Ooqbm5vMmzdPJk6caJGg6sKFCzJ27FhxcnIST09PMZlM9ZK6ZWVlicFgEBsbG4u/SUpKinTt2lVsbW3F29tb1q5dazGmW8d+awIvkfpJvEpLSyUwMFC0Wq14enrK8uXL6/3NCgoKpE+fPqLRaJTz39DfJyMjQ/r27StqtVoeeughCQ4OVspOnjwptra2cuLEiSbP7b/dqVOn5I033hCdTidqtVoefvhhGTlypOzcuVOp09j7sKn375EjR2Tw4MGiVqvF29tbtm3bdtukbiINf24bkpeXJwEBAaLRaMTFxUWCgoKU91FOTo74+PiIRqORPn36SF5eXpP9itz4HM2cOVOcnJzExcVFZs2aVe8z05CUlBQZMGCAxbb169eLXq8XjUYjAwcOlKysrHp9btmyRQwGg2i1Whk+fLisXr3aIqnblStXZPTo0eLi4qJ824GIyPHjx2XkyJHi4OAg7dq1k5deeskiy3tD19RbvxVDpP71sKnroIjI1KlTxdXVVQAo14lbEy2ePXtWJk2aJK6urmJnZye9evWS7Oxspfz111+X8PDw257TfzKVyB08NEVERERE/0orVqxAVlYWtm/fbu2h/OPNnj0b586dw+rVq609FPoX+Pvvv9GjRw989dVXD+6s731SUVGBHj16YM+ePejSpYu1h9MqzLJORERERPWEh4fj/PnzuHTpkkV2ZarPzc2txTk7iBqj1Wqxdu3aRh+hoP8rKytDSkrKAxuMAwBnyImIiIiIiIisgEndiIiIiIiIiKyAATkRERERERGRFTAgJyIiIiIiIrICBuREREREREREVsCAnIiIiIiIiMgKGJATERHRP1pcXBz69u1719vNy8uDSqXC+fPn73rbREREzcGAnIiIqBVeffVVqFQqqFQqqNVqGAwGLFiwADU1NdYe2h0zmUxwcXFpVj2VSgUfH596ZRs3boRKpYJer29R3yqVCpmZmS3ah4iI6EHFgJyIiKiVhg0bhvLychQXF+Odd95BXFwcPvzwQ2sP675ycHDA6dOnUVBQYLH9s88+g5eXl5VGRURE9GBgQE5ERNRKGo0GnTt3hk6nw7Rp0zBkyBBkZWUBABITE9G7d284ODjA09MT06dPR2VlJQDg8uXLcHJywqZNmyzay8zMhIODAy5duoSysjKoVCqkp6fjySefhFarRb9+/fDrr7+isLAQTzzxBBwdHfHcc8/hzJkzFu2sWbMGPj4+sLOzQ8+ePZGSkqKU1bW7efNmBAYGwt7eHr6+vkpAnZeXh0mTJuHChQvKCoC4uLhGz4GNjQ1CQkLw+eefK9tOnjyJvLw8hISE1Ku/detW+Pn5wc7ODl27dsX8+fOVVQV1s+kvvvhig7PraWlp0Ov1cHZ2xrhx43Dp0iWl7OrVq5gxYwbc3NxgZ2eHwYMHo7Cw0GL/r7/+Gt7e3tBqtQgMDERZWVmjx0VERHQ/MCAnIiK6S7RaLa5duwYAaNOmDZKTk3Hw4EGkpqbi22+/RVRUFIAbs8rjxo2D0Wi02N9oNGLMmDFo166dsi02Nhbz5s3Dvn37lOA3KioKH3/8MfLz83H06FHExMQo9detW4eYmBgsWrQIZrMZixcvxnvvvYfU1FSLvubOnYuIiAjs378f3t7eePnll1FTU4OAgAB89NFHcHJyQnl5OcrLyxEREXHb4548eTLS09NRVVUF4MZS9mHDhqFTp04W9fLz8zFx4kTMnDkThw4dwieffAKTyYRFixYBgBJAG41GlJeXWwTUJSUlyMzMRHZ2NrKzs/Hdd98hPj5eKY+KikJGRgZSU1Oxb98+GAwGBAUF4a+//gIAnDhxAsHBwRgxYgT279+PsLAwzJkz57bHRUREdM8JERERtVhoaKiMGjVKRERqa2slJydHNBqNRERENFh/48aN4urqqrz+6aefpG3btnLq1CkREfnzzz/FxsZG8vLyRESktLRUAMiaNWuUfTZs2CAAJDc3V9m2ZMkS6dGjh/K6W7dusn79eou+Fy5cKAMHDmy03YMHDwoAMZvNIiJiNBrF2dm5yXNwc72+fftKamqq1NbWSrdu3WTr1q2SlJQkOp1Oqf/ss8/K4sWLLdpIS0sTd3d35TUA2bJli0Wd2NhYsbe3l4sXLyrbIiMjpX///iIiUllZKba2trJu3Tql/Nq1a+Lh4SEJCQkiIhIdHS2PPvqoRbuzZ88WAHLu3Lkmj5WIiOhesLHmzQAiIqIHWXZ2NhwdHVFdXY3a2lqEhIQoy7u/+eYbLFmyBIcPH8bFixdRU1ODK1euoKqqCvb29vD398djjz2G1NRUzJkzB1988QV0Oh2eeuopiz769Omj/F4349y7d2+LbadPnwZwYyl8SUkJpkyZgtdee02pU1NTA2dn50bbdXd3BwCcPn0aPXv2bNW5mDx5MoxGI7y8vHD58mU8//zzWL58uUWdoqIi7Nq1S5kRB4Dr169bnJfG6PV6i5UD7u7uynGXlJSguroagwYNUsptbW3h7+8Ps9kMADCbzejfv79FmwMHDmzVsRIREd0tDMiJiIhaKTAwECtXroRarYaHhwdsbG78Wy0rK8Pw4cMxbdo0LFq0CB06dMAPP/yAKVOm4Nq1a0rgGRYWhhUrVmDOnDkwGo2YNGkSVCqVRR+2trbK73Vlt26rra0FAOUZ9U8//bRe8Nm2bdsm261rpzXGjx+PqKgoxMXFYcKECcq5uFllZSXmz5+P4ODgemV2dna3bf/m8daN+U7GS0RE9E/AgJyIiKiVHBwcYDAY6m3fu3cvamtrsXTpUrRpcyNdS3p6er16r7zyCqKiopCcnIxDhw4hNDT0jsbTqVMneHh44NixYxg/fnyr21Gr1bh+/XqL9unQoQNGjhyJ9PR0rFq1qsE6fn5+OHLkSIPnrI6trW2L++7WrRvUajV27doFnU4HAKiurkZhYSHeeustAICPj4+ScK/O7t27W9QPERHR3caAnIiI6C4zGAyorq7GsmXLMGLECOzatavBILV9+/YIDg5GZGQkhg4dikceeeSO+54/fz5mzJgBZ2dnDBs2DFevXsWePXtw7tw5zJo1q1lt6PV6VFZWIjc3F76+vrC3t7/tcvI6JpMJKSkpcHV1bbA8JiYGw4cPh5eXF8aMGYM2bdqgqKgIv/zyC95//32l79zcXAwaNAgajQbt27dvsl8HBwdMmzYNkZGR6NChA7y8vJCQkICqqipMmTIFADB16lQsXboUkZGRCAsLw969e2EymZp1PoiIiO4VZlknIiK6y3x9fZGYmIgPPvgAvXr1wrp167BkyZIG69YtY588efJd6TssLAxr1qyB0WhE79698fTTT8NkMqFLly7NbiMgIABTp07F2LFj0bFjRyQkJDRrP61W22gwDgBBQUHIzs7Gjh070K9fPwwYMABJSUnKrDYALF26FDk5OfD09MTjjz/e7DHHx8dj9OjRmDBhAvz8/HD06FFs375dCei9vLyQkZGBzMxM+Pr6YtWqVVi8eHGz2yciIroXVCIi1h4EERHRf1VaWhrefvttnDp1Cmq12trDISIiovuIS9aJiIisoKqqCuXl5YiPj0d4eDiDcSIiov8gLlknIiKygoSEBPTs2ROdO3dGdHS0tYdDREREVsAl60RERERERERWwBlyIiIiIiIiIitgQE5ERERERERkBQzIiYiIiIiIiKyAATkRERERERGRFTAgJyIiIiIiIrICBuREREREREREVsCAnIiIiIiIiMgKGJATERERERERWcH/AFq/6WTWin0HAAAAAElFTkSuQmCC",
      "text/plain": [
       "<Figure size 1200x600 with 1 Axes>"
>>>>>>> 3f3b77ef44614fdfaf8118faf47d0d0d9d6f8c5e
      ]
     },
     "metadata": {},
     "output_type": "display_data"
    }
   ],
   "source": [
    "# Box plot of Tenure vs. MonthlyCharges vs churn\n",
<<<<<<< HEAD
    "plt.figure(figsize=(14, 6))\n",
    "sns.boxplot(data=valid_data, x='PaymentMethod', y='tenure', hue='Churn')\n",
    "plt.title('Tenure vs. paymentmethod by Churn')\n",
    "plt.xlabel('Payment Method')\n",
    "plt.ylabel('Tenure (Months)')\n",
    "plt.legend(bbox_to_anchor=(1.05, 1), loc=2, borderaxespad=0.)\n",
=======
    "plt.figure(figsize=(12, 6))\n",
    "sns.boxplot(data=train_df, x='paymentmethod', y='tenure', hue='churn')\n",
    "plt.title('Tenure vs. paymentmethod by Churn')\n",
    "plt.xlabel('Payment Method')\n",
    "plt.ylabel('Tenure (Months)')\n",
    "plt.legend(title='churn')\n",
>>>>>>> 3f3b77ef44614fdfaf8118faf47d0d0d9d6f8c5e
    "plt.show()"
   ]
  },
  {
<<<<<<< HEAD
   "cell_type": "code",
   "execution_count": 104,
   "metadata": {},
   "outputs": [],
   "source": [
    "# model = GaussianNB()\n",
    "\n",
    "# train, test = train_test_split(df, test_size = 0.3)\n",
    "\n",
    "# target = train['churn'].values\n",
    "# train = train.drop('churn', 1)\n",
    "# train = train.values\n",
    "# model.fit(train, target)\n",
    "\n",
    "# expected = test['churn'].values\n",
    "# test = test.drop('churn', 1)\n",
    "# predicted = model.predict(test)\n",
    "# print(\"Naive Bayes Classification Accuracy\", accuracy_score(expected, predicted))"
=======
   "cell_type": "markdown",
   "id": "85ce8d88",
   "metadata": {},
   "source": [
    "#### Key Insights\n",
    "1. I observed that many categorical columns contain values such as \"NO,\" \"Yes,\" \"False,\" and \"True.\" I will update all \"True\" values to \"Yes\" and all \"False\" values to \"No.\"\n",
    "2. I standardized the case of all columns in the DataFrame to lowercase letters for uniformity.\n",
    "3. "
   ]
  },
  {
   "cell_type": "markdown",
   "id": "fa5645d8",
   "metadata": {},
   "source": [
    "Using the Label Encoder to encode my categorical columns"
>>>>>>> 3f3b77ef44614fdfaf8118faf47d0d0d9d6f8c5e
   ]
  },
  {
   "cell_type": "code",
<<<<<<< HEAD
   "execution_count": null,
=======
   "execution_count": 37,
   "id": "22af0e5e",
>>>>>>> 3f3b77ef44614fdfaf8118faf47d0d0d9d6f8c5e
   "metadata": {},
   "outputs": [],
   "source": [
    "# # Initialize LabelEncoder\n",
    "# label_encoder = LabelEncoder()\n",
    "\n",
    "# # List of columns to encode\n",
    "# columns_to_encode = ['gender', 'partner', 'dependents',\n",
    "#                      'phoneservice', 'multiplelines', 'internetservice',\n",
    "#                      'onlinesecurity', 'onlinebackup', 'deviceprotection',\n",
    "#                      'techsupport', 'streamingtv', 'streamingmovies',\n",
    "#                      'contract', 'paperlessbilling', 'paymentmethod', 'churn']\n",
    "\n",
    "# # Encode each column\n",
    "# for col in columns_to_encode:\n",
    "#     train_df[col + '_encoded'] = label_encoder.fit_transform(train_df[col])\n",
    "\n",
    "# train_df.head()"
   ]
  }
 ],
 "metadata": {
  "kernelspec": {
   "display_name": "Python 3 (ipykernel)",
   "language": "python",
   "name": "python3"
  },
  "language_info": {
   "codemirror_mode": {
    "name": "ipython",
    "version": 3
   },
   "file_extension": ".py",
   "mimetype": "text/x-python",
   "name": "python",
   "nbconvert_exporter": "python",
   "pygments_lexer": "ipython3",
   "version": "3.11.6"
  }
 },
 "nbformat": 4,
 "nbformat_minor": 5
}
